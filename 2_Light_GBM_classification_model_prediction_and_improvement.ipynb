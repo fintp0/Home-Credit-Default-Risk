{
 "cells": [
  {
   "cell_type": "markdown",
   "id": "3ed75e3d",
   "metadata": {
    "papermill": {
     "duration": 0.090478,
     "end_time": "2022-05-01T11:23:34.606800",
     "exception": false,
     "start_time": "2022-05-01T11:23:34.516322",
     "status": "completed"
    },
    "tags": []
   },
   "source": [
    "# Home Credit Default Risk\n",
    "\n",
    "\n",
    "#     Baseline and Improvement"
   ]
  },
  {
   "cell_type": "markdown",
   "id": "cfe45d12",
   "metadata": {
    "papermill": {
     "duration": 0.087568,
     "end_time": "2022-05-01T11:23:34.783123",
     "exception": false,
     "start_time": "2022-05-01T11:23:34.695555",
     "status": "completed"
    },
    "tags": []
   },
   "source": [
    "<!-- https://blog.ml.cmu.edu/2020/08/31/3-baselines/-->\n",
    "<div> <img src=\"./image/baseline.jpg\" alt=\"Drawing\" style=\"width: 650px;\"/></div>\n",
    "\n",
    "<!--![](./image/baseline.jpg) -->"
   ]
  },
  {
   "cell_type": "markdown",
   "id": "a392bcc0",
   "metadata": {
    "papermill": {
     "duration": 0.087862,
     "end_time": "2022-05-01T11:23:34.959602",
     "exception": false,
     "start_time": "2022-05-01T11:23:34.871740",
     "status": "completed"
    },
    "tags": []
   },
   "source": [
    "# Creating Baseline"
   ]
  },
  {
   "cell_type": "code",
   "execution_count": 1,
   "id": "b143627a",
   "metadata": {
    "_cell_guid": "b1076dfc-b9ad-4769-8c92-a6c4dae69d19",
    "_uuid": "8f2839f25d086af736a60e9eeb907d3b93b6e0e5",
    "execution": {
     "iopub.execute_input": "2022-05-01T11:23:35.138728Z",
     "iopub.status.busy": "2022-05-01T11:23:35.138248Z",
     "iopub.status.idle": "2022-05-01T11:23:37.184425Z",
     "shell.execute_reply": "2022-05-01T11:23:37.183511Z"
    },
    "papermill": {
     "duration": 2.138727,
     "end_time": "2022-05-01T11:23:37.187199",
     "exception": false,
     "start_time": "2022-05-01T11:23:35.048472",
     "status": "completed"
    },
    "tags": []
   },
   "outputs": [],
   "source": [
    "import numpy as np\n",
    "import pandas as pd\n",
    "import re\n",
    "import pickle\n",
    "import gc\n",
    "import os \n",
    "\n",
    "# scikit-learn\n",
    "from sklearn.preprocessing import OneHotEncoder, LabelEncoder\n",
    "from sklearn.model_selection import StratifiedKFold\n",
    "from sklearn.metrics import roc_auc_score\n",
    "\n",
    "# LightGBM\n",
    "import lightgbm as lgb\n",
    "\n",
    "import warnings\n",
    "warnings.filterwarnings(\"ignore\")"
   ]
  },
  {
   "cell_type": "code",
   "execution_count": 2,
   "id": "6ceff95c",
   "metadata": {},
   "outputs": [],
   "source": [
    "###################################################################################\n",
    "# The `reduce_mem_usage()` function is commonly used in Kaggle competitions to \n",
    "# reduce the memory usage of a pandas DataFrame. It optimizes the data types of \n",
    "# the DataFrame columns to occupy less memory without losing significant information. \n",
    "# This helps in handling large datasets efficiently, improving performance and \n",
    "# avoiding memory limitations.\n",
    "###################################################################################\n",
    "\n",
    "def reduce_mem_usage(df):\n",
    "    start_mem = df.memory_usage().sum() / 1024**2\n",
    "    print('Memory usage of dataframe is {:.2f} MB'.format(start_mem))\n",
    "    \n",
    "    for col in df.columns:\n",
    "        col_type = df[col].dtype\n",
    "        \n",
    "        if col_type != object:\n",
    "            c_min = df[col].min()\n",
    "            c_max = df[col].max()\n",
    "            if str(col_type)[:3] == 'int':\n",
    "                if c_min > np.iinfo(np.int8).min and c_max < np.iinfo(np.int8).max:\n",
    "                    df[col] = df[col].astype(np.int8)\n",
    "                elif c_min > np.iinfo(np.int16).min and c_max < np.iinfo(np.int16).max:\n",
    "                    df[col] = df[col].astype(np.int16)\n",
    "                elif c_min > np.iinfo(np.int32).min and c_max < np.iinfo(np.int32).max:\n",
    "                    df[col] = df[col].astype(np.int32)\n",
    "                elif c_min > np.iinfo(np.int64).min and c_max < np.iinfo(np.int64).max:\n",
    "                    df[col] = df[col].astype(np.int64)  \n",
    "            else:\n",
    "                if c_min > np.finfo(np.float16).min and c_max < np.finfo(np.float16).max:\n",
    "                    df[col] = df[col].astype(np.float16)\n",
    "                elif c_min > np.finfo(np.float32).min and c_max < np.finfo(np.float32).max:\n",
    "                    df[col] = df[col].astype(np.float32)\n",
    "                else:\n",
    "                    df[col] = df[col].astype(np.float64)\n",
    "        else:\n",
    "            pass\n",
    "\n",
    "    end_mem = df.memory_usage().sum() / 1024**2\n",
    "    print('Memory usage after optimization is: {:.2f} MB'.format(end_mem))\n",
    "    print('Decreased by {:.1f}%'.format(100 * (start_mem - end_mem) / start_mem))\n",
    "    \n",
    "    return df\n"
   ]
  },
  {
   "cell_type": "code",
   "execution_count": 3,
   "id": "bbab860c",
   "metadata": {
    "execution": {
     "iopub.execute_input": "2022-05-01T11:23:37.540951Z",
     "iopub.status.busy": "2022-05-01T11:23:37.540459Z",
     "iopub.status.idle": "2022-05-01T11:23:44.822164Z",
     "shell.execute_reply": "2022-05-01T11:23:44.821110Z"
    },
    "papermill": {
     "duration": 7.373119,
     "end_time": "2022-05-01T11:23:44.824501",
     "exception": false,
     "start_time": "2022-05-01T11:23:37.451382",
     "status": "completed"
    },
    "tags": []
   },
   "outputs": [
    {
     "name": "stdout",
     "output_type": "stream",
     "text": [
      "Memory usage of dataframe is 286.23 MB\n",
      "Memory usage after optimization is: 92.38 MB\n",
      "Decreased by 67.7%\n",
      "(307511, 122)\n"
     ]
    },
    {
     "data": {
      "text/html": [
       "<div>\n",
       "<style scoped>\n",
       "    .dataframe tbody tr th:only-of-type {\n",
       "        vertical-align: middle;\n",
       "    }\n",
       "\n",
       "    .dataframe tbody tr th {\n",
       "        vertical-align: top;\n",
       "    }\n",
       "\n",
       "    .dataframe thead th {\n",
       "        text-align: right;\n",
       "    }\n",
       "</style>\n",
       "<table border=\"1\" class=\"dataframe\">\n",
       "  <thead>\n",
       "    <tr style=\"text-align: right;\">\n",
       "      <th></th>\n",
       "      <th>SK_ID_CURR</th>\n",
       "      <th>TARGET</th>\n",
       "      <th>NAME_CONTRACT_TYPE</th>\n",
       "      <th>CODE_GENDER</th>\n",
       "      <th>FLAG_OWN_CAR</th>\n",
       "      <th>FLAG_OWN_REALTY</th>\n",
       "      <th>CNT_CHILDREN</th>\n",
       "      <th>AMT_INCOME_TOTAL</th>\n",
       "      <th>AMT_CREDIT</th>\n",
       "      <th>AMT_ANNUITY</th>\n",
       "      <th>...</th>\n",
       "      <th>FLAG_DOCUMENT_18</th>\n",
       "      <th>FLAG_DOCUMENT_19</th>\n",
       "      <th>FLAG_DOCUMENT_20</th>\n",
       "      <th>FLAG_DOCUMENT_21</th>\n",
       "      <th>AMT_REQ_CREDIT_BUREAU_HOUR</th>\n",
       "      <th>AMT_REQ_CREDIT_BUREAU_DAY</th>\n",
       "      <th>AMT_REQ_CREDIT_BUREAU_WEEK</th>\n",
       "      <th>AMT_REQ_CREDIT_BUREAU_MON</th>\n",
       "      <th>AMT_REQ_CREDIT_BUREAU_QRT</th>\n",
       "      <th>AMT_REQ_CREDIT_BUREAU_YEAR</th>\n",
       "    </tr>\n",
       "  </thead>\n",
       "  <tbody>\n",
       "    <tr>\n",
       "      <th>277817</th>\n",
       "      <td>421871</td>\n",
       "      <td>0</td>\n",
       "      <td>Cash loans</td>\n",
       "      <td>F</td>\n",
       "      <td>N</td>\n",
       "      <td>Y</td>\n",
       "      <td>1</td>\n",
       "      <td>90000.0</td>\n",
       "      <td>315000.0</td>\n",
       "      <td>20259.0</td>\n",
       "      <td>...</td>\n",
       "      <td>0</td>\n",
       "      <td>0</td>\n",
       "      <td>0</td>\n",
       "      <td>0</td>\n",
       "      <td>0.0</td>\n",
       "      <td>0.0</td>\n",
       "      <td>0.0</td>\n",
       "      <td>1.0</td>\n",
       "      <td>0.0</td>\n",
       "      <td>1.0</td>\n",
       "    </tr>\n",
       "    <tr>\n",
       "      <th>299164</th>\n",
       "      <td>446578</td>\n",
       "      <td>1</td>\n",
       "      <td>Cash loans</td>\n",
       "      <td>F</td>\n",
       "      <td>N</td>\n",
       "      <td>Y</td>\n",
       "      <td>0</td>\n",
       "      <td>135000.0</td>\n",
       "      <td>232434.0</td>\n",
       "      <td>10368.0</td>\n",
       "      <td>...</td>\n",
       "      <td>0</td>\n",
       "      <td>0</td>\n",
       "      <td>0</td>\n",
       "      <td>0</td>\n",
       "      <td>0.0</td>\n",
       "      <td>0.0</td>\n",
       "      <td>0.0</td>\n",
       "      <td>0.0</td>\n",
       "      <td>0.0</td>\n",
       "      <td>1.0</td>\n",
       "    </tr>\n",
       "    <tr>\n",
       "      <th>179485</th>\n",
       "      <td>307989</td>\n",
       "      <td>0</td>\n",
       "      <td>Cash loans</td>\n",
       "      <td>F</td>\n",
       "      <td>N</td>\n",
       "      <td>Y</td>\n",
       "      <td>0</td>\n",
       "      <td>157500.0</td>\n",
       "      <td>263686.5</td>\n",
       "      <td>16258.5</td>\n",
       "      <td>...</td>\n",
       "      <td>0</td>\n",
       "      <td>0</td>\n",
       "      <td>0</td>\n",
       "      <td>0</td>\n",
       "      <td>0.0</td>\n",
       "      <td>0.0</td>\n",
       "      <td>0.0</td>\n",
       "      <td>0.0</td>\n",
       "      <td>0.0</td>\n",
       "      <td>6.0</td>\n",
       "    </tr>\n",
       "    <tr>\n",
       "      <th>306292</th>\n",
       "      <td>454871</td>\n",
       "      <td>0</td>\n",
       "      <td>Revolving loans</td>\n",
       "      <td>F</td>\n",
       "      <td>N</td>\n",
       "      <td>Y</td>\n",
       "      <td>0</td>\n",
       "      <td>180000.0</td>\n",
       "      <td>180000.0</td>\n",
       "      <td>9000.0</td>\n",
       "      <td>...</td>\n",
       "      <td>0</td>\n",
       "      <td>0</td>\n",
       "      <td>0</td>\n",
       "      <td>0</td>\n",
       "      <td>0.0</td>\n",
       "      <td>0.0</td>\n",
       "      <td>0.0</td>\n",
       "      <td>0.0</td>\n",
       "      <td>0.0</td>\n",
       "      <td>4.0</td>\n",
       "    </tr>\n",
       "    <tr>\n",
       "      <th>214591</th>\n",
       "      <td>348660</td>\n",
       "      <td>0</td>\n",
       "      <td>Cash loans</td>\n",
       "      <td>M</td>\n",
       "      <td>N</td>\n",
       "      <td>Y</td>\n",
       "      <td>0</td>\n",
       "      <td>144000.0</td>\n",
       "      <td>276277.5</td>\n",
       "      <td>15115.5</td>\n",
       "      <td>...</td>\n",
       "      <td>0</td>\n",
       "      <td>0</td>\n",
       "      <td>0</td>\n",
       "      <td>0</td>\n",
       "      <td>0.0</td>\n",
       "      <td>0.0</td>\n",
       "      <td>1.0</td>\n",
       "      <td>0.0</td>\n",
       "      <td>0.0</td>\n",
       "      <td>1.0</td>\n",
       "    </tr>\n",
       "    <tr>\n",
       "      <th>173697</th>\n",
       "      <td>301298</td>\n",
       "      <td>0</td>\n",
       "      <td>Cash loans</td>\n",
       "      <td>F</td>\n",
       "      <td>Y</td>\n",
       "      <td>Y</td>\n",
       "      <td>2</td>\n",
       "      <td>225000.0</td>\n",
       "      <td>510853.5</td>\n",
       "      <td>43974.0</td>\n",
       "      <td>...</td>\n",
       "      <td>0</td>\n",
       "      <td>0</td>\n",
       "      <td>0</td>\n",
       "      <td>0</td>\n",
       "      <td>0.0</td>\n",
       "      <td>0.0</td>\n",
       "      <td>0.0</td>\n",
       "      <td>0.0</td>\n",
       "      <td>0.0</td>\n",
       "      <td>2.0</td>\n",
       "    </tr>\n",
       "    <tr>\n",
       "      <th>250182</th>\n",
       "      <td>389467</td>\n",
       "      <td>0</td>\n",
       "      <td>Cash loans</td>\n",
       "      <td>F</td>\n",
       "      <td>Y</td>\n",
       "      <td>Y</td>\n",
       "      <td>0</td>\n",
       "      <td>112500.0</td>\n",
       "      <td>263686.5</td>\n",
       "      <td>26208.0</td>\n",
       "      <td>...</td>\n",
       "      <td>0</td>\n",
       "      <td>0</td>\n",
       "      <td>0</td>\n",
       "      <td>0</td>\n",
       "      <td>0.0</td>\n",
       "      <td>0.0</td>\n",
       "      <td>0.0</td>\n",
       "      <td>0.0</td>\n",
       "      <td>0.0</td>\n",
       "      <td>0.0</td>\n",
       "    </tr>\n",
       "    <tr>\n",
       "      <th>84861</th>\n",
       "      <td>198458</td>\n",
       "      <td>0</td>\n",
       "      <td>Cash loans</td>\n",
       "      <td>F</td>\n",
       "      <td>N</td>\n",
       "      <td>Y</td>\n",
       "      <td>1</td>\n",
       "      <td>360000.0</td>\n",
       "      <td>1288350.0</td>\n",
       "      <td>37800.0</td>\n",
       "      <td>...</td>\n",
       "      <td>0</td>\n",
       "      <td>0</td>\n",
       "      <td>0</td>\n",
       "      <td>0</td>\n",
       "      <td>0.0</td>\n",
       "      <td>0.0</td>\n",
       "      <td>0.0</td>\n",
       "      <td>0.0</td>\n",
       "      <td>0.0</td>\n",
       "      <td>2.0</td>\n",
       "    </tr>\n",
       "    <tr>\n",
       "      <th>156020</th>\n",
       "      <td>280863</td>\n",
       "      <td>0</td>\n",
       "      <td>Cash loans</td>\n",
       "      <td>F</td>\n",
       "      <td>N</td>\n",
       "      <td>Y</td>\n",
       "      <td>0</td>\n",
       "      <td>135000.0</td>\n",
       "      <td>450000.0</td>\n",
       "      <td>21888.0</td>\n",
       "      <td>...</td>\n",
       "      <td>0</td>\n",
       "      <td>0</td>\n",
       "      <td>0</td>\n",
       "      <td>0</td>\n",
       "      <td>0.0</td>\n",
       "      <td>0.0</td>\n",
       "      <td>0.0</td>\n",
       "      <td>0.0</td>\n",
       "      <td>0.0</td>\n",
       "      <td>0.0</td>\n",
       "    </tr>\n",
       "    <tr>\n",
       "      <th>284812</th>\n",
       "      <td>429848</td>\n",
       "      <td>0</td>\n",
       "      <td>Cash loans</td>\n",
       "      <td>F</td>\n",
       "      <td>N</td>\n",
       "      <td>Y</td>\n",
       "      <td>0</td>\n",
       "      <td>49500.0</td>\n",
       "      <td>85320.0</td>\n",
       "      <td>4891.5</td>\n",
       "      <td>...</td>\n",
       "      <td>0</td>\n",
       "      <td>0</td>\n",
       "      <td>0</td>\n",
       "      <td>0</td>\n",
       "      <td>0.0</td>\n",
       "      <td>0.0</td>\n",
       "      <td>0.0</td>\n",
       "      <td>1.0</td>\n",
       "      <td>0.0</td>\n",
       "      <td>3.0</td>\n",
       "    </tr>\n",
       "  </tbody>\n",
       "</table>\n",
       "<p>10 rows × 122 columns</p>\n",
       "</div>"
      ],
      "text/plain": [
       "        SK_ID_CURR  TARGET NAME_CONTRACT_TYPE CODE_GENDER FLAG_OWN_CAR  \\\n",
       "277817      421871       0         Cash loans           F            N   \n",
       "299164      446578       1         Cash loans           F            N   \n",
       "179485      307989       0         Cash loans           F            N   \n",
       "306292      454871       0    Revolving loans           F            N   \n",
       "214591      348660       0         Cash loans           M            N   \n",
       "173697      301298       0         Cash loans           F            Y   \n",
       "250182      389467       0         Cash loans           F            Y   \n",
       "84861       198458       0         Cash loans           F            N   \n",
       "156020      280863       0         Cash loans           F            N   \n",
       "284812      429848       0         Cash loans           F            N   \n",
       "\n",
       "       FLAG_OWN_REALTY  CNT_CHILDREN  AMT_INCOME_TOTAL  AMT_CREDIT  \\\n",
       "277817               Y             1           90000.0    315000.0   \n",
       "299164               Y             0          135000.0    232434.0   \n",
       "179485               Y             0          157500.0    263686.5   \n",
       "306292               Y             0          180000.0    180000.0   \n",
       "214591               Y             0          144000.0    276277.5   \n",
       "173697               Y             2          225000.0    510853.5   \n",
       "250182               Y             0          112500.0    263686.5   \n",
       "84861                Y             1          360000.0   1288350.0   \n",
       "156020               Y             0          135000.0    450000.0   \n",
       "284812               Y             0           49500.0     85320.0   \n",
       "\n",
       "        AMT_ANNUITY  ...  FLAG_DOCUMENT_18 FLAG_DOCUMENT_19 FLAG_DOCUMENT_20  \\\n",
       "277817      20259.0  ...                 0                0                0   \n",
       "299164      10368.0  ...                 0                0                0   \n",
       "179485      16258.5  ...                 0                0                0   \n",
       "306292       9000.0  ...                 0                0                0   \n",
       "214591      15115.5  ...                 0                0                0   \n",
       "173697      43974.0  ...                 0                0                0   \n",
       "250182      26208.0  ...                 0                0                0   \n",
       "84861       37800.0  ...                 0                0                0   \n",
       "156020      21888.0  ...                 0                0                0   \n",
       "284812       4891.5  ...                 0                0                0   \n",
       "\n",
       "       FLAG_DOCUMENT_21 AMT_REQ_CREDIT_BUREAU_HOUR AMT_REQ_CREDIT_BUREAU_DAY  \\\n",
       "277817                0                        0.0                       0.0   \n",
       "299164                0                        0.0                       0.0   \n",
       "179485                0                        0.0                       0.0   \n",
       "306292                0                        0.0                       0.0   \n",
       "214591                0                        0.0                       0.0   \n",
       "173697                0                        0.0                       0.0   \n",
       "250182                0                        0.0                       0.0   \n",
       "84861                 0                        0.0                       0.0   \n",
       "156020                0                        0.0                       0.0   \n",
       "284812                0                        0.0                       0.0   \n",
       "\n",
       "        AMT_REQ_CREDIT_BUREAU_WEEK  AMT_REQ_CREDIT_BUREAU_MON  \\\n",
       "277817                         0.0                        1.0   \n",
       "299164                         0.0                        0.0   \n",
       "179485                         0.0                        0.0   \n",
       "306292                         0.0                        0.0   \n",
       "214591                         1.0                        0.0   \n",
       "173697                         0.0                        0.0   \n",
       "250182                         0.0                        0.0   \n",
       "84861                          0.0                        0.0   \n",
       "156020                         0.0                        0.0   \n",
       "284812                         0.0                        1.0   \n",
       "\n",
       "        AMT_REQ_CREDIT_BUREAU_QRT  AMT_REQ_CREDIT_BUREAU_YEAR  \n",
       "277817                        0.0                         1.0  \n",
       "299164                        0.0                         1.0  \n",
       "179485                        0.0                         6.0  \n",
       "306292                        0.0                         4.0  \n",
       "214591                        0.0                         1.0  \n",
       "173697                        0.0                         2.0  \n",
       "250182                        0.0                         0.0  \n",
       "84861                         0.0                         2.0  \n",
       "156020                        0.0                         0.0  \n",
       "284812                        0.0                         3.0  \n",
       "\n",
       "[10 rows x 122 columns]"
      ]
     },
     "metadata": {},
     "output_type": "display_data"
    }
   ],
   "source": [
    "####################################################\n",
    "# train    = 'application_train.csv'\n",
    "# used in: \n",
    "# 1) baseline\n",
    "# 2) feature engineering 1\n",
    "\n",
    "#pos_cash = 'POS_CASH_balance.csv' \n",
    "# used in: \n",
    "# feature engineering 2\n",
    "\n",
    "# test     = 'application_test.csv'\n",
    "# used for: \n",
    "# kaggle submission\n",
    "####################################################\n",
    "\n",
    "dir_ = './data'\n",
    "\n",
    "train    = 'application_train.csv'\n",
    "test     = 'application_test.csv'\n",
    "pos_cash = 'POS_CASH_balance.csv' \n",
    "\n",
    "application_train = pd.read_csv(os.path.join(dir_, train))\n",
    "application_train = reduce_mem_usage(application_train)\n",
    "print(application_train.shape)\n",
    "display(application_train.sample(10))\n"
   ]
  },
  {
   "cell_type": "markdown",
   "id": "deeee3a1",
   "metadata": {
    "papermill": {
     "duration": 0.090576,
     "end_time": "2022-05-01T11:23:48.960918",
     "exception": false,
     "start_time": "2022-05-01T11:23:48.870342",
     "status": "completed"
    },
    "tags": []
   },
   "source": [
    "## Create dataset\n"
   ]
  },
  {
   "cell_type": "code",
   "execution_count": 4,
   "id": "a7a4e62a",
   "metadata": {
    "execution": {
     "iopub.execute_input": "2022-05-01T11:23:49.146150Z",
     "iopub.status.busy": "2022-05-01T11:23:49.145829Z",
     "iopub.status.idle": "2022-05-01T11:23:49.300335Z",
     "shell.execute_reply": "2022-05-01T11:23:49.299466Z"
    },
    "papermill": {
     "duration": 0.248249,
     "end_time": "2022-05-01T11:23:49.302666",
     "exception": false,
     "start_time": "2022-05-01T11:23:49.054417",
     "status": "completed"
    },
    "tags": []
   },
   "outputs": [
    {
     "name": "stdout",
     "output_type": "stream",
     "text": [
      "(307511, 122)\n",
      "(307511, 120)\n",
      "(307511,)\n"
     ]
    }
   ],
   "source": [
    "x_train = application_train.drop(columns=[\"TARGET\", \"SK_ID_CURR\"])\n",
    "y_train = application_train[\"TARGET\"]\n",
    "id_train = application_train[[\"SK_ID_CURR\"]]\n",
    "\n",
    "print(application_train.shape)\n",
    "print(x_train.shape)\n",
    "print(y_train.shape)"
   ]
  },
  {
   "cell_type": "markdown",
   "id": "f1825d77",
   "metadata": {
    "papermill": {
     "duration": 0.08938,
     "end_time": "2022-05-01T11:23:49.482167",
     "exception": false,
     "start_time": "2022-05-01T11:23:49.392787",
     "status": "completed"
    },
    "tags": []
   },
   "source": [
    "#### Convert category datatype"
   ]
  },
  {
   "cell_type": "code",
   "execution_count": 5,
   "id": "aa714e9a",
   "metadata": {
    "execution": {
     "iopub.execute_input": "2022-05-01T11:23:49.663340Z",
     "iopub.status.busy": "2022-05-01T11:23:49.662484Z",
     "iopub.status.idle": "2022-05-01T11:23:50.453008Z",
     "shell.execute_reply": "2022-05-01T11:23:50.452018Z"
    },
    "papermill": {
     "duration": 0.883679,
     "end_time": "2022-05-01T11:23:50.455402",
     "exception": false,
     "start_time": "2022-05-01T11:23:49.571723",
     "status": "completed"
    },
    "tags": []
   },
   "outputs": [
    {
     "name": "stdout",
     "output_type": "stream",
     "text": [
      "<class 'pandas.core.frame.DataFrame'>\n",
      "RangeIndex: 307511 entries, 0 to 307510\n",
      "Columns: 120 entries, NAME_CONTRACT_TYPE to AMT_REQ_CREDIT_BUREAU_YEAR\n",
      "dtypes: float16(61), float32(4), int16(2), int32(1), int8(36), object(16)\n",
      "memory usage: 90.9+ MB\n",
      "None\n",
      "<class 'pandas.core.frame.DataFrame'>\n",
      "RangeIndex: 307511 entries, 0 to 307510\n",
      "Columns: 120 entries, NAME_CONTRACT_TYPE to AMT_REQ_CREDIT_BUREAU_YEAR\n",
      "dtypes: category(16), float16(61), float32(4), int16(2), int32(1), int8(36)\n",
      "memory usage: 58.1 MB\n",
      "None\n",
      "<class 'pandas.core.frame.DataFrame'>\n",
      "RangeIndex: 307511 entries, 0 to 307510\n",
      "Data columns (total 10 columns):\n",
      " #   Column              Non-Null Count   Dtype   \n",
      "---  ------              --------------   -----   \n",
      " 0   NAME_CONTRACT_TYPE  307511 non-null  category\n",
      " 1   CODE_GENDER         307511 non-null  category\n",
      " 2   FLAG_OWN_CAR        307511 non-null  category\n",
      " 3   FLAG_OWN_REALTY     307511 non-null  category\n",
      " 4   CNT_CHILDREN        307511 non-null  int8    \n",
      " 5   AMT_INCOME_TOTAL    307511 non-null  float32 \n",
      " 6   AMT_CREDIT          307511 non-null  float32 \n",
      " 7   AMT_ANNUITY         307499 non-null  float32 \n",
      " 8   AMT_GOODS_PRICE     307233 non-null  float32 \n",
      " 9   NAME_TYPE_SUITE     306219 non-null  category\n",
      "dtypes: category(5), float32(4), int8(1)\n",
      "memory usage: 6.5 MB\n"
     ]
    }
   ],
   "source": [
    "print (x_train.info())\n",
    "\n",
    "for col in x_train.columns:\n",
    "    if (x_train[col].dtype==\"0\") or (x_train[col].dtype==\"object\"):\n",
    "        x_train[col] = x_train[col].astype(\"category\")\n",
    "print (x_train.info())\n",
    "\n",
    "x_train.iloc[:,:10].info()\n"
   ]
  },
  {
   "cell_type": "markdown",
   "id": "7cdd9554",
   "metadata": {
    "papermill": {
     "duration": 0.089464,
     "end_time": "2022-05-01T11:23:50.636935",
     "exception": false,
     "start_time": "2022-05-01T11:23:50.547471",
     "status": "completed"
    },
    "tags": []
   },
   "source": [
    "## Validation design\n",
    "#### 0 vs 1 target ratio "
   ]
  },
  {
   "cell_type": "code",
   "execution_count": 6,
   "id": "d52395ff",
   "metadata": {
    "execution": {
     "iopub.execute_input": "2022-05-01T11:23:50.820860Z",
     "iopub.status.busy": "2022-05-01T11:23:50.820298Z",
     "iopub.status.idle": "2022-05-01T11:23:50.831722Z",
     "shell.execute_reply": "2022-05-01T11:23:50.830504Z"
    },
    "papermill": {
     "duration": 0.107319,
     "end_time": "2022-05-01T11:23:50.834193",
     "exception": false,
     "start_time": "2022-05-01T11:23:50.726874",
     "status": "completed"
    },
    "tags": []
   },
   "outputs": [
    {
     "name": "stdout",
     "output_type": "stream",
     "text": [
      "mean: 0.0807\n"
     ]
    },
    {
     "data": {
      "text/plain": [
       "0    282686\n",
       "1     24825\n",
       "Name: TARGET, dtype: int64"
      ]
     },
     "execution_count": 6,
     "metadata": {},
     "output_type": "execute_result"
    }
   ],
   "source": [
    "print(\"mean: {:.4f}\".format(y_train.mean()))\n",
    "y_train.value_counts()"
   ]
  },
  {
   "cell_type": "code",
   "execution_count": 7,
   "id": "02c71524",
   "metadata": {},
   "outputs": [
    {
     "name": "stdout",
     "output_type": "stream",
     "text": [
      "(307511, 120)\n"
     ]
    },
    {
     "data": {
      "text/html": [
       "<div>\n",
       "<style scoped>\n",
       "    .dataframe tbody tr th:only-of-type {\n",
       "        vertical-align: middle;\n",
       "    }\n",
       "\n",
       "    .dataframe tbody tr th {\n",
       "        vertical-align: top;\n",
       "    }\n",
       "\n",
       "    .dataframe thead th {\n",
       "        text-align: right;\n",
       "    }\n",
       "</style>\n",
       "<table border=\"1\" class=\"dataframe\">\n",
       "  <thead>\n",
       "    <tr style=\"text-align: right;\">\n",
       "      <th></th>\n",
       "      <th>NAME_CONTRACT_TYPE</th>\n",
       "      <th>CODE_GENDER</th>\n",
       "      <th>FLAG_OWN_CAR</th>\n",
       "      <th>FLAG_OWN_REALTY</th>\n",
       "      <th>CNT_CHILDREN</th>\n",
       "      <th>AMT_INCOME_TOTAL</th>\n",
       "      <th>AMT_CREDIT</th>\n",
       "      <th>AMT_ANNUITY</th>\n",
       "      <th>AMT_GOODS_PRICE</th>\n",
       "      <th>NAME_TYPE_SUITE</th>\n",
       "      <th>...</th>\n",
       "      <th>FLAG_DOCUMENT_18</th>\n",
       "      <th>FLAG_DOCUMENT_19</th>\n",
       "      <th>FLAG_DOCUMENT_20</th>\n",
       "      <th>FLAG_DOCUMENT_21</th>\n",
       "      <th>AMT_REQ_CREDIT_BUREAU_HOUR</th>\n",
       "      <th>AMT_REQ_CREDIT_BUREAU_DAY</th>\n",
       "      <th>AMT_REQ_CREDIT_BUREAU_WEEK</th>\n",
       "      <th>AMT_REQ_CREDIT_BUREAU_MON</th>\n",
       "      <th>AMT_REQ_CREDIT_BUREAU_QRT</th>\n",
       "      <th>AMT_REQ_CREDIT_BUREAU_YEAR</th>\n",
       "    </tr>\n",
       "  </thead>\n",
       "  <tbody>\n",
       "    <tr>\n",
       "      <th>108206</th>\n",
       "      <td>Cash loans</td>\n",
       "      <td>M</td>\n",
       "      <td>N</td>\n",
       "      <td>Y</td>\n",
       "      <td>0</td>\n",
       "      <td>157500.0</td>\n",
       "      <td>2025000.0</td>\n",
       "      <td>53419.5</td>\n",
       "      <td>2025000.0</td>\n",
       "      <td>Unaccompanied</td>\n",
       "      <td>...</td>\n",
       "      <td>0</td>\n",
       "      <td>0</td>\n",
       "      <td>0</td>\n",
       "      <td>0</td>\n",
       "      <td>0.0</td>\n",
       "      <td>0.0</td>\n",
       "      <td>0.0</td>\n",
       "      <td>0.0</td>\n",
       "      <td>0.0</td>\n",
       "      <td>0.0</td>\n",
       "    </tr>\n",
       "    <tr>\n",
       "      <th>270997</th>\n",
       "      <td>Cash loans</td>\n",
       "      <td>F</td>\n",
       "      <td>N</td>\n",
       "      <td>Y</td>\n",
       "      <td>0</td>\n",
       "      <td>103500.0</td>\n",
       "      <td>405000.0</td>\n",
       "      <td>22099.5</td>\n",
       "      <td>405000.0</td>\n",
       "      <td>Unaccompanied</td>\n",
       "      <td>...</td>\n",
       "      <td>0</td>\n",
       "      <td>0</td>\n",
       "      <td>0</td>\n",
       "      <td>0</td>\n",
       "      <td>0.0</td>\n",
       "      <td>1.0</td>\n",
       "      <td>0.0</td>\n",
       "      <td>0.0</td>\n",
       "      <td>0.0</td>\n",
       "      <td>1.0</td>\n",
       "    </tr>\n",
       "    <tr>\n",
       "      <th>56109</th>\n",
       "      <td>Cash loans</td>\n",
       "      <td>F</td>\n",
       "      <td>N</td>\n",
       "      <td>N</td>\n",
       "      <td>3</td>\n",
       "      <td>112500.0</td>\n",
       "      <td>187704.0</td>\n",
       "      <td>12672.0</td>\n",
       "      <td>148500.0</td>\n",
       "      <td>Unaccompanied</td>\n",
       "      <td>...</td>\n",
       "      <td>0</td>\n",
       "      <td>0</td>\n",
       "      <td>0</td>\n",
       "      <td>0</td>\n",
       "      <td>NaN</td>\n",
       "      <td>NaN</td>\n",
       "      <td>NaN</td>\n",
       "      <td>NaN</td>\n",
       "      <td>NaN</td>\n",
       "      <td>NaN</td>\n",
       "    </tr>\n",
       "    <tr>\n",
       "      <th>300563</th>\n",
       "      <td>Cash loans</td>\n",
       "      <td>F</td>\n",
       "      <td>Y</td>\n",
       "      <td>Y</td>\n",
       "      <td>3</td>\n",
       "      <td>135000.0</td>\n",
       "      <td>723996.0</td>\n",
       "      <td>34960.5</td>\n",
       "      <td>585000.0</td>\n",
       "      <td>Unaccompanied</td>\n",
       "      <td>...</td>\n",
       "      <td>0</td>\n",
       "      <td>0</td>\n",
       "      <td>0</td>\n",
       "      <td>0</td>\n",
       "      <td>0.0</td>\n",
       "      <td>0.0</td>\n",
       "      <td>0.0</td>\n",
       "      <td>0.0</td>\n",
       "      <td>0.0</td>\n",
       "      <td>4.0</td>\n",
       "    </tr>\n",
       "    <tr>\n",
       "      <th>14384</th>\n",
       "      <td>Cash loans</td>\n",
       "      <td>F</td>\n",
       "      <td>Y</td>\n",
       "      <td>Y</td>\n",
       "      <td>0</td>\n",
       "      <td>171000.0</td>\n",
       "      <td>265851.0</td>\n",
       "      <td>21442.5</td>\n",
       "      <td>229500.0</td>\n",
       "      <td>Unaccompanied</td>\n",
       "      <td>...</td>\n",
       "      <td>0</td>\n",
       "      <td>0</td>\n",
       "      <td>0</td>\n",
       "      <td>0</td>\n",
       "      <td>0.0</td>\n",
       "      <td>0.0</td>\n",
       "      <td>0.0</td>\n",
       "      <td>0.0</td>\n",
       "      <td>3.0</td>\n",
       "      <td>2.0</td>\n",
       "    </tr>\n",
       "    <tr>\n",
       "      <th>56048</th>\n",
       "      <td>Cash loans</td>\n",
       "      <td>M</td>\n",
       "      <td>N</td>\n",
       "      <td>N</td>\n",
       "      <td>0</td>\n",
       "      <td>72000.0</td>\n",
       "      <td>295668.0</td>\n",
       "      <td>11277.0</td>\n",
       "      <td>193500.0</td>\n",
       "      <td>Unaccompanied</td>\n",
       "      <td>...</td>\n",
       "      <td>0</td>\n",
       "      <td>0</td>\n",
       "      <td>0</td>\n",
       "      <td>0</td>\n",
       "      <td>0.0</td>\n",
       "      <td>0.0</td>\n",
       "      <td>0.0</td>\n",
       "      <td>5.0</td>\n",
       "      <td>0.0</td>\n",
       "      <td>2.0</td>\n",
       "    </tr>\n",
       "    <tr>\n",
       "      <th>180459</th>\n",
       "      <td>Cash loans</td>\n",
       "      <td>M</td>\n",
       "      <td>N</td>\n",
       "      <td>N</td>\n",
       "      <td>2</td>\n",
       "      <td>99000.0</td>\n",
       "      <td>263686.5</td>\n",
       "      <td>15268.5</td>\n",
       "      <td>238500.0</td>\n",
       "      <td>Unaccompanied</td>\n",
       "      <td>...</td>\n",
       "      <td>0</td>\n",
       "      <td>0</td>\n",
       "      <td>0</td>\n",
       "      <td>0</td>\n",
       "      <td>0.0</td>\n",
       "      <td>0.0</td>\n",
       "      <td>0.0</td>\n",
       "      <td>0.0</td>\n",
       "      <td>0.0</td>\n",
       "      <td>0.0</td>\n",
       "    </tr>\n",
       "    <tr>\n",
       "      <th>32394</th>\n",
       "      <td>Cash loans</td>\n",
       "      <td>F</td>\n",
       "      <td>Y</td>\n",
       "      <td>Y</td>\n",
       "      <td>1</td>\n",
       "      <td>112500.0</td>\n",
       "      <td>545040.0</td>\n",
       "      <td>25537.5</td>\n",
       "      <td>450000.0</td>\n",
       "      <td>Unaccompanied</td>\n",
       "      <td>...</td>\n",
       "      <td>0</td>\n",
       "      <td>0</td>\n",
       "      <td>0</td>\n",
       "      <td>0</td>\n",
       "      <td>0.0</td>\n",
       "      <td>0.0</td>\n",
       "      <td>0.0</td>\n",
       "      <td>0.0</td>\n",
       "      <td>0.0</td>\n",
       "      <td>0.0</td>\n",
       "    </tr>\n",
       "    <tr>\n",
       "      <th>296424</th>\n",
       "      <td>Cash loans</td>\n",
       "      <td>F</td>\n",
       "      <td>Y</td>\n",
       "      <td>N</td>\n",
       "      <td>0</td>\n",
       "      <td>108000.0</td>\n",
       "      <td>454500.0</td>\n",
       "      <td>27193.5</td>\n",
       "      <td>454500.0</td>\n",
       "      <td>Family</td>\n",
       "      <td>...</td>\n",
       "      <td>0</td>\n",
       "      <td>0</td>\n",
       "      <td>0</td>\n",
       "      <td>0</td>\n",
       "      <td>0.0</td>\n",
       "      <td>0.0</td>\n",
       "      <td>0.0</td>\n",
       "      <td>0.0</td>\n",
       "      <td>0.0</td>\n",
       "      <td>0.0</td>\n",
       "    </tr>\n",
       "    <tr>\n",
       "      <th>196042</th>\n",
       "      <td>Cash loans</td>\n",
       "      <td>M</td>\n",
       "      <td>N</td>\n",
       "      <td>Y</td>\n",
       "      <td>0</td>\n",
       "      <td>202500.0</td>\n",
       "      <td>695439.0</td>\n",
       "      <td>27076.5</td>\n",
       "      <td>580500.0</td>\n",
       "      <td>Unaccompanied</td>\n",
       "      <td>...</td>\n",
       "      <td>0</td>\n",
       "      <td>0</td>\n",
       "      <td>0</td>\n",
       "      <td>0</td>\n",
       "      <td>0.0</td>\n",
       "      <td>0.0</td>\n",
       "      <td>0.0</td>\n",
       "      <td>0.0</td>\n",
       "      <td>1.0</td>\n",
       "      <td>0.0</td>\n",
       "    </tr>\n",
       "  </tbody>\n",
       "</table>\n",
       "<p>10 rows × 120 columns</p>\n",
       "</div>"
      ],
      "text/plain": [
       "       NAME_CONTRACT_TYPE CODE_GENDER FLAG_OWN_CAR FLAG_OWN_REALTY  \\\n",
       "108206         Cash loans           M            N               Y   \n",
       "270997         Cash loans           F            N               Y   \n",
       "56109          Cash loans           F            N               N   \n",
       "300563         Cash loans           F            Y               Y   \n",
       "14384          Cash loans           F            Y               Y   \n",
       "56048          Cash loans           M            N               N   \n",
       "180459         Cash loans           M            N               N   \n",
       "32394          Cash loans           F            Y               Y   \n",
       "296424         Cash loans           F            Y               N   \n",
       "196042         Cash loans           M            N               Y   \n",
       "\n",
       "        CNT_CHILDREN  AMT_INCOME_TOTAL  AMT_CREDIT  AMT_ANNUITY  \\\n",
       "108206             0          157500.0   2025000.0      53419.5   \n",
       "270997             0          103500.0    405000.0      22099.5   \n",
       "56109              3          112500.0    187704.0      12672.0   \n",
       "300563             3          135000.0    723996.0      34960.5   \n",
       "14384              0          171000.0    265851.0      21442.5   \n",
       "56048              0           72000.0    295668.0      11277.0   \n",
       "180459             2           99000.0    263686.5      15268.5   \n",
       "32394              1          112500.0    545040.0      25537.5   \n",
       "296424             0          108000.0    454500.0      27193.5   \n",
       "196042             0          202500.0    695439.0      27076.5   \n",
       "\n",
       "        AMT_GOODS_PRICE NAME_TYPE_SUITE  ... FLAG_DOCUMENT_18  \\\n",
       "108206        2025000.0   Unaccompanied  ...                0   \n",
       "270997         405000.0   Unaccompanied  ...                0   \n",
       "56109          148500.0   Unaccompanied  ...                0   \n",
       "300563         585000.0   Unaccompanied  ...                0   \n",
       "14384          229500.0   Unaccompanied  ...                0   \n",
       "56048          193500.0   Unaccompanied  ...                0   \n",
       "180459         238500.0   Unaccompanied  ...                0   \n",
       "32394          450000.0   Unaccompanied  ...                0   \n",
       "296424         454500.0          Family  ...                0   \n",
       "196042         580500.0   Unaccompanied  ...                0   \n",
       "\n",
       "       FLAG_DOCUMENT_19 FLAG_DOCUMENT_20 FLAG_DOCUMENT_21  \\\n",
       "108206                0                0                0   \n",
       "270997                0                0                0   \n",
       "56109                 0                0                0   \n",
       "300563                0                0                0   \n",
       "14384                 0                0                0   \n",
       "56048                 0                0                0   \n",
       "180459                0                0                0   \n",
       "32394                 0                0                0   \n",
       "296424                0                0                0   \n",
       "196042                0                0                0   \n",
       "\n",
       "        AMT_REQ_CREDIT_BUREAU_HOUR  AMT_REQ_CREDIT_BUREAU_DAY  \\\n",
       "108206                         0.0                        0.0   \n",
       "270997                         0.0                        1.0   \n",
       "56109                          NaN                        NaN   \n",
       "300563                         0.0                        0.0   \n",
       "14384                          0.0                        0.0   \n",
       "56048                          0.0                        0.0   \n",
       "180459                         0.0                        0.0   \n",
       "32394                          0.0                        0.0   \n",
       "296424                         0.0                        0.0   \n",
       "196042                         0.0                        0.0   \n",
       "\n",
       "        AMT_REQ_CREDIT_BUREAU_WEEK  AMT_REQ_CREDIT_BUREAU_MON  \\\n",
       "108206                         0.0                        0.0   \n",
       "270997                         0.0                        0.0   \n",
       "56109                          NaN                        NaN   \n",
       "300563                         0.0                        0.0   \n",
       "14384                          0.0                        0.0   \n",
       "56048                          0.0                        5.0   \n",
       "180459                         0.0                        0.0   \n",
       "32394                          0.0                        0.0   \n",
       "296424                         0.0                        0.0   \n",
       "196042                         0.0                        0.0   \n",
       "\n",
       "        AMT_REQ_CREDIT_BUREAU_QRT  AMT_REQ_CREDIT_BUREAU_YEAR  \n",
       "108206                        0.0                         0.0  \n",
       "270997                        0.0                         1.0  \n",
       "56109                         NaN                         NaN  \n",
       "300563                        0.0                         4.0  \n",
       "14384                         3.0                         2.0  \n",
       "56048                         0.0                         2.0  \n",
       "180459                        0.0                         0.0  \n",
       "32394                         0.0                         0.0  \n",
       "296424                        0.0                         0.0  \n",
       "196042                        1.0                         0.0  \n",
       "\n",
       "[10 rows x 120 columns]"
      ]
     },
     "execution_count": 7,
     "metadata": {},
     "output_type": "execute_result"
    }
   ],
   "source": [
    "print(x_train.shape)\n",
    "x_train.sample(10)"
   ]
  },
  {
   "cell_type": "code",
   "execution_count": 8,
   "id": "e220a07c",
   "metadata": {},
   "outputs": [],
   "source": [
    "# https://stats.stackexchange.com/questions/49540/understanding-stratified-cross-validation"
   ]
  },
  {
   "cell_type": "markdown",
   "id": "29367863",
   "metadata": {
    "execution": {
     "iopub.execute_input": "2022-05-01T11:23:51.205259Z",
     "iopub.status.busy": "2022-05-01T11:23:51.204920Z",
     "iopub.status.idle": "2022-05-01T11:23:51.264017Z",
     "shell.execute_reply": "2022-05-01T11:23:51.262944Z"
    },
    "papermill": {
     "duration": 0.156622,
     "end_time": "2022-05-01T11:23:51.266391",
     "exception": false,
     "start_time": "2022-05-01T11:23:51.109769",
     "status": "completed"
    },
    "tags": []
   },
   "source": [
    "<!-- https://stats.stackexchange.com/questions/49540/understanding-stratified-cross-validation  -->\n",
    "### Cross Validation\n",
    "Cross Validation: Splits the data into k \"random\" folds\n",
    "\n",
    "<div> <img src=\"./image/CrossValidation.png\" alt=\"Drawing\" style=\"width: 450px;\"/></div>\n",
    "\n",
    "### Stratified Cross Validation  --> **This project use this!!**\n",
    "Stratified Cross Valiadtion: Splits the data into k folds, making sure each fold is an appropriate representative of the original data. (class distribution, mean, variance, etc)\n",
    "\n",
    "\n",
    "Stratified merit-based approach addresses imbalanced data by considering the relative importance or performance of different classes, ensuring proportional representation during sampling or modeling.\n",
    "<div> <img src=\"./image/StratifiedCrossValidation.png\" alt=\"Drawing\" style=\"width: 600px;\"/></div>"
   ]
  },
  {
   "cell_type": "markdown",
   "id": "3bf54413",
   "metadata": {
    "papermill": {
     "duration": 0.09102,
     "end_time": "2022-05-01T11:23:51.449829",
     "exception": false,
     "start_time": "2022-05-01T11:23:51.358809",
     "status": "completed"
    },
    "tags": []
   },
   "source": [
    "## 7.3.5 Training the model\n",
    "#### Script 7-9: Split train and validation dataset"
   ]
  },
  {
   "cell_type": "code",
   "execution_count": 9,
   "id": "6a491d83",
   "metadata": {
    "execution": {
     "iopub.execute_input": "2022-05-01T11:23:51.634083Z",
     "iopub.status.busy": "2022-05-01T11:23:51.633777Z",
     "iopub.status.idle": "2022-05-01T11:23:51.902074Z",
     "shell.execute_reply": "2022-05-01T11:23:51.901028Z"
    },
    "papermill": {
     "duration": 0.363225,
     "end_time": "2022-05-01T11:23:51.904470",
     "exception": false,
     "start_time": "2022-05-01T11:23:51.541245",
     "status": "completed"
    },
    "tags": []
   },
   "outputs": [
    {
     "name": "stdout",
     "output_type": "stream",
     "text": [
      "(246008, 120) (246008,) (246008, 1)\n",
      "(61503, 120) (61503,) (61503, 1)\n"
     ]
    }
   ],
   "source": [
    "# Create index list for each fold\n",
    "cv = list(StratifiedKFold(n_splits=5, shuffle=True, random_state=123).split(x_train, y_train))\n",
    "\n",
    "# For example index list on fold 0\n",
    "nfold = 0\n",
    "idx_tr, idx_va = cv[nfold][0], cv[nfold][1]\n",
    "\n",
    "# Split train and validation dataset\n",
    "x_tr, y_tr, id_tr = x_train.loc[idx_tr, :], y_train[idx_tr], id_train.loc[idx_tr, :]\n",
    "x_va, y_va, id_va = x_train.loc[idx_va, :], y_train[idx_va], id_train.loc[idx_va, :]\n",
    "print(x_tr.shape, y_tr.shape, id_tr.shape)\n",
    "print(x_va.shape, y_va.shape, id_va.shape)"
   ]
  },
  {
   "cell_type": "code",
   "execution_count": 10,
   "id": "b13cf2f7",
   "metadata": {},
   "outputs": [],
   "source": [
    "# https://machinelearningmastery.com/tour-of-evaluation-metrics-for-imbalanced-classification/"
   ]
  },
  {
   "cell_type": "markdown",
   "id": "7db9cc92",
   "metadata": {},
   "source": [
    "<!-- https://machinelearningmastery.com/tour-of-evaluation-metrics-for-imbalanced-classification/ -->\n",
    "<div> <img src=\"./image/ImbalancedData_AUC_Jason.png\" alt=\"Drawing\" style=\"width: 650px;\"/></div>"
   ]
  },
  {
   "cell_type": "markdown",
   "id": "ccf5fec5",
   "metadata": {
    "papermill": {
     "duration": 0.093026,
     "end_time": "2022-05-01T11:23:52.092265",
     "exception": false,
     "start_time": "2022-05-01T11:23:51.999239",
     "status": "completed"
    },
    "tags": []
   },
   "source": [
    "#### Model training"
   ]
  },
  {
   "cell_type": "code",
   "execution_count": 11,
   "id": "4ed1777e",
   "metadata": {
    "execution": {
     "iopub.execute_input": "2022-05-01T11:23:52.277483Z",
     "iopub.status.busy": "2022-05-01T11:23:52.276895Z",
     "iopub.status.idle": "2022-05-01T11:24:15.898043Z",
     "shell.execute_reply": "2022-05-01T11:24:15.897298Z"
    },
    "papermill": {
     "duration": 23.716601,
     "end_time": "2022-05-01T11:24:15.900518",
     "exception": false,
     "start_time": "2022-05-01T11:23:52.183917",
     "status": "completed"
    },
    "tags": []
   },
   "outputs": [
    {
     "name": "stdout",
     "output_type": "stream",
     "text": [
      "[100]\ttraining's auc: 0.805563\tvalid_1's auc: 0.75705\n"
     ]
    }
   ],
   "source": [
    "params = {\n",
    "    'metric': 'auc',\n",
    "    \"random_state\": 123,\n",
    "}\n",
    "# Training the model\n",
    "model = lgb.LGBMClassifier(**params)\n",
    "model.fit(x_tr,\n",
    "          y_tr,\n",
    "          eval_set=[(x_tr, y_tr), (x_va, y_va)],\n",
    "          early_stopping_rounds=100,\n",
    "          verbose=100\n",
    "         )\n",
    "\n",
    "#model.fit(x_tr, y_tr)\n",
    "#results = cross_val_score(model, x_va, y_va, cv = kfold) \n",
    "\n",
    "# Save the model\n",
    "with open(\"model_lgb_fold0.pickle\", \"wb\") as f:\n",
    "    pickle.dump(model, f, protocol=4)"
   ]
  },
  {
   "cell_type": "markdown",
   "id": "e040f917",
   "metadata": {
    "papermill": {
     "duration": 0.093258,
     "end_time": "2022-05-01T11:24:16.089028",
     "exception": false,
     "start_time": "2022-05-01T11:24:15.995770",
     "status": "completed"
    },
    "tags": []
   },
   "source": [
    "#### Model Valuation"
   ]
  },
  {
   "cell_type": "markdown",
   "id": "5ff598fb",
   "metadata": {},
   "source": [
    "<div> <img src=\"./image/ChatGPT_Predict_Proba.png\" alt=\"Drawing\" style=\"width: 650px;\"/></div>"
   ]
  },
  {
   "cell_type": "code",
   "execution_count": 12,
   "id": "c0eb3ec6",
   "metadata": {
    "execution": {
     "iopub.execute_input": "2022-05-01T11:24:16.279459Z",
     "iopub.status.busy": "2022-05-01T11:24:16.279181Z",
     "iopub.status.idle": "2022-05-01T11:24:19.284107Z",
     "shell.execute_reply": "2022-05-01T11:24:19.282975Z"
    },
    "papermill": {
     "duration": 3.102892,
     "end_time": "2022-05-01T11:24:19.286495",
     "exception": false,
     "start_time": "2022-05-01T11:24:16.183603",
     "status": "completed"
    },
    "tags": []
   },
   "outputs": [
    {
     "name": "stdout",
     "output_type": "stream",
     "text": [
      "[auc] tr:0.8056, va:0.7571\n"
     ]
    }
   ],
   "source": [
    "# AUC on training data\n",
    "y_tr_pred = model.predict_proba(x_tr)[:,1]\n",
    "metric_tr = roc_auc_score(y_tr, y_tr_pred)\n",
    "\n",
    "# AUC on validation data\n",
    "y_va_pred = model.predict_proba(x_va)[:,1]\n",
    "metric_va = roc_auc_score(y_va, y_va_pred)\n",
    "\n",
    "metrics = []\n",
    "metrics.append([nfold, metric_tr, metric_va])\n",
    "\n",
    "# Results\n",
    "print(\"[auc] tr:{:.4f}, va:{:.4f}\".format(metric_tr, metric_va))\n",
    "\n",
    "# [auc] tr:0.8126, va:0.7586"
   ]
  },
  {
   "cell_type": "markdown",
   "id": "f62c20a2",
   "metadata": {
    "papermill": {
     "duration": 0.092859,
     "end_time": "2022-05-01T11:24:19.472531",
     "exception": false,
     "start_time": "2022-05-01T11:24:19.379672",
     "status": "completed"
    },
    "tags": []
   },
   "source": [
    "#### Get predicted Out Of Fold (OOF)"
   ]
  },
  {
   "cell_type": "code",
   "execution_count": 13,
   "id": "9de62e5e",
   "metadata": {
    "execution": {
     "iopub.execute_input": "2022-05-01T11:24:19.663264Z",
     "iopub.status.busy": "2022-05-01T11:24:19.662571Z",
     "iopub.status.idle": "2022-05-01T11:24:19.667851Z",
     "shell.execute_reply": "2022-05-01T11:24:19.666912Z"
    },
    "papermill": {
     "duration": 0.101332,
     "end_time": "2022-05-01T11:24:19.669896",
     "exception": false,
     "start_time": "2022-05-01T11:24:19.568564",
     "status": "completed"
    },
    "tags": []
   },
   "outputs": [],
   "source": [
    "train_oof = np.zeros(len(x_train))\n",
    "train_oof[idx_va] = y_va_pred"
   ]
  },
  {
   "cell_type": "markdown",
   "id": "44873c26",
   "metadata": {
    "papermill": {
     "duration": 0.093341,
     "end_time": "2022-05-01T11:24:19.858753",
     "exception": false,
     "start_time": "2022-05-01T11:24:19.765412",
     "status": "completed"
    },
    "tags": []
   },
   "source": [
    "#### Get importance of explanatory variables"
   ]
  },
  {
   "cell_type": "code",
   "execution_count": 14,
   "id": "da674201",
   "metadata": {
    "execution": {
     "iopub.execute_input": "2022-05-01T11:24:20.049538Z",
     "iopub.status.busy": "2022-05-01T11:24:20.049250Z",
     "iopub.status.idle": "2022-05-01T11:24:20.064599Z",
     "shell.execute_reply": "2022-05-01T11:24:20.063940Z"
    },
    "papermill": {
     "duration": 0.113788,
     "end_time": "2022-05-01T11:24:20.066514",
     "exception": false,
     "start_time": "2022-05-01T11:24:19.952726",
     "status": "completed"
    },
    "tags": []
   },
   "outputs": [
    {
     "data": {
      "text/html": [
       "<div>\n",
       "<style scoped>\n",
       "    .dataframe tbody tr th:only-of-type {\n",
       "        vertical-align: middle;\n",
       "    }\n",
       "\n",
       "    .dataframe tbody tr th {\n",
       "        vertical-align: top;\n",
       "    }\n",
       "\n",
       "    .dataframe thead th {\n",
       "        text-align: right;\n",
       "    }\n",
       "</style>\n",
       "<table border=\"1\" class=\"dataframe\">\n",
       "  <thead>\n",
       "    <tr style=\"text-align: right;\">\n",
       "      <th></th>\n",
       "      <th>col</th>\n",
       "      <th>imp</th>\n",
       "      <th>nfold</th>\n",
       "    </tr>\n",
       "  </thead>\n",
       "  <tbody>\n",
       "    <tr>\n",
       "      <th>38</th>\n",
       "      <td>ORGANIZATION_TYPE</td>\n",
       "      <td>432</td>\n",
       "      <td>0</td>\n",
       "    </tr>\n",
       "    <tr>\n",
       "      <th>39</th>\n",
       "      <td>EXT_SOURCE_1</td>\n",
       "      <td>233</td>\n",
       "      <td>0</td>\n",
       "    </tr>\n",
       "    <tr>\n",
       "      <th>41</th>\n",
       "      <td>EXT_SOURCE_3</td>\n",
       "      <td>216</td>\n",
       "      <td>0</td>\n",
       "    </tr>\n",
       "    <tr>\n",
       "      <th>40</th>\n",
       "      <td>EXT_SOURCE_2</td>\n",
       "      <td>187</td>\n",
       "      <td>0</td>\n",
       "    </tr>\n",
       "    <tr>\n",
       "      <th>6</th>\n",
       "      <td>AMT_CREDIT</td>\n",
       "      <td>148</td>\n",
       "      <td>0</td>\n",
       "    </tr>\n",
       "    <tr>\n",
       "      <th>7</th>\n",
       "      <td>AMT_ANNUITY</td>\n",
       "      <td>142</td>\n",
       "      <td>0</td>\n",
       "    </tr>\n",
       "    <tr>\n",
       "      <th>15</th>\n",
       "      <td>DAYS_BIRTH</td>\n",
       "      <td>133</td>\n",
       "      <td>0</td>\n",
       "    </tr>\n",
       "    <tr>\n",
       "      <th>8</th>\n",
       "      <td>AMT_GOODS_PRICE</td>\n",
       "      <td>108</td>\n",
       "      <td>0</td>\n",
       "    </tr>\n",
       "    <tr>\n",
       "      <th>18</th>\n",
       "      <td>DAYS_ID_PUBLISH</td>\n",
       "      <td>100</td>\n",
       "      <td>0</td>\n",
       "    </tr>\n",
       "    <tr>\n",
       "      <th>16</th>\n",
       "      <td>DAYS_EMPLOYED</td>\n",
       "      <td>88</td>\n",
       "      <td>0</td>\n",
       "    </tr>\n",
       "  </tbody>\n",
       "</table>\n",
       "</div>"
      ],
      "text/plain": [
       "                  col  imp  nfold\n",
       "38  ORGANIZATION_TYPE  432      0\n",
       "39       EXT_SOURCE_1  233      0\n",
       "41       EXT_SOURCE_3  216      0\n",
       "40       EXT_SOURCE_2  187      0\n",
       "6          AMT_CREDIT  148      0\n",
       "7         AMT_ANNUITY  142      0\n",
       "15         DAYS_BIRTH  133      0\n",
       "8     AMT_GOODS_PRICE  108      0\n",
       "18    DAYS_ID_PUBLISH  100      0\n",
       "16      DAYS_EMPLOYED   88      0"
      ]
     },
     "metadata": {},
     "output_type": "display_data"
    }
   ],
   "source": [
    "# Feature importances\n",
    "imp_fold = pd.DataFrame({\"col\":x_train.columns, \"imp\":model.feature_importances_, \"nfold\":nfold})\n",
    "# Sanity check (Top 10 feature importance）\n",
    "display(imp_fold.sort_values(\"imp\", ascending=False)[:10])\n",
    "\n",
    "imp = pd.DataFrame()\n",
    "imp = pd.concat([imp, imp_fold])"
   ]
  },
  {
   "cell_type": "markdown",
   "id": "9e05ab9e",
   "metadata": {
    "papermill": {
     "duration": 0.093362,
     "end_time": "2022-05-01T11:24:20.253799",
     "exception": false,
     "start_time": "2022-05-01T11:24:20.160437",
     "status": "completed"
    },
    "tags": []
   },
   "source": [
    "#### Model validation (summary of all folds)"
   ]
  },
  {
   "cell_type": "code",
   "execution_count": 15,
   "id": "f63a48df",
   "metadata": {
    "execution": {
     "iopub.execute_input": "2022-05-01T11:24:20.444051Z",
     "iopub.status.busy": "2022-05-01T11:24:20.443468Z",
     "iopub.status.idle": "2022-05-01T11:24:20.522243Z",
     "shell.execute_reply": "2022-05-01T11:24:20.521214Z"
    },
    "papermill": {
     "duration": 0.176615,
     "end_time": "2022-05-01T11:24:20.524732",
     "exception": false,
     "start_time": "2022-05-01T11:24:20.348117",
     "status": "completed"
    },
    "tags": []
   },
   "outputs": [
    {
     "name": "stdout",
     "output_type": "stream",
     "text": [
      "[[0.         0.80556334 0.75705038]]\n",
      "[cv] tr:0.8056+-0.0000, va:0.7571+-0.0000\n",
      "[oof] 0.5103\n"
     ]
    }
   ],
   "source": [
    "metrics = np.array(metrics)\n",
    "print(metrics)\n",
    "\n",
    "print(\"[cv] tr:{:.4f}+-{:.4f}, va:{:.4f}+-{:.4f}\".format(\n",
    "    metrics[:,1].mean(), metrics[:,1].std(),\n",
    "    metrics[:,2].mean(), metrics[:,2].std(),\n",
    "))\n",
    "\n",
    "# Calculate the OOF value\n",
    "print(\"[oof] {:.4f}\".format(\n",
    "    roc_auc_score(y_train, train_oof)\n",
    "))"
   ]
  },
  {
   "cell_type": "markdown",
   "id": "78e4cb52",
   "metadata": {
    "papermill": {
     "duration": 0.095232,
     "end_time": "2022-05-01T11:24:20.714823",
     "exception": false,
     "start_time": "2022-05-01T11:24:20.619591",
     "status": "completed"
    },
    "tags": []
   },
   "source": [
    "#### Get predicted OOF (summary of all folds)"
   ]
  },
  {
   "cell_type": "code",
   "execution_count": 16,
   "id": "2781646c",
   "metadata": {
    "execution": {
     "iopub.execute_input": "2022-05-01T11:24:20.906225Z",
     "iopub.status.busy": "2022-05-01T11:24:20.905733Z",
     "iopub.status.idle": "2022-05-01T11:24:20.919662Z",
     "shell.execute_reply": "2022-05-01T11:24:20.918842Z"
    },
    "papermill": {
     "duration": 0.112005,
     "end_time": "2022-05-01T11:24:20.921746",
     "exception": false,
     "start_time": "2022-05-01T11:24:20.809741",
     "status": "completed"
    },
    "tags": []
   },
   "outputs": [
    {
     "data": {
      "text/html": [
       "<div>\n",
       "<style scoped>\n",
       "    .dataframe tbody tr th:only-of-type {\n",
       "        vertical-align: middle;\n",
       "    }\n",
       "\n",
       "    .dataframe tbody tr th {\n",
       "        vertical-align: top;\n",
       "    }\n",
       "\n",
       "    .dataframe thead th {\n",
       "        text-align: right;\n",
       "    }\n",
       "</style>\n",
       "<table border=\"1\" class=\"dataframe\">\n",
       "  <thead>\n",
       "    <tr style=\"text-align: right;\">\n",
       "      <th></th>\n",
       "      <th>SK_ID_CURR</th>\n",
       "      <th>true</th>\n",
       "      <th>pred</th>\n",
       "    </tr>\n",
       "  </thead>\n",
       "  <tbody>\n",
       "    <tr>\n",
       "      <th>0</th>\n",
       "      <td>100002</td>\n",
       "      <td>1</td>\n",
       "      <td>0.000000</td>\n",
       "    </tr>\n",
       "    <tr>\n",
       "      <th>1</th>\n",
       "      <td>100003</td>\n",
       "      <td>0</td>\n",
       "      <td>0.000000</td>\n",
       "    </tr>\n",
       "    <tr>\n",
       "      <th>2</th>\n",
       "      <td>100004</td>\n",
       "      <td>0</td>\n",
       "      <td>0.031197</td>\n",
       "    </tr>\n",
       "    <tr>\n",
       "      <th>3</th>\n",
       "      <td>100006</td>\n",
       "      <td>0</td>\n",
       "      <td>0.000000</td>\n",
       "    </tr>\n",
       "    <tr>\n",
       "      <th>4</th>\n",
       "      <td>100007</td>\n",
       "      <td>0</td>\n",
       "      <td>0.000000</td>\n",
       "    </tr>\n",
       "  </tbody>\n",
       "</table>\n",
       "</div>"
      ],
      "text/plain": [
       "   SK_ID_CURR  true      pred\n",
       "0      100002     1  0.000000\n",
       "1      100003     0  0.000000\n",
       "2      100004     0  0.031197\n",
       "3      100006     0  0.000000\n",
       "4      100007     0  0.000000"
      ]
     },
     "execution_count": 16,
     "metadata": {},
     "output_type": "execute_result"
    }
   ],
   "source": [
    "train_oof = pd.concat([\n",
    "    id_train,\n",
    "    pd.DataFrame({\"true\": y_train, \"pred\": train_oof}),\n",
    "], axis=1)\n",
    "train_oof.head()"
   ]
  },
  {
   "cell_type": "markdown",
   "id": "cfdb17bc",
   "metadata": {
    "papermill": {
     "duration": 0.094601,
     "end_time": "2022-05-01T11:24:21.111949",
     "exception": false,
     "start_time": "2022-05-01T11:24:21.017348",
     "status": "completed"
    },
    "tags": []
   },
   "source": [
    "#### Get feature importance  (summary of all folds)"
   ]
  },
  {
   "cell_type": "code",
   "execution_count": 17,
   "id": "6186e8fb",
   "metadata": {
    "execution": {
     "iopub.execute_input": "2022-05-01T11:24:21.309618Z",
     "iopub.status.busy": "2022-05-01T11:24:21.309075Z",
     "iopub.status.idle": "2022-05-01T11:24:21.327056Z",
     "shell.execute_reply": "2022-05-01T11:24:21.326216Z"
    },
    "papermill": {
     "duration": 0.116117,
     "end_time": "2022-05-01T11:24:21.329183",
     "exception": false,
     "start_time": "2022-05-01T11:24:21.213066",
     "status": "completed"
    },
    "tags": []
   },
   "outputs": [
    {
     "data": {
      "text/html": [
       "<div>\n",
       "<style scoped>\n",
       "    .dataframe tbody tr th:only-of-type {\n",
       "        vertical-align: middle;\n",
       "    }\n",
       "\n",
       "    .dataframe tbody tr th {\n",
       "        vertical-align: top;\n",
       "    }\n",
       "\n",
       "    .dataframe thead th {\n",
       "        text-align: right;\n",
       "    }\n",
       "</style>\n",
       "<table border=\"1\" class=\"dataframe\">\n",
       "  <thead>\n",
       "    <tr style=\"text-align: right;\">\n",
       "      <th></th>\n",
       "      <th>col</th>\n",
       "      <th>imp</th>\n",
       "      <th>imp_std</th>\n",
       "    </tr>\n",
       "  </thead>\n",
       "  <tbody>\n",
       "    <tr>\n",
       "      <th>0</th>\n",
       "      <td>AMT_ANNUITY</td>\n",
       "      <td>142.0</td>\n",
       "      <td>NaN</td>\n",
       "    </tr>\n",
       "    <tr>\n",
       "      <th>1</th>\n",
       "      <td>AMT_CREDIT</td>\n",
       "      <td>148.0</td>\n",
       "      <td>NaN</td>\n",
       "    </tr>\n",
       "    <tr>\n",
       "      <th>2</th>\n",
       "      <td>AMT_GOODS_PRICE</td>\n",
       "      <td>108.0</td>\n",
       "      <td>NaN</td>\n",
       "    </tr>\n",
       "    <tr>\n",
       "      <th>3</th>\n",
       "      <td>AMT_INCOME_TOTAL</td>\n",
       "      <td>52.0</td>\n",
       "      <td>NaN</td>\n",
       "    </tr>\n",
       "    <tr>\n",
       "      <th>4</th>\n",
       "      <td>AMT_REQ_CREDIT_BUREAU_DAY</td>\n",
       "      <td>7.0</td>\n",
       "      <td>NaN</td>\n",
       "    </tr>\n",
       "  </tbody>\n",
       "</table>\n",
       "</div>"
      ],
      "text/plain": [
       "                         col    imp  imp_std\n",
       "0                AMT_ANNUITY  142.0      NaN\n",
       "1                 AMT_CREDIT  148.0      NaN\n",
       "2            AMT_GOODS_PRICE  108.0      NaN\n",
       "3           AMT_INCOME_TOTAL   52.0      NaN\n",
       "4  AMT_REQ_CREDIT_BUREAU_DAY    7.0      NaN"
      ]
     },
     "execution_count": 17,
     "metadata": {},
     "output_type": "execute_result"
    }
   ],
   "source": [
    "imp = imp.groupby(\"col\")[\"imp\"].agg([\"mean\", \"std\"]).reset_index(drop=False)\n",
    "imp.columns = [\"col\", \"imp\", \"imp_std\"]\n",
    "imp.head()"
   ]
  },
  {
   "cell_type": "markdown",
   "id": "06d9794f",
   "metadata": {
    "papermill": {
     "duration": 0.094757,
     "end_time": "2022-05-01T11:24:21.519248",
     "exception": false,
     "start_time": "2022-05-01T11:24:21.424491",
     "status": "completed"
    },
    "tags": []
   },
   "source": [
    "#### Define training function"
   ]
  },
  {
   "cell_type": "code",
   "execution_count": 18,
   "id": "d6a353aa",
   "metadata": {
    "execution": {
     "iopub.execute_input": "2022-05-01T11:24:21.715355Z",
     "iopub.status.busy": "2022-05-01T11:24:21.714755Z",
     "iopub.status.idle": "2022-05-01T11:24:21.733500Z",
     "shell.execute_reply": "2022-05-01T11:24:21.732509Z"
    },
    "papermill": {
     "duration": 0.11853,
     "end_time": "2022-05-01T11:24:21.736005",
     "exception": false,
     "start_time": "2022-05-01T11:24:21.617475",
     "status": "completed"
    },
    "tags": []
   },
   "outputs": [],
   "source": [
    "def train_lgb(input_x,\n",
    "              input_y,\n",
    "              input_id,\n",
    "              params,\n",
    "              list_nfold=[0,1,2,3,4],\n",
    "              n_splits=5,\n",
    "             ):\n",
    "    train_oof = np.zeros(len(input_x))\n",
    "    metrics = []\n",
    "    imp = pd.DataFrame()\n",
    "\n",
    "    # cross-validation\n",
    "    cv = list(StratifiedKFold(n_splits=n_splits, shuffle=True, random_state=123).split(input_x, input_y))\n",
    "    for nfold in list_nfold:\n",
    "        print(\"-\"*20, nfold, \"-\"*20)\n",
    "        \n",
    "        # make dataset\n",
    "        idx_tr, idx_va = cv[nfold][0], cv[nfold][1]\n",
    "        x_tr, y_tr, id_tr = input_x.loc[idx_tr, :], input_y[idx_tr], input_id.loc[idx_tr, :]\n",
    "        x_va, y_va, id_va = input_x.loc[idx_va, :], input_y[idx_va], input_id.loc[idx_va, :]\n",
    "        print(x_tr.shape, x_va.shape)\n",
    "        \n",
    "        # train\n",
    "        model = lgb.LGBMClassifier(**params)\n",
    "        model.fit(x_tr,\n",
    "                  y_tr,\n",
    "                  eval_set=[(x_tr, y_tr), (x_va, y_va)],\n",
    "                  early_stopping_rounds=100,\n",
    "                  verbose=100\n",
    "                 )\n",
    "        fname_lgb = \"model_lgb_fold{}.pickle\".format(nfold)\n",
    "        with open(fname_lgb, \"wb\") as f:\n",
    "            pickle.dump(model, f, protocol=4)\n",
    "        \n",
    "        # evaluate\n",
    "        y_tr_pred = model.predict_proba(x_tr)[:,1]\n",
    "        y_va_pred = model.predict_proba(x_va)[:,1]\n",
    "        metric_tr = roc_auc_score(y_tr, y_tr_pred)\n",
    "        metric_va = roc_auc_score(y_va, y_va_pred)\n",
    "        metrics.append([nfold, metric_tr, metric_va])\n",
    "        print(\"[auc] tr:{:.4f}, va:{:.4f}\".format(metric_tr, metric_va))\n",
    "        \n",
    "        # oof\n",
    "        train_oof[idx_va] = y_va_pred\n",
    "        \n",
    "        # imp\n",
    "        _imp = pd.DataFrame({\"col\":input_x.columns, \"imp\":model.feature_importances_, \"nfold\":nfold})\n",
    "        imp = pd.concat([imp, _imp])\n",
    "      \n",
    "    print(\"-\"*20, \"result\", \"-\"*20)\n",
    "    # metric\n",
    "    metrics = np.array(metrics)\n",
    "    print(metrics)\n",
    "    print(\"[cv] tr:{:.4f}+-{:.4f}, va:{:.4f}+-{:.4f}\".format(\n",
    "        metrics[:,1].mean(), metrics[:,1].std(),\n",
    "        metrics[:,2].mean(), metrics[:,2].std(),\n",
    "    ))\n",
    "    print(\"[oof] {:.4f}\".format(\n",
    "        roc_auc_score(input_y, train_oof)\n",
    "    ))\n",
    "    \n",
    "    # oof\n",
    "    train_oof = pd.concat([\n",
    "        input_id,\n",
    "        pd.DataFrame({\"pred\":train_oof})\n",
    "    ], axis=1)\n",
    "    \n",
    "    # importance\n",
    "    imp = imp.groupby(\"col\")[\"imp\"].agg([\"mean\", \"std\"]).reset_index(drop=False)\n",
    "    imp.columns = [\"col\", \"imp\", \"imp_std\"]\n",
    "    \n",
    "    return train_oof, imp, metrics"
   ]
  },
  {
   "cell_type": "code",
   "execution_count": 19,
   "id": "2fb3d083",
   "metadata": {},
   "outputs": [
    {
     "data": {
      "text/plain": [
       "(307511, 120)"
      ]
     },
     "execution_count": 19,
     "metadata": {},
     "output_type": "execute_result"
    }
   ],
   "source": [
    "x_train.shape"
   ]
  },
  {
   "cell_type": "markdown",
   "id": "c0bcf86b",
   "metadata": {
    "papermill": {
     "duration": 0.095142,
     "end_time": "2022-05-01T11:24:21.927471",
     "exception": false,
     "start_time": "2022-05-01T11:24:21.832329",
     "status": "completed"
    },
    "tags": []
   },
   "source": [
    "#### Run training process"
   ]
  },
  {
   "cell_type": "code",
   "execution_count": 20,
   "id": "906ff9a6",
   "metadata": {
    "execution": {
     "iopub.execute_input": "2022-05-01T11:24:22.121947Z",
     "iopub.status.busy": "2022-05-01T11:24:22.121361Z",
     "iopub.status.idle": "2022-05-01T11:26:52.942145Z",
     "shell.execute_reply": "2022-05-01T11:26:52.940358Z"
    },
    "papermill": {
     "duration": 150.919954,
     "end_time": "2022-05-01T11:26:52.944245",
     "exception": false,
     "start_time": "2022-05-01T11:24:22.024291",
     "status": "completed"
    },
    "tags": []
   },
   "outputs": [
    {
     "name": "stdout",
     "output_type": "stream",
     "text": [
      "-------------------- 0 --------------------\n",
      "(246008, 120) (61503, 120)\n",
      "[100]\ttraining's auc: 0.805563\tvalid_1's auc: 0.75705\n",
      "[auc] tr:0.8056, va:0.7571\n",
      "-------------------- 1 --------------------\n",
      "(246009, 120) (61502, 120)\n",
      "[100]\ttraining's auc: 0.807226\tvalid_1's auc: 0.757708\n",
      "[auc] tr:0.8072, va:0.7577\n",
      "-------------------- 2 --------------------\n",
      "(246009, 120) (61502, 120)\n",
      "[100]\ttraining's auc: 0.806607\tvalid_1's auc: 0.759367\n",
      "[auc] tr:0.8066, va:0.7594\n",
      "-------------------- 3 --------------------\n",
      "(246009, 120) (61502, 120)\n",
      "[100]\ttraining's auc: 0.807561\tvalid_1's auc: 0.754912\n",
      "[auc] tr:0.8076, va:0.7549\n",
      "-------------------- 4 --------------------\n",
      "(246009, 120) (61502, 120)\n",
      "[100]\ttraining's auc: 0.808651\tvalid_1's auc: 0.750329\n",
      "[auc] tr:0.8087, va:0.7503\n",
      "-------------------- result --------------------\n",
      "[[0.         0.80556334 0.75705038]\n",
      " [1.         0.80722559 0.75770765]\n",
      " [2.         0.80660738 0.75936687]\n",
      " [3.         0.80756082 0.75491247]\n",
      " [4.         0.80865059 0.75032941]]\n",
      "[cv] tr:0.8071+-0.0010, va:0.7559+-0.0031\n",
      "[oof] 0.7559\n"
     ]
    }
   ],
   "source": [
    "params = {\n",
    "    'metric': 'auc',\n",
    "    \"random_state\": 123,\n",
    "}\n",
    "\n",
    "train_oof, imp, metrics = train_lgb(x_train,\n",
    "                                    y_train,\n",
    "                                    id_train,\n",
    "                                    params,\n",
    "                                    list_nfold=[0,1,2,3,4],\n",
    "                                    n_splits=5,\n",
    "                                   )"
   ]
  },
  {
   "cell_type": "markdown",
   "id": "b61dcc75",
   "metadata": {
    "papermill": {
     "duration": 0.105003,
     "end_time": "2022-05-01T11:26:53.157164",
     "exception": false,
     "start_time": "2022-05-01T11:26:53.052161",
     "status": "completed"
    },
    "tags": []
   },
   "source": [
    "#### Checking the feature importance "
   ]
  },
  {
   "cell_type": "code",
   "execution_count": 21,
   "id": "e9537530",
   "metadata": {
    "execution": {
     "iopub.execute_input": "2022-05-01T11:26:53.368312Z",
     "iopub.status.busy": "2022-05-01T11:26:53.367755Z",
     "iopub.status.idle": "2022-05-01T11:26:53.379286Z",
     "shell.execute_reply": "2022-05-01T11:26:53.378660Z"
    },
    "papermill": {
     "duration": 0.119132,
     "end_time": "2022-05-01T11:26:53.381119",
     "exception": false,
     "start_time": "2022-05-01T11:26:53.261987",
     "status": "completed"
    },
    "tags": []
   },
   "outputs": [
    {
     "data": {
      "text/html": [
       "<div>\n",
       "<style scoped>\n",
       "    .dataframe tbody tr th:only-of-type {\n",
       "        vertical-align: middle;\n",
       "    }\n",
       "\n",
       "    .dataframe tbody tr th {\n",
       "        vertical-align: top;\n",
       "    }\n",
       "\n",
       "    .dataframe thead th {\n",
       "        text-align: right;\n",
       "    }\n",
       "</style>\n",
       "<table border=\"1\" class=\"dataframe\">\n",
       "  <thead>\n",
       "    <tr style=\"text-align: right;\">\n",
       "      <th></th>\n",
       "      <th>col</th>\n",
       "      <th>imp</th>\n",
       "      <th>imp_std</th>\n",
       "    </tr>\n",
       "  </thead>\n",
       "  <tbody>\n",
       "    <tr>\n",
       "      <th>102</th>\n",
       "      <td>ORGANIZATION_TYPE</td>\n",
       "      <td>423.2</td>\n",
       "      <td>11.322544</td>\n",
       "    </tr>\n",
       "    <tr>\n",
       "      <th>36</th>\n",
       "      <td>EXT_SOURCE_1</td>\n",
       "      <td>235.8</td>\n",
       "      <td>8.526429</td>\n",
       "    </tr>\n",
       "    <tr>\n",
       "      <th>38</th>\n",
       "      <td>EXT_SOURCE_3</td>\n",
       "      <td>219.2</td>\n",
       "      <td>2.588436</td>\n",
       "    </tr>\n",
       "    <tr>\n",
       "      <th>37</th>\n",
       "      <td>EXT_SOURCE_2</td>\n",
       "      <td>185.2</td>\n",
       "      <td>8.497058</td>\n",
       "    </tr>\n",
       "    <tr>\n",
       "      <th>1</th>\n",
       "      <td>AMT_CREDIT</td>\n",
       "      <td>136.4</td>\n",
       "      <td>9.964939</td>\n",
       "    </tr>\n",
       "    <tr>\n",
       "      <th>22</th>\n",
       "      <td>DAYS_BIRTH</td>\n",
       "      <td>130.0</td>\n",
       "      <td>7.745967</td>\n",
       "    </tr>\n",
       "    <tr>\n",
       "      <th>0</th>\n",
       "      <td>AMT_ANNUITY</td>\n",
       "      <td>123.2</td>\n",
       "      <td>13.007690</td>\n",
       "    </tr>\n",
       "    <tr>\n",
       "      <th>24</th>\n",
       "      <td>DAYS_ID_PUBLISH</td>\n",
       "      <td>109.6</td>\n",
       "      <td>7.668116</td>\n",
       "    </tr>\n",
       "    <tr>\n",
       "      <th>2</th>\n",
       "      <td>AMT_GOODS_PRICE</td>\n",
       "      <td>106.6</td>\n",
       "      <td>5.458938</td>\n",
       "    </tr>\n",
       "    <tr>\n",
       "      <th>23</th>\n",
       "      <td>DAYS_EMPLOYED</td>\n",
       "      <td>90.4</td>\n",
       "      <td>6.730527</td>\n",
       "    </tr>\n",
       "  </tbody>\n",
       "</table>\n",
       "</div>"
      ],
      "text/plain": [
       "                   col    imp    imp_std\n",
       "102  ORGANIZATION_TYPE  423.2  11.322544\n",
       "36        EXT_SOURCE_1  235.8   8.526429\n",
       "38        EXT_SOURCE_3  219.2   2.588436\n",
       "37        EXT_SOURCE_2  185.2   8.497058\n",
       "1           AMT_CREDIT  136.4   9.964939\n",
       "22          DAYS_BIRTH  130.0   7.745967\n",
       "0          AMT_ANNUITY  123.2  13.007690\n",
       "24     DAYS_ID_PUBLISH  109.6   7.668116\n",
       "2      AMT_GOODS_PRICE  106.6   5.458938\n",
       "23       DAYS_EMPLOYED   90.4   6.730527"
      ]
     },
     "execution_count": 21,
     "metadata": {},
     "output_type": "execute_result"
    }
   ],
   "source": [
    "imp.sort_values(\"imp\", ascending=False)[:10]"
   ]
  },
  {
   "cell_type": "markdown",
   "id": "6362492d",
   "metadata": {
    "papermill": {
     "duration": 0.105484,
     "end_time": "2022-05-01T11:26:53.593515",
     "exception": false,
     "start_time": "2022-05-01T11:26:53.488031",
     "status": "completed"
    },
    "tags": []
   },
   "source": [
    "# Model Prediction\n",
    "#### ... on test.csv dataset"
   ]
  },
  {
   "cell_type": "code",
   "execution_count": 22,
   "id": "82abb372",
   "metadata": {
    "execution": {
     "iopub.execute_input": "2022-05-01T11:26:53.826145Z",
     "iopub.status.busy": "2022-05-01T11:26:53.825612Z",
     "iopub.status.idle": "2022-05-01T11:26:55.317816Z",
     "shell.execute_reply": "2022-05-01T11:26:55.316839Z"
    },
    "papermill": {
     "duration": 1.620419,
     "end_time": "2022-05-01T11:26:55.320048",
     "exception": false,
     "start_time": "2022-05-01T11:26:53.699629",
     "status": "completed"
    },
    "tags": []
   },
   "outputs": [
    {
     "name": "stdout",
     "output_type": "stream",
     "text": [
      "Memory usage of dataframe is 45.00 MB\n",
      "Memory usage after optimization is: 14.60 MB\n",
      "Decreased by 67.6%\n",
      "(48744, 121)\n"
     ]
    },
    {
     "data": {
      "text/html": [
       "<div>\n",
       "<style scoped>\n",
       "    .dataframe tbody tr th:only-of-type {\n",
       "        vertical-align: middle;\n",
       "    }\n",
       "\n",
       "    .dataframe tbody tr th {\n",
       "        vertical-align: top;\n",
       "    }\n",
       "\n",
       "    .dataframe thead th {\n",
       "        text-align: right;\n",
       "    }\n",
       "</style>\n",
       "<table border=\"1\" class=\"dataframe\">\n",
       "  <thead>\n",
       "    <tr style=\"text-align: right;\">\n",
       "      <th></th>\n",
       "      <th>SK_ID_CURR</th>\n",
       "      <th>NAME_CONTRACT_TYPE</th>\n",
       "      <th>CODE_GENDER</th>\n",
       "      <th>FLAG_OWN_CAR</th>\n",
       "      <th>FLAG_OWN_REALTY</th>\n",
       "      <th>CNT_CHILDREN</th>\n",
       "      <th>AMT_INCOME_TOTAL</th>\n",
       "      <th>AMT_CREDIT</th>\n",
       "      <th>AMT_ANNUITY</th>\n",
       "      <th>AMT_GOODS_PRICE</th>\n",
       "      <th>...</th>\n",
       "      <th>FLAG_DOCUMENT_18</th>\n",
       "      <th>FLAG_DOCUMENT_19</th>\n",
       "      <th>FLAG_DOCUMENT_20</th>\n",
       "      <th>FLAG_DOCUMENT_21</th>\n",
       "      <th>AMT_REQ_CREDIT_BUREAU_HOUR</th>\n",
       "      <th>AMT_REQ_CREDIT_BUREAU_DAY</th>\n",
       "      <th>AMT_REQ_CREDIT_BUREAU_WEEK</th>\n",
       "      <th>AMT_REQ_CREDIT_BUREAU_MON</th>\n",
       "      <th>AMT_REQ_CREDIT_BUREAU_QRT</th>\n",
       "      <th>AMT_REQ_CREDIT_BUREAU_YEAR</th>\n",
       "    </tr>\n",
       "  </thead>\n",
       "  <tbody>\n",
       "    <tr>\n",
       "      <th>48285</th>\n",
       "      <td>452759</td>\n",
       "      <td>Cash loans</td>\n",
       "      <td>F</td>\n",
       "      <td>Y</td>\n",
       "      <td>N</td>\n",
       "      <td>1</td>\n",
       "      <td>405000.0</td>\n",
       "      <td>500490.0</td>\n",
       "      <td>48888.0</td>\n",
       "      <td>450000.0</td>\n",
       "      <td>...</td>\n",
       "      <td>0</td>\n",
       "      <td>0</td>\n",
       "      <td>0</td>\n",
       "      <td>0</td>\n",
       "      <td>0.0</td>\n",
       "      <td>0.0</td>\n",
       "      <td>0.0</td>\n",
       "      <td>0.0</td>\n",
       "      <td>0.0</td>\n",
       "      <td>0.0</td>\n",
       "    </tr>\n",
       "    <tr>\n",
       "      <th>44490</th>\n",
       "      <td>425338</td>\n",
       "      <td>Cash loans</td>\n",
       "      <td>F</td>\n",
       "      <td>N</td>\n",
       "      <td>Y</td>\n",
       "      <td>1</td>\n",
       "      <td>112500.0</td>\n",
       "      <td>481176.0</td>\n",
       "      <td>24696.0</td>\n",
       "      <td>360000.0</td>\n",
       "      <td>...</td>\n",
       "      <td>0</td>\n",
       "      <td>0</td>\n",
       "      <td>0</td>\n",
       "      <td>0</td>\n",
       "      <td>NaN</td>\n",
       "      <td>NaN</td>\n",
       "      <td>NaN</td>\n",
       "      <td>NaN</td>\n",
       "      <td>NaN</td>\n",
       "      <td>NaN</td>\n",
       "    </tr>\n",
       "    <tr>\n",
       "      <th>30197</th>\n",
       "      <td>319602</td>\n",
       "      <td>Cash loans</td>\n",
       "      <td>F</td>\n",
       "      <td>N</td>\n",
       "      <td>Y</td>\n",
       "      <td>0</td>\n",
       "      <td>319500.0</td>\n",
       "      <td>757606.5</td>\n",
       "      <td>28692.0</td>\n",
       "      <td>625500.0</td>\n",
       "      <td>...</td>\n",
       "      <td>0</td>\n",
       "      <td>0</td>\n",
       "      <td>0</td>\n",
       "      <td>0</td>\n",
       "      <td>0.0</td>\n",
       "      <td>0.0</td>\n",
       "      <td>0.0</td>\n",
       "      <td>0.0</td>\n",
       "      <td>0.0</td>\n",
       "      <td>4.0</td>\n",
       "    </tr>\n",
       "    <tr>\n",
       "      <th>46852</th>\n",
       "      <td>442328</td>\n",
       "      <td>Cash loans</td>\n",
       "      <td>F</td>\n",
       "      <td>N</td>\n",
       "      <td>N</td>\n",
       "      <td>1</td>\n",
       "      <td>315000.0</td>\n",
       "      <td>177768.0</td>\n",
       "      <td>9076.5</td>\n",
       "      <td>135000.0</td>\n",
       "      <td>...</td>\n",
       "      <td>0</td>\n",
       "      <td>0</td>\n",
       "      <td>0</td>\n",
       "      <td>0</td>\n",
       "      <td>0.0</td>\n",
       "      <td>0.0</td>\n",
       "      <td>0.0</td>\n",
       "      <td>0.0</td>\n",
       "      <td>0.0</td>\n",
       "      <td>1.0</td>\n",
       "    </tr>\n",
       "    <tr>\n",
       "      <th>9316</th>\n",
       "      <td>167898</td>\n",
       "      <td>Cash loans</td>\n",
       "      <td>F</td>\n",
       "      <td>N</td>\n",
       "      <td>N</td>\n",
       "      <td>0</td>\n",
       "      <td>157500.0</td>\n",
       "      <td>49752.0</td>\n",
       "      <td>5224.5</td>\n",
       "      <td>45000.0</td>\n",
       "      <td>...</td>\n",
       "      <td>0</td>\n",
       "      <td>0</td>\n",
       "      <td>0</td>\n",
       "      <td>0</td>\n",
       "      <td>0.0</td>\n",
       "      <td>0.0</td>\n",
       "      <td>0.0</td>\n",
       "      <td>0.0</td>\n",
       "      <td>1.0</td>\n",
       "      <td>2.0</td>\n",
       "    </tr>\n",
       "    <tr>\n",
       "      <th>24229</th>\n",
       "      <td>276550</td>\n",
       "      <td>Revolving loans</td>\n",
       "      <td>M</td>\n",
       "      <td>Y</td>\n",
       "      <td>Y</td>\n",
       "      <td>1</td>\n",
       "      <td>135000.0</td>\n",
       "      <td>135000.0</td>\n",
       "      <td>6750.0</td>\n",
       "      <td>135000.0</td>\n",
       "      <td>...</td>\n",
       "      <td>0</td>\n",
       "      <td>0</td>\n",
       "      <td>0</td>\n",
       "      <td>0</td>\n",
       "      <td>0.0</td>\n",
       "      <td>0.0</td>\n",
       "      <td>0.0</td>\n",
       "      <td>0.0</td>\n",
       "      <td>0.0</td>\n",
       "      <td>0.0</td>\n",
       "    </tr>\n",
       "    <tr>\n",
       "      <th>7069</th>\n",
       "      <td>151678</td>\n",
       "      <td>Cash loans</td>\n",
       "      <td>F</td>\n",
       "      <td>N</td>\n",
       "      <td>Y</td>\n",
       "      <td>0</td>\n",
       "      <td>112500.0</td>\n",
       "      <td>815733.0</td>\n",
       "      <td>29430.0</td>\n",
       "      <td>688500.0</td>\n",
       "      <td>...</td>\n",
       "      <td>0</td>\n",
       "      <td>0</td>\n",
       "      <td>0</td>\n",
       "      <td>0</td>\n",
       "      <td>0.0</td>\n",
       "      <td>0.0</td>\n",
       "      <td>0.0</td>\n",
       "      <td>0.0</td>\n",
       "      <td>1.0</td>\n",
       "      <td>0.0</td>\n",
       "    </tr>\n",
       "    <tr>\n",
       "      <th>47857</th>\n",
       "      <td>449760</td>\n",
       "      <td>Cash loans</td>\n",
       "      <td>M</td>\n",
       "      <td>Y</td>\n",
       "      <td>N</td>\n",
       "      <td>0</td>\n",
       "      <td>135000.0</td>\n",
       "      <td>431280.0</td>\n",
       "      <td>22149.0</td>\n",
       "      <td>360000.0</td>\n",
       "      <td>...</td>\n",
       "      <td>0</td>\n",
       "      <td>0</td>\n",
       "      <td>0</td>\n",
       "      <td>0</td>\n",
       "      <td>0.0</td>\n",
       "      <td>0.0</td>\n",
       "      <td>0.0</td>\n",
       "      <td>0.0</td>\n",
       "      <td>0.0</td>\n",
       "      <td>1.0</td>\n",
       "    </tr>\n",
       "    <tr>\n",
       "      <th>47957</th>\n",
       "      <td>450428</td>\n",
       "      <td>Cash loans</td>\n",
       "      <td>F</td>\n",
       "      <td>Y</td>\n",
       "      <td>N</td>\n",
       "      <td>0</td>\n",
       "      <td>360000.0</td>\n",
       "      <td>450000.0</td>\n",
       "      <td>35685.0</td>\n",
       "      <td>450000.0</td>\n",
       "      <td>...</td>\n",
       "      <td>0</td>\n",
       "      <td>0</td>\n",
       "      <td>0</td>\n",
       "      <td>0</td>\n",
       "      <td>0.0</td>\n",
       "      <td>0.0</td>\n",
       "      <td>0.0</td>\n",
       "      <td>0.0</td>\n",
       "      <td>0.0</td>\n",
       "      <td>2.0</td>\n",
       "    </tr>\n",
       "    <tr>\n",
       "      <th>33333</th>\n",
       "      <td>343080</td>\n",
       "      <td>Cash loans</td>\n",
       "      <td>M</td>\n",
       "      <td>N</td>\n",
       "      <td>Y</td>\n",
       "      <td>0</td>\n",
       "      <td>225000.0</td>\n",
       "      <td>573408.0</td>\n",
       "      <td>31234.5</td>\n",
       "      <td>495000.0</td>\n",
       "      <td>...</td>\n",
       "      <td>0</td>\n",
       "      <td>0</td>\n",
       "      <td>0</td>\n",
       "      <td>0</td>\n",
       "      <td>0.0</td>\n",
       "      <td>0.0</td>\n",
       "      <td>0.0</td>\n",
       "      <td>0.0</td>\n",
       "      <td>0.0</td>\n",
       "      <td>0.0</td>\n",
       "    </tr>\n",
       "  </tbody>\n",
       "</table>\n",
       "<p>10 rows × 121 columns</p>\n",
       "</div>"
      ],
      "text/plain": [
       "       SK_ID_CURR NAME_CONTRACT_TYPE CODE_GENDER FLAG_OWN_CAR FLAG_OWN_REALTY  \\\n",
       "48285      452759         Cash loans           F            Y               N   \n",
       "44490      425338         Cash loans           F            N               Y   \n",
       "30197      319602         Cash loans           F            N               Y   \n",
       "46852      442328         Cash loans           F            N               N   \n",
       "9316       167898         Cash loans           F            N               N   \n",
       "24229      276550    Revolving loans           M            Y               Y   \n",
       "7069       151678         Cash loans           F            N               Y   \n",
       "47857      449760         Cash loans           M            Y               N   \n",
       "47957      450428         Cash loans           F            Y               N   \n",
       "33333      343080         Cash loans           M            N               Y   \n",
       "\n",
       "       CNT_CHILDREN  AMT_INCOME_TOTAL  AMT_CREDIT  AMT_ANNUITY  \\\n",
       "48285             1          405000.0    500490.0      48888.0   \n",
       "44490             1          112500.0    481176.0      24696.0   \n",
       "30197             0          319500.0    757606.5      28692.0   \n",
       "46852             1          315000.0    177768.0       9076.5   \n",
       "9316              0          157500.0     49752.0       5224.5   \n",
       "24229             1          135000.0    135000.0       6750.0   \n",
       "7069              0          112500.0    815733.0      29430.0   \n",
       "47857             0          135000.0    431280.0      22149.0   \n",
       "47957             0          360000.0    450000.0      35685.0   \n",
       "33333             0          225000.0    573408.0      31234.5   \n",
       "\n",
       "       AMT_GOODS_PRICE  ... FLAG_DOCUMENT_18 FLAG_DOCUMENT_19  \\\n",
       "48285         450000.0  ...                0                0   \n",
       "44490         360000.0  ...                0                0   \n",
       "30197         625500.0  ...                0                0   \n",
       "46852         135000.0  ...                0                0   \n",
       "9316           45000.0  ...                0                0   \n",
       "24229         135000.0  ...                0                0   \n",
       "7069          688500.0  ...                0                0   \n",
       "47857         360000.0  ...                0                0   \n",
       "47957         450000.0  ...                0                0   \n",
       "33333         495000.0  ...                0                0   \n",
       "\n",
       "      FLAG_DOCUMENT_20 FLAG_DOCUMENT_21 AMT_REQ_CREDIT_BUREAU_HOUR  \\\n",
       "48285                0                0                        0.0   \n",
       "44490                0                0                        NaN   \n",
       "30197                0                0                        0.0   \n",
       "46852                0                0                        0.0   \n",
       "9316                 0                0                        0.0   \n",
       "24229                0                0                        0.0   \n",
       "7069                 0                0                        0.0   \n",
       "47857                0                0                        0.0   \n",
       "47957                0                0                        0.0   \n",
       "33333                0                0                        0.0   \n",
       "\n",
       "       AMT_REQ_CREDIT_BUREAU_DAY  AMT_REQ_CREDIT_BUREAU_WEEK  \\\n",
       "48285                        0.0                         0.0   \n",
       "44490                        NaN                         NaN   \n",
       "30197                        0.0                         0.0   \n",
       "46852                        0.0                         0.0   \n",
       "9316                         0.0                         0.0   \n",
       "24229                        0.0                         0.0   \n",
       "7069                         0.0                         0.0   \n",
       "47857                        0.0                         0.0   \n",
       "47957                        0.0                         0.0   \n",
       "33333                        0.0                         0.0   \n",
       "\n",
       "       AMT_REQ_CREDIT_BUREAU_MON  AMT_REQ_CREDIT_BUREAU_QRT  \\\n",
       "48285                        0.0                        0.0   \n",
       "44490                        NaN                        NaN   \n",
       "30197                        0.0                        0.0   \n",
       "46852                        0.0                        0.0   \n",
       "9316                         0.0                        1.0   \n",
       "24229                        0.0                        0.0   \n",
       "7069                         0.0                        1.0   \n",
       "47857                        0.0                        0.0   \n",
       "47957                        0.0                        0.0   \n",
       "33333                        0.0                        0.0   \n",
       "\n",
       "       AMT_REQ_CREDIT_BUREAU_YEAR  \n",
       "48285                         0.0  \n",
       "44490                         NaN  \n",
       "30197                         4.0  \n",
       "46852                         1.0  \n",
       "9316                          2.0  \n",
       "24229                         0.0  \n",
       "7069                          0.0  \n",
       "47857                         1.0  \n",
       "47957                         2.0  \n",
       "33333                         0.0  \n",
       "\n",
       "[10 rows x 121 columns]"
      ]
     },
     "metadata": {},
     "output_type": "display_data"
    }
   ],
   "source": [
    "application_test = pd.read_csv(os.path.join(dir_, test))\n",
    "application_test = reduce_mem_usage(application_test)\n",
    "print(application_test.shape)\n",
    "display(application_test.sample(10))\n",
    "\n",
    "x_test = application_test.drop(columns=[\"SK_ID_CURR\" ])\n",
    "id_test = application_test[[\"SK_ID_CURR\"]]\n",
    "\n",
    "# Change categorical type as category\n",
    "for col in x_test.columns:\n",
    "    if (x_test[col].dtype==\"0\") or (x_test[col].dtype==\"object\"):\n",
    "        x_test[col] = x_test[col].astype(\"category\")\n",
    "        "
   ]
  },
  {
   "cell_type": "markdown",
   "id": "bc55e401",
   "metadata": {
    "papermill": {
     "duration": 0.109449,
     "end_time": "2022-05-01T11:26:55.537495",
     "exception": false,
     "start_time": "2022-05-01T11:26:55.428046",
     "status": "completed"
    },
    "tags": []
   },
   "source": [
    "#### Read trainded model"
   ]
  },
  {
   "cell_type": "code",
   "execution_count": 23,
   "id": "2a0d4daa",
   "metadata": {
    "execution": {
     "iopub.execute_input": "2022-05-01T11:26:55.754412Z",
     "iopub.status.busy": "2022-05-01T11:26:55.754050Z",
     "iopub.status.idle": "2022-05-01T11:26:55.773753Z",
     "shell.execute_reply": "2022-05-01T11:26:55.773010Z"
    },
    "papermill": {
     "duration": 0.129157,
     "end_time": "2022-05-01T11:26:55.775801",
     "exception": false,
     "start_time": "2022-05-01T11:26:55.646644",
     "status": "completed"
    },
    "tags": []
   },
   "outputs": [],
   "source": [
    "with open(\"model_lgb_fold0.pickle\", \"rb\") as f:\n",
    "    model = pickle.load(f)"
   ]
  },
  {
   "cell_type": "markdown",
   "id": "e23b88cc",
   "metadata": {
    "papermill": {
     "duration": 0.107506,
     "end_time": "2022-05-01T11:26:55.992791",
     "exception": false,
     "start_time": "2022-05-01T11:26:55.885285",
     "status": "completed"
    },
    "tags": []
   },
   "source": [
    "#### Prediction"
   ]
  },
  {
   "cell_type": "code",
   "execution_count": 24,
   "id": "b5365e30",
   "metadata": {
    "execution": {
     "iopub.execute_input": "2022-05-01T11:26:56.211503Z",
     "iopub.status.busy": "2022-05-01T11:26:56.211216Z",
     "iopub.status.idle": "2022-05-01T11:26:56.674680Z",
     "shell.execute_reply": "2022-05-01T11:26:56.673958Z"
    },
    "papermill": {
     "duration": 0.574096,
     "end_time": "2022-05-01T11:26:56.677118",
     "exception": false,
     "start_time": "2022-05-01T11:26:56.103022",
     "status": "completed"
    },
    "tags": []
   },
   "outputs": [],
   "source": [
    "test_pred_fold = model.predict_proba(x_test)[:,1]\n",
    "test_pred = np.zeros((len(x_test), 5))\n",
    "\n",
    "# Prediction on first fold \n",
    "test_pred[:, 0] = test_pred_fold"
   ]
  },
  {
   "cell_type": "code",
   "execution_count": 25,
   "id": "4ca5b8ad",
   "metadata": {
    "execution": {
     "iopub.execute_input": "2022-05-01T11:26:57.107602Z",
     "iopub.status.busy": "2022-05-01T11:26:57.107285Z",
     "iopub.status.idle": "2022-05-01T11:26:57.121509Z",
     "shell.execute_reply": "2022-05-01T11:26:57.120429Z"
    },
    "papermill": {
     "duration": 0.125423,
     "end_time": "2022-05-01T11:26:57.123612",
     "exception": false,
     "start_time": "2022-05-01T11:26:56.998189",
     "status": "completed"
    },
    "tags": []
   },
   "outputs": [
    {
     "data": {
      "text/html": [
       "<div>\n",
       "<style scoped>\n",
       "    .dataframe tbody tr th:only-of-type {\n",
       "        vertical-align: middle;\n",
       "    }\n",
       "\n",
       "    .dataframe tbody tr th {\n",
       "        vertical-align: top;\n",
       "    }\n",
       "\n",
       "    .dataframe thead th {\n",
       "        text-align: right;\n",
       "    }\n",
       "</style>\n",
       "<table border=\"1\" class=\"dataframe\">\n",
       "  <thead>\n",
       "    <tr style=\"text-align: right;\">\n",
       "      <th></th>\n",
       "      <th>SK_ID_CURR</th>\n",
       "      <th>pred</th>\n",
       "    </tr>\n",
       "  </thead>\n",
       "  <tbody>\n",
       "    <tr>\n",
       "      <th>0</th>\n",
       "      <td>100001</td>\n",
       "      <td>0.006279</td>\n",
       "    </tr>\n",
       "    <tr>\n",
       "      <th>1</th>\n",
       "      <td>100005</td>\n",
       "      <td>0.025689</td>\n",
       "    </tr>\n",
       "    <tr>\n",
       "      <th>2</th>\n",
       "      <td>100013</td>\n",
       "      <td>0.004323</td>\n",
       "    </tr>\n",
       "    <tr>\n",
       "      <th>3</th>\n",
       "      <td>100028</td>\n",
       "      <td>0.008313</td>\n",
       "    </tr>\n",
       "    <tr>\n",
       "      <th>4</th>\n",
       "      <td>100038</td>\n",
       "      <td>0.030235</td>\n",
       "    </tr>\n",
       "  </tbody>\n",
       "</table>\n",
       "</div>"
      ],
      "text/plain": [
       "   SK_ID_CURR      pred\n",
       "0      100001  0.006279\n",
       "1      100005  0.025689\n",
       "2      100013  0.004323\n",
       "3      100028  0.008313\n",
       "4      100038  0.030235"
      ]
     },
     "execution_count": 25,
     "metadata": {},
     "output_type": "execute_result"
    }
   ],
   "source": [
    "# Calculate the average prediction for each fold\n",
    "test_pred_mean = test_pred.mean(axis=1)\n",
    "\n",
    "df_test_pred = pd.concat([\n",
    "        id_test,\n",
    "        pd.DataFrame({\"pred\": test_pred_mean}),\n",
    "    ], axis=1)\n",
    "df_test_pred.head()"
   ]
  },
  {
   "cell_type": "code",
   "execution_count": 26,
   "id": "8a8cd46e",
   "metadata": {
    "execution": {
     "iopub.execute_input": "2022-05-01T11:26:57.552791Z",
     "iopub.status.busy": "2022-05-01T11:26:57.552013Z",
     "iopub.status.idle": "2022-05-01T11:26:57.560108Z",
     "shell.execute_reply": "2022-05-01T11:26:57.559228Z"
    },
    "papermill": {
     "duration": 0.118831,
     "end_time": "2022-05-01T11:26:57.562308",
     "exception": false,
     "start_time": "2022-05-01T11:26:57.443477",
     "status": "completed"
    },
    "tags": []
   },
   "outputs": [],
   "source": [
    "def predict_lgb(input_x,\n",
    "                input_id,\n",
    "                list_nfold=[0,1,2,3,4],\n",
    "               ):\n",
    "    pred = np.zeros((len(input_x), len(list_nfold)))\n",
    "    for nfold in list_nfold:\n",
    "        print(\"-\"*20, nfold, \"-\"*20)\n",
    "        fname_lgb = \"model_lgb_fold{}.pickle\".format(nfold)\n",
    "        with open(fname_lgb, \"rb\") as f:\n",
    "            model = pickle.load(f)\n",
    "        pred[:, nfold] = model.predict_proba(input_x)[:,1]\n",
    "    \n",
    "    pred = pd.concat([\n",
    "        input_id,\n",
    "        pd.DataFrame({\"pred\": pred.mean(axis=1)}),\n",
    "    ], axis=1)\n",
    "    \n",
    "    print(\"Done.\")\n",
    "    \n",
    "    return pred"
   ]
  },
  {
   "cell_type": "markdown",
   "id": "ecdf93fa",
   "metadata": {
    "papermill": {
     "duration": 0.107067,
     "end_time": "2022-05-01T11:26:57.776862",
     "exception": false,
     "start_time": "2022-05-01T11:26:57.669795",
     "status": "completed"
    },
    "tags": []
   },
   "source": [
    "#### Run prediction"
   ]
  },
  {
   "cell_type": "code",
   "execution_count": 27,
   "id": "32d355ba",
   "metadata": {
    "execution": {
     "iopub.execute_input": "2022-05-01T11:26:58.006293Z",
     "iopub.status.busy": "2022-05-01T11:26:58.005385Z",
     "iopub.status.idle": "2022-05-01T11:27:00.495280Z",
     "shell.execute_reply": "2022-05-01T11:27:00.494465Z"
    },
    "papermill": {
     "duration": 2.605278,
     "end_time": "2022-05-01T11:27:00.497844",
     "exception": false,
     "start_time": "2022-05-01T11:26:57.892566",
     "status": "completed"
    },
    "tags": []
   },
   "outputs": [
    {
     "name": "stdout",
     "output_type": "stream",
     "text": [
      "-------------------- 0 --------------------\n",
      "-------------------- 1 --------------------\n",
      "-------------------- 2 --------------------\n",
      "-------------------- 3 --------------------\n",
      "-------------------- 4 --------------------\n",
      "Done.\n"
     ]
    }
   ],
   "source": [
    "test_pred = predict_lgb(x_test,\n",
    "                        id_test,\n",
    "                        list_nfold=[0,1,2,3,4],\n",
    "                       )"
   ]
  },
  {
   "cell_type": "markdown",
   "id": "20bd4751",
   "metadata": {
    "papermill": {
     "duration": 0.114706,
     "end_time": "2022-05-01T11:27:00.725305",
     "exception": false,
     "start_time": "2022-05-01T11:27:00.610599",
     "status": "completed"
    },
    "tags": []
   },
   "source": [
    "#### Create kaggle submission file"
   ]
  },
  {
   "cell_type": "code",
   "execution_count": 28,
   "id": "be5c9660",
   "metadata": {
    "execution": {
     "iopub.execute_input": "2022-05-01T11:27:00.950870Z",
     "iopub.status.busy": "2022-05-01T11:27:00.950319Z",
     "iopub.status.idle": "2022-05-01T11:27:01.143874Z",
     "shell.execute_reply": "2022-05-01T11:27:01.142874Z"
    },
    "papermill": {
     "duration": 0.312005,
     "end_time": "2022-05-01T11:27:01.146631",
     "exception": false,
     "start_time": "2022-05-01T11:27:00.834626",
     "status": "completed"
    },
    "tags": []
   },
   "outputs": [
    {
     "name": "stdout",
     "output_type": "stream",
     "text": [
      "(48744, 2)\n"
     ]
    },
    {
     "data": {
      "text/html": [
       "<div>\n",
       "<style scoped>\n",
       "    .dataframe tbody tr th:only-of-type {\n",
       "        vertical-align: middle;\n",
       "    }\n",
       "\n",
       "    .dataframe tbody tr th {\n",
       "        vertical-align: top;\n",
       "    }\n",
       "\n",
       "    .dataframe thead th {\n",
       "        text-align: right;\n",
       "    }\n",
       "</style>\n",
       "<table border=\"1\" class=\"dataframe\">\n",
       "  <thead>\n",
       "    <tr style=\"text-align: right;\">\n",
       "      <th></th>\n",
       "      <th>SK_ID_CURR</th>\n",
       "      <th>TARGET</th>\n",
       "    </tr>\n",
       "  </thead>\n",
       "  <tbody>\n",
       "    <tr>\n",
       "      <th>0</th>\n",
       "      <td>100001</td>\n",
       "      <td>0.041861</td>\n",
       "    </tr>\n",
       "    <tr>\n",
       "      <th>1</th>\n",
       "      <td>100005</td>\n",
       "      <td>0.129015</td>\n",
       "    </tr>\n",
       "    <tr>\n",
       "      <th>2</th>\n",
       "      <td>100013</td>\n",
       "      <td>0.024040</td>\n",
       "    </tr>\n",
       "    <tr>\n",
       "      <th>3</th>\n",
       "      <td>100028</td>\n",
       "      <td>0.039112</td>\n",
       "    </tr>\n",
       "    <tr>\n",
       "      <th>4</th>\n",
       "      <td>100038</td>\n",
       "      <td>0.154073</td>\n",
       "    </tr>\n",
       "  </tbody>\n",
       "</table>\n",
       "</div>"
      ],
      "text/plain": [
       "   SK_ID_CURR    TARGET\n",
       "0      100001  0.041861\n",
       "1      100005  0.129015\n",
       "2      100013  0.024040\n",
       "3      100028  0.039112\n",
       "4      100038  0.154073"
      ]
     },
     "metadata": {},
     "output_type": "display_data"
    }
   ],
   "source": [
    "df_submit = test_pred.rename(columns={\"pred\":\"TARGET\"})\n",
    "print(df_submit.shape)\n",
    "display(df_submit.head())\n",
    "\n",
    "df_submit.to_csv(\"a0_submission_baseline.csv\", index=None)"
   ]
  },
  {
   "cell_type": "markdown",
   "id": "67f297a5",
   "metadata": {
    "papermill": {
     "duration": 0.110437,
     "end_time": "2022-05-01T11:27:01.386007",
     "exception": false,
     "start_time": "2022-05-01T11:27:01.275570",
     "status": "completed"
    },
    "tags": []
   },
   "source": [
    "# Feature Engineering\n",
    "## Feature Engineering #1 added combination features"
   ]
  },
  {
   "cell_type": "markdown",
   "id": "8e15e09f",
   "metadata": {
    "papermill": {
     "duration": 0.11214,
     "end_time": "2022-05-01T11:27:01.608941",
     "exception": false,
     "start_time": "2022-05-01T11:27:01.496801",
     "status": "completed"
    },
    "tags": []
   },
   "source": [
    "<!-- https://blog.ml.cmu.edu/2020/08/31/3-baselines/-->\n",
    "<div> <img src=\"./image/CombineColumns.png\" alt=\"Drawing\" style=\"width: 350px;\"/></div>\n",
    "\n"
   ]
  },
  {
   "cell_type": "code",
   "execution_count": 29,
   "id": "ae167847",
   "metadata": {
    "execution": {
     "iopub.execute_input": "2022-05-01T11:27:01.831095Z",
     "iopub.status.busy": "2022-05-01T11:27:01.830555Z",
     "iopub.status.idle": "2022-05-01T11:27:01.845079Z",
     "shell.execute_reply": "2022-05-01T11:27:01.844203Z"
    },
    "papermill": {
     "duration": 0.12863,
     "end_time": "2022-05-01T11:27:01.846983",
     "exception": false,
     "start_time": "2022-05-01T11:27:01.718353",
     "status": "completed"
    },
    "tags": []
   },
   "outputs": [
    {
     "data": {
      "text/plain": [
       " 365243    55374\n",
       "-200         156\n",
       "-224         152\n",
       "-230         151\n",
       "-199         151\n",
       "           ...  \n",
       "-13961         1\n",
       "-11827         1\n",
       "-10176         1\n",
       "-9459          1\n",
       "-8694          1\n",
       "Name: DAYS_EMPLOYED, Length: 12574, dtype: int64"
      ]
     },
     "metadata": {},
     "output_type": "display_data"
    },
    {
     "name": "stdout",
     "output_type": "stream",
     "text": [
      "Ratio of postive value : 0.1801\n",
      "Number of postive value: 55374\n"
     ]
    }
   ],
   "source": [
    "display(application_train[\"DAYS_EMPLOYED\"].value_counts())\n",
    "print(\"Ratio of postive value : {:.4f}\".format((application_train[\"DAYS_EMPLOYED\"]>0).mean()))\n",
    "print(\"Number of postive value: {}\".format((application_train[\"DAYS_EMPLOYED\"]>0).sum()))\n"
   ]
  },
  {
   "cell_type": "markdown",
   "id": "ff104639",
   "metadata": {
    "papermill": {
     "duration": 0.111319,
     "end_time": "2022-05-01T11:27:02.072922",
     "exception": false,
     "start_time": "2022-05-01T11:27:01.961603",
     "status": "completed"
    },
    "tags": []
   },
   "source": [
    "#### Dealing with missing values（converted 365243 to null）"
   ]
  },
  {
   "cell_type": "code",
   "execution_count": 30,
   "id": "cd74165a",
   "metadata": {
    "execution": {
     "iopub.execute_input": "2022-05-01T11:27:02.318512Z",
     "iopub.status.busy": "2022-05-01T11:27:02.318212Z",
     "iopub.status.idle": "2022-05-01T11:27:02.326796Z",
     "shell.execute_reply": "2022-05-01T11:27:02.325940Z"
    },
    "papermill": {
     "duration": 0.141363,
     "end_time": "2022-05-01T11:27:02.329070",
     "exception": false,
     "start_time": "2022-05-01T11:27:02.187707",
     "status": "completed"
    },
    "tags": []
   },
   "outputs": [],
   "source": [
    "application_train[\"DAYS_EMPLOYED\"] = application_train[\"DAYS_EMPLOYED\"].replace(365243, np.nan)"
   ]
  },
  {
   "cell_type": "markdown",
   "id": "73fcde5b",
   "metadata": {
    "papermill": {
     "duration": 0.118062,
     "end_time": "2022-05-01T11:27:02.563285",
     "exception": false,
     "start_time": "2022-05-01T11:27:02.445223",
     "status": "completed"
    },
    "tags": []
   },
   "source": [
    "#### Hypothesis-based feature generation"
   ]
  },
  {
   "cell_type": "code",
   "execution_count": 31,
   "id": "7c9c5d0c",
   "metadata": {
    "execution": {
     "iopub.execute_input": "2022-05-01T11:27:02.790802Z",
     "iopub.status.busy": "2022-05-01T11:27:02.790532Z",
     "iopub.status.idle": "2022-05-01T11:27:03.084152Z",
     "shell.execute_reply": "2022-05-01T11:27:03.083461Z"
    },
    "papermill": {
     "duration": 0.40869,
     "end_time": "2022-05-01T11:27:03.086406",
     "exception": false,
     "start_time": "2022-05-01T11:27:02.677716",
     "status": "completed"
    },
    "tags": []
   },
   "outputs": [],
   "source": [
    "# Feature combination\n",
    "\n",
    "# Feature 1: INCOME_div_PERSON\n",
    "application_train['INCOME_div_PERSON'] = application_train['AMT_INCOME_TOTAL'] / application_train['CNT_FAM_MEMBERS']\n",
    "\n",
    "# Feature 2: INCOME_div_EMPLOYED\n",
    "application_train['INCOME_div_EMPLOYED'] = application_train['AMT_INCOME_TOTAL'] / application_train['DAYS_EMPLOYED']\n",
    "\n",
    "# Feature 3: Add stats as mean, max, etc\n",
    "application_train[\"EXT_SOURCE_mean\"] = application_train[[\"EXT_SOURCE_1\", \"EXT_SOURCE_2\", \"EXT_SOURCE_3\"]].mean(axis=1)\n",
    "application_train[\"EXT_SOURCE_max\"] = application_train[[\"EXT_SOURCE_1\", \"EXT_SOURCE_2\", \"EXT_SOURCE_3\"]].max(axis=1)\n",
    "application_train[\"EXT_SOURCE_min\"] = application_train[[\"EXT_SOURCE_1\", \"EXT_SOURCE_2\", \"EXT_SOURCE_3\"]].min(axis=1)\n",
    "application_train[\"EXT_SOURCE_std\"] = application_train[[\"EXT_SOURCE_1\", \"EXT_SOURCE_2\", \"EXT_SOURCE_3\"]].std(axis=1)\n",
    "application_train[\"EXT_SOURCE_count\"] = application_train[[\"EXT_SOURCE_1\", \"EXT_SOURCE_2\", \"EXT_SOURCE_3\"]].notnull().sum(axis=1)\n",
    "\n",
    "# Feature 4: DAYS_EMPLOYED_div_BIRTH\n",
    "application_train['DAYS_EMPLOYED_div_BIRTH'] = application_train['DAYS_EMPLOYED'] / application_train['DAYS_BIRTH']\n",
    "\n",
    "# Feature 5: ANNUITY_div_INCOME\n",
    "application_train['ANNUITY_div_INCOME'] = application_train['AMT_ANNUITY'] / application_train['AMT_INCOME_TOTAL']\n",
    "\n",
    "# Feature 6: ANNUITY_div_CREDIT\n",
    "application_train['ANNUITY_div_CREDIT'] = application_train['AMT_ANNUITY'] / application_train['AMT_CREDIT']"
   ]
  },
  {
   "cell_type": "code",
   "execution_count": 32,
   "id": "e5b54809",
   "metadata": {
    "execution": {
     "iopub.execute_input": "2022-05-01T11:27:03.567180Z",
     "iopub.status.busy": "2022-05-01T11:27:03.566525Z",
     "iopub.status.idle": "2022-05-01T11:27:04.398322Z",
     "shell.execute_reply": "2022-05-01T11:27:04.397422Z"
    },
    "papermill": {
     "duration": 0.974711,
     "end_time": "2022-05-01T11:27:04.400895",
     "exception": false,
     "start_time": "2022-05-01T11:27:03.426184",
     "status": "completed"
    },
    "tags": []
   },
   "outputs": [],
   "source": [
    "x_train = application_train.drop(columns=[\"TARGET\", \"SK_ID_CURR\"])\n",
    "y_train = application_train[\"TARGET\"]\n",
    "id_train = application_train[[\"SK_ID_CURR\"]]\n",
    "\n",
    "for col in x_train.columns:\n",
    "    if (x_train[col].dtype==\"0\") or (x_train[col].dtype==\"object\"):\n",
    "        x_train[col] = x_train[col].astype(\"category\")"
   ]
  },
  {
   "cell_type": "code",
   "execution_count": 33,
   "id": "df10780b",
   "metadata": {
    "execution": {
     "iopub.execute_input": "2022-05-01T11:27:04.852576Z",
     "iopub.status.busy": "2022-05-01T11:27:04.851974Z",
     "iopub.status.idle": "2022-05-01T11:30:38.836750Z",
     "shell.execute_reply": "2022-05-01T11:30:38.835665Z"
    },
    "papermill": {
     "duration": 214.102345,
     "end_time": "2022-05-01T11:30:38.839021",
     "exception": false,
     "start_time": "2022-05-01T11:27:04.736676",
     "status": "completed"
    },
    "tags": []
   },
   "outputs": [
    {
     "name": "stdout",
     "output_type": "stream",
     "text": [
      "-------------------- 0 --------------------\n",
      "(246008, 130) (61503, 130)\n",
      "[100]\ttraining's auc: 0.813555\tvalid_1's auc: 0.762234\n",
      "[auc] tr:0.8136, va:0.7622\n",
      "-------------------- 1 --------------------\n",
      "(246009, 130) (61502, 130)\n",
      "[100]\ttraining's auc: 0.814392\tvalid_1's auc: 0.765774\n",
      "[auc] tr:0.8144, va:0.7658\n",
      "-------------------- 2 --------------------\n",
      "(246009, 130) (61502, 130)\n",
      "[100]\ttraining's auc: 0.812038\tvalid_1's auc: 0.766051\n",
      "[auc] tr:0.8120, va:0.7661\n",
      "-------------------- 3 --------------------\n",
      "(246009, 130) (61502, 130)\n",
      "[100]\ttraining's auc: 0.814433\tvalid_1's auc: 0.761373\n",
      "[auc] tr:0.8144, va:0.7614\n",
      "-------------------- 4 --------------------\n",
      "(246009, 130) (61502, 130)\n",
      "[100]\ttraining's auc: 0.814147\tvalid_1's auc: 0.757861\n",
      "[auc] tr:0.8141, va:0.7579\n",
      "-------------------- result --------------------\n",
      "[[0.         0.81355544 0.76223382]\n",
      " [1.         0.81439179 0.76577447]\n",
      " [2.         0.81203825 0.76605053]\n",
      " [3.         0.81443332 0.76137314]\n",
      " [4.         0.81414662 0.75786134]]\n",
      "[cv] tr:0.8137+-0.0009, va:0.7627+-0.0030\n",
      "[oof] 0.7626\n"
     ]
    }
   ],
   "source": [
    "train_oof, imp, metrics = train_lgb(x_train,\n",
    "                                    y_train,\n",
    "                                    id_train,\n",
    "                                    params,\n",
    "                                    list_nfold=[0,1,2,3,4],\n",
    "                                    n_splits=5,\n",
    "                                   )"
   ]
  },
  {
   "cell_type": "code",
   "execution_count": 34,
   "id": "49ca05d2",
   "metadata": {
    "execution": {
     "iopub.execute_input": "2022-05-01T11:30:39.344047Z",
     "iopub.status.busy": "2022-05-01T11:30:39.343740Z",
     "iopub.status.idle": "2022-05-01T11:30:39.357450Z",
     "shell.execute_reply": "2022-05-01T11:30:39.356643Z"
    },
    "papermill": {
     "duration": 0.141231,
     "end_time": "2022-05-01T11:30:39.359513",
     "exception": false,
     "start_time": "2022-05-01T11:30:39.218282",
     "status": "completed"
    },
    "tags": []
   },
   "outputs": [
    {
     "data": {
      "text/html": [
       "<div>\n",
       "<style scoped>\n",
       "    .dataframe tbody tr th:only-of-type {\n",
       "        vertical-align: middle;\n",
       "    }\n",
       "\n",
       "    .dataframe tbody tr th {\n",
       "        vertical-align: top;\n",
       "    }\n",
       "\n",
       "    .dataframe thead th {\n",
       "        text-align: right;\n",
       "    }\n",
       "</style>\n",
       "<table border=\"1\" class=\"dataframe\">\n",
       "  <thead>\n",
       "    <tr style=\"text-align: right;\">\n",
       "      <th></th>\n",
       "      <th>col</th>\n",
       "      <th>imp</th>\n",
       "      <th>imp_std</th>\n",
       "    </tr>\n",
       "  </thead>\n",
       "  <tbody>\n",
       "    <tr>\n",
       "      <th>112</th>\n",
       "      <td>ORGANIZATION_TYPE</td>\n",
       "      <td>381.4</td>\n",
       "      <td>19.603571</td>\n",
       "    </tr>\n",
       "    <tr>\n",
       "      <th>10</th>\n",
       "      <td>ANNUITY_div_CREDIT</td>\n",
       "      <td>308.2</td>\n",
       "      <td>14.307341</td>\n",
       "    </tr>\n",
       "    <tr>\n",
       "      <th>41</th>\n",
       "      <td>EXT_SOURCE_3</td>\n",
       "      <td>129.0</td>\n",
       "      <td>5.744563</td>\n",
       "    </tr>\n",
       "    <tr>\n",
       "      <th>24</th>\n",
       "      <td>DAYS_BIRTH</td>\n",
       "      <td>116.2</td>\n",
       "      <td>8.786353</td>\n",
       "    </tr>\n",
       "    <tr>\n",
       "      <th>39</th>\n",
       "      <td>EXT_SOURCE_1</td>\n",
       "      <td>108.8</td>\n",
       "      <td>7.049823</td>\n",
       "    </tr>\n",
       "    <tr>\n",
       "      <th>44</th>\n",
       "      <td>EXT_SOURCE_mean</td>\n",
       "      <td>108.0</td>\n",
       "      <td>6.782330</td>\n",
       "    </tr>\n",
       "    <tr>\n",
       "      <th>27</th>\n",
       "      <td>DAYS_ID_PUBLISH</td>\n",
       "      <td>85.0</td>\n",
       "      <td>7.314369</td>\n",
       "    </tr>\n",
       "    <tr>\n",
       "      <th>0</th>\n",
       "      <td>AMT_ANNUITY</td>\n",
       "      <td>81.6</td>\n",
       "      <td>9.838699</td>\n",
       "    </tr>\n",
       "    <tr>\n",
       "      <th>2</th>\n",
       "      <td>AMT_GOODS_PRICE</td>\n",
       "      <td>79.0</td>\n",
       "      <td>5.385165</td>\n",
       "    </tr>\n",
       "    <tr>\n",
       "      <th>1</th>\n",
       "      <td>AMT_CREDIT</td>\n",
       "      <td>70.4</td>\n",
       "      <td>5.224940</td>\n",
       "    </tr>\n",
       "  </tbody>\n",
       "</table>\n",
       "</div>"
      ],
      "text/plain": [
       "                    col    imp    imp_std\n",
       "112   ORGANIZATION_TYPE  381.4  19.603571\n",
       "10   ANNUITY_div_CREDIT  308.2  14.307341\n",
       "41         EXT_SOURCE_3  129.0   5.744563\n",
       "24           DAYS_BIRTH  116.2   8.786353\n",
       "39         EXT_SOURCE_1  108.8   7.049823\n",
       "44      EXT_SOURCE_mean  108.0   6.782330\n",
       "27      DAYS_ID_PUBLISH   85.0   7.314369\n",
       "0           AMT_ANNUITY   81.6   9.838699\n",
       "2       AMT_GOODS_PRICE   79.0   5.385165\n",
       "1            AMT_CREDIT   70.4   5.224940"
      ]
     },
     "execution_count": 34,
     "metadata": {},
     "output_type": "execute_result"
    }
   ],
   "source": [
    "imp.sort_values(\"imp\", ascending=False)[:10]"
   ]
  },
  {
   "cell_type": "markdown",
   "id": "261482c1",
   "metadata": {
    "papermill": {
     "duration": 0.123778,
     "end_time": "2022-05-01T11:30:39.606842",
     "exception": false,
     "start_time": "2022-05-01T11:30:39.483064",
     "status": "completed"
    },
    "tags": []
   },
   "source": [
    "#### Create test dataset"
   ]
  },
  {
   "cell_type": "code",
   "execution_count": 35,
   "id": "817e8c75",
   "metadata": {
    "execution": {
     "iopub.execute_input": "2022-05-01T11:30:39.859599Z",
     "iopub.status.busy": "2022-05-01T11:30:39.858712Z",
     "iopub.status.idle": "2022-05-01T11:30:40.077800Z",
     "shell.execute_reply": "2022-05-01T11:30:40.076679Z"
    },
    "papermill": {
     "duration": 0.349718,
     "end_time": "2022-05-01T11:30:40.080266",
     "exception": false,
     "start_time": "2022-05-01T11:30:39.730548",
     "status": "completed"
    },
    "tags": []
   },
   "outputs": [],
   "source": [
    "\n",
    "application_test[\"DAYS_EMPLOYED\"] = application_test[\"DAYS_EMPLOYED\"].replace(365243, np.nan)\n",
    "\n",
    "\n",
    "application_test['INCOME_div_PERSON'] = application_test['AMT_INCOME_TOTAL'] / application_test['CNT_FAM_MEMBERS']\n",
    "application_test['INCOME_div_EMPLOYED'] = application_test['AMT_INCOME_TOTAL'] / application_test['DAYS_EMPLOYED']\n",
    "application_test[\"EXT_SOURCE_mean\"] = application_test[[\"EXT_SOURCE_1\", \"EXT_SOURCE_2\", \"EXT_SOURCE_3\"]].mean(axis=1)\n",
    "application_test[\"EXT_SOURCE_max\"] = application_test[[\"EXT_SOURCE_1\", \"EXT_SOURCE_2\", \"EXT_SOURCE_3\"]].max(axis=1)\n",
    "application_test[\"EXT_SOURCE_min\"] = application_test[[\"EXT_SOURCE_1\", \"EXT_SOURCE_2\", \"EXT_SOURCE_3\"]].min(axis=1)\n",
    "application_test[\"EXT_SOURCE_std\"] = application_test[[\"EXT_SOURCE_1\", \"EXT_SOURCE_2\", \"EXT_SOURCE_3\"]].std(axis=1)\n",
    "application_test[\"EXT_SOURCE_count\"] = application_test[[\"EXT_SOURCE_1\", \"EXT_SOURCE_2\", \"EXT_SOURCE_3\"]].notnull().sum(axis=1)\n",
    "application_test['DAYS_EMPLOYED_div_BIRTH'] = application_test['DAYS_EMPLOYED'] / application_test['DAYS_BIRTH']\n",
    "application_test['ANNUITY_div_INCOME'] = application_test['AMT_ANNUITY'] / application_test['AMT_INCOME_TOTAL']\n",
    "application_test['ANNUITY_div_CREDIT'] = application_test['AMT_ANNUITY'] / application_test['AMT_CREDIT']\n",
    "\n",
    "\n",
    "x_test = application_test.drop(columns=[\"SK_ID_CURR\"])\n",
    "id_test = application_test[[\"SK_ID_CURR\"]]\n",
    "\n",
    "\n",
    "for col in x_test.columns:\n",
    "    if (x_test[col].dtype==\"0\") or (x_test[col].dtype==\"object\"):\n",
    "        x_test[col] = x_test[col].astype(\"category\")\n"
   ]
  },
  {
   "cell_type": "code",
   "execution_count": 36,
   "id": "cbcfa5b4",
   "metadata": {},
   "outputs": [
    {
     "name": "stdout",
     "output_type": "stream",
     "text": [
      "(307511, 130)\n",
      "(48744, 130)\n"
     ]
    }
   ],
   "source": [
    "print(x_train.shape)\n",
    "print(x_test.shape)"
   ]
  },
  {
   "cell_type": "code",
   "execution_count": 37,
   "id": "102332ab",
   "metadata": {
    "execution": {
     "iopub.execute_input": "2022-05-01T11:30:40.580028Z",
     "iopub.status.busy": "2022-05-01T11:30:40.579147Z",
     "iopub.status.idle": "2022-05-01T11:30:44.046619Z",
     "shell.execute_reply": "2022-05-01T11:30:44.045960Z"
    },
    "papermill": {
     "duration": 3.595883,
     "end_time": "2022-05-01T11:30:44.049446",
     "exception": false,
     "start_time": "2022-05-01T11:30:40.453563",
     "status": "completed"
    },
    "tags": []
   },
   "outputs": [
    {
     "name": "stdout",
     "output_type": "stream",
     "text": [
      "-------------------- 0 --------------------\n",
      "-------------------- 1 --------------------\n",
      "-------------------- 2 --------------------\n",
      "-------------------- 3 --------------------\n",
      "-------------------- 4 --------------------\n",
      "Done.\n"
     ]
    }
   ],
   "source": [
    "test_pred = predict_lgb(x_test,\n",
    "                        id_test,\n",
    "                        list_nfold=[0,1,2,3,4],\n",
    "                       )"
   ]
  },
  {
   "cell_type": "code",
   "execution_count": 38,
   "id": "25156647",
   "metadata": {
    "execution": {
     "iopub.execute_input": "2022-05-01T11:30:44.567050Z",
     "iopub.status.busy": "2022-05-01T11:30:44.566671Z",
     "iopub.status.idle": "2022-05-01T11:30:44.748300Z",
     "shell.execute_reply": "2022-05-01T11:30:44.747415Z"
    },
    "papermill": {
     "duration": 0.312808,
     "end_time": "2022-05-01T11:30:44.750753",
     "exception": false,
     "start_time": "2022-05-01T11:30:44.437945",
     "status": "completed"
    },
    "tags": []
   },
   "outputs": [
    {
     "name": "stdout",
     "output_type": "stream",
     "text": [
      "(48744, 2)\n"
     ]
    },
    {
     "data": {
      "text/html": [
       "<div>\n",
       "<style scoped>\n",
       "    .dataframe tbody tr th:only-of-type {\n",
       "        vertical-align: middle;\n",
       "    }\n",
       "\n",
       "    .dataframe tbody tr th {\n",
       "        vertical-align: top;\n",
       "    }\n",
       "\n",
       "    .dataframe thead th {\n",
       "        text-align: right;\n",
       "    }\n",
       "</style>\n",
       "<table border=\"1\" class=\"dataframe\">\n",
       "  <thead>\n",
       "    <tr style=\"text-align: right;\">\n",
       "      <th></th>\n",
       "      <th>SK_ID_CURR</th>\n",
       "      <th>TARGET</th>\n",
       "    </tr>\n",
       "  </thead>\n",
       "  <tbody>\n",
       "    <tr>\n",
       "      <th>0</th>\n",
       "      <td>100001</td>\n",
       "      <td>0.042620</td>\n",
       "    </tr>\n",
       "    <tr>\n",
       "      <th>1</th>\n",
       "      <td>100005</td>\n",
       "      <td>0.114618</td>\n",
       "    </tr>\n",
       "    <tr>\n",
       "      <th>2</th>\n",
       "      <td>100013</td>\n",
       "      <td>0.021747</td>\n",
       "    </tr>\n",
       "    <tr>\n",
       "      <th>3</th>\n",
       "      <td>100028</td>\n",
       "      <td>0.043205</td>\n",
       "    </tr>\n",
       "    <tr>\n",
       "      <th>4</th>\n",
       "      <td>100038</td>\n",
       "      <td>0.180968</td>\n",
       "    </tr>\n",
       "  </tbody>\n",
       "</table>\n",
       "</div>"
      ],
      "text/plain": [
       "   SK_ID_CURR    TARGET\n",
       "0      100001  0.042620\n",
       "1      100005  0.114618\n",
       "2      100013  0.021747\n",
       "3      100028  0.043205\n",
       "4      100038  0.180968"
      ]
     },
     "metadata": {},
     "output_type": "display_data"
    }
   ],
   "source": [
    "df_submit = test_pred.rename(columns={\"pred\":\"TARGET\"})\n",
    "print(df_submit.shape)\n",
    "display(df_submit.head())\n",
    "df_submit.to_csv(\"a1_submission_FeatureEngineering1.csv\", index=None)"
   ]
  },
  {
   "cell_type": "markdown",
   "id": "7d8e08e4",
   "metadata": {
    "papermill": {
     "duration": 0.126555,
     "end_time": "2022-05-01T11:30:45.007990",
     "exception": false,
     "start_time": "2022-05-01T11:30:44.881435",
     "status": "completed"
    },
    "tags": []
   },
   "source": [
    "## Feature engineering #2:  added POS_CASH_balance.csv"
   ]
  },
  {
   "cell_type": "markdown",
   "id": "acde56b1",
   "metadata": {
    "papermill": {
     "duration": 0.126491,
     "end_time": "2022-05-01T11:30:45.264294",
     "exception": false,
     "start_time": "2022-05-01T11:30:45.137803",
     "status": "completed"
    },
    "tags": []
   },
   "source": [
    "<!-- https://blog.ml.cmu.edu/2020/08/31/3-baselines/-->\n",
    "<div> <img src=\"./image/combine.png\" alt=\"Drawing\" style=\"width: 300px;\"/></div>"
   ]
  },
  {
   "cell_type": "code",
   "execution_count": 39,
   "id": "a40fec6e",
   "metadata": {
    "execution": {
     "iopub.execute_input": "2022-05-01T11:30:45.521101Z",
     "iopub.status.busy": "2022-05-01T11:30:45.520566Z",
     "iopub.status.idle": "2022-05-01T11:30:58.754600Z",
     "shell.execute_reply": "2022-05-01T11:30:58.752353Z"
    },
    "papermill": {
     "duration": 13.364502,
     "end_time": "2022-05-01T11:30:58.756605",
     "exception": false,
     "start_time": "2022-05-01T11:30:45.392103",
     "status": "completed"
    },
    "tags": []
   },
   "outputs": [
    {
     "name": "stdout",
     "output_type": "stream",
     "text": [
      "Memory usage of dataframe is 610.43 MB\n",
      "Memory usage after optimization is: 238.45 MB\n",
      "Decreased by 60.9%\n",
      "(10001358, 8)\n"
     ]
    },
    {
     "data": {
      "text/html": [
       "<div>\n",
       "<style scoped>\n",
       "    .dataframe tbody tr th:only-of-type {\n",
       "        vertical-align: middle;\n",
       "    }\n",
       "\n",
       "    .dataframe tbody tr th {\n",
       "        vertical-align: top;\n",
       "    }\n",
       "\n",
       "    .dataframe thead th {\n",
       "        text-align: right;\n",
       "    }\n",
       "</style>\n",
       "<table border=\"1\" class=\"dataframe\">\n",
       "  <thead>\n",
       "    <tr style=\"text-align: right;\">\n",
       "      <th></th>\n",
       "      <th>SK_ID_PREV</th>\n",
       "      <th>SK_ID_CURR</th>\n",
       "      <th>MONTHS_BALANCE</th>\n",
       "      <th>CNT_INSTALMENT</th>\n",
       "      <th>CNT_INSTALMENT_FUTURE</th>\n",
       "      <th>NAME_CONTRACT_STATUS</th>\n",
       "      <th>SK_DPD</th>\n",
       "      <th>SK_DPD_DEF</th>\n",
       "    </tr>\n",
       "  </thead>\n",
       "  <tbody>\n",
       "    <tr>\n",
       "      <th>6986571</th>\n",
       "      <td>1735553</td>\n",
       "      <td>320625</td>\n",
       "      <td>-50</td>\n",
       "      <td>12.0</td>\n",
       "      <td>1.0</td>\n",
       "      <td>Active</td>\n",
       "      <td>0</td>\n",
       "      <td>0</td>\n",
       "    </tr>\n",
       "    <tr>\n",
       "      <th>415259</th>\n",
       "      <td>2717377</td>\n",
       "      <td>425659</td>\n",
       "      <td>-71</td>\n",
       "      <td>12.0</td>\n",
       "      <td>12.0</td>\n",
       "      <td>Active</td>\n",
       "      <td>0</td>\n",
       "      <td>0</td>\n",
       "    </tr>\n",
       "    <tr>\n",
       "      <th>8821976</th>\n",
       "      <td>2046141</td>\n",
       "      <td>218617</td>\n",
       "      <td>-30</td>\n",
       "      <td>24.0</td>\n",
       "      <td>19.0</td>\n",
       "      <td>Active</td>\n",
       "      <td>0</td>\n",
       "      <td>0</td>\n",
       "    </tr>\n",
       "    <tr>\n",
       "      <th>1917441</th>\n",
       "      <td>2538519</td>\n",
       "      <td>359101</td>\n",
       "      <td>-10</td>\n",
       "      <td>12.0</td>\n",
       "      <td>12.0</td>\n",
       "      <td>Active</td>\n",
       "      <td>0</td>\n",
       "      <td>0</td>\n",
       "    </tr>\n",
       "    <tr>\n",
       "      <th>9613022</th>\n",
       "      <td>2234123</td>\n",
       "      <td>275760</td>\n",
       "      <td>-1</td>\n",
       "      <td>10.0</td>\n",
       "      <td>4.0</td>\n",
       "      <td>Active</td>\n",
       "      <td>0</td>\n",
       "      <td>0</td>\n",
       "    </tr>\n",
       "    <tr>\n",
       "      <th>9369691</th>\n",
       "      <td>1468460</td>\n",
       "      <td>129932</td>\n",
       "      <td>-7</td>\n",
       "      <td>12.0</td>\n",
       "      <td>3.0</td>\n",
       "      <td>Active</td>\n",
       "      <td>0</td>\n",
       "      <td>0</td>\n",
       "    </tr>\n",
       "    <tr>\n",
       "      <th>5455205</th>\n",
       "      <td>1365779</td>\n",
       "      <td>200649</td>\n",
       "      <td>-35</td>\n",
       "      <td>24.0</td>\n",
       "      <td>22.0</td>\n",
       "      <td>Active</td>\n",
       "      <td>0</td>\n",
       "      <td>0</td>\n",
       "    </tr>\n",
       "    <tr>\n",
       "      <th>7931271</th>\n",
       "      <td>1726434</td>\n",
       "      <td>438305</td>\n",
       "      <td>-6</td>\n",
       "      <td>36.0</td>\n",
       "      <td>34.0</td>\n",
       "      <td>Active</td>\n",
       "      <td>0</td>\n",
       "      <td>0</td>\n",
       "    </tr>\n",
       "    <tr>\n",
       "      <th>3385416</th>\n",
       "      <td>2083374</td>\n",
       "      <td>158346</td>\n",
       "      <td>-39</td>\n",
       "      <td>1.0</td>\n",
       "      <td>0.0</td>\n",
       "      <td>Active</td>\n",
       "      <td>0</td>\n",
       "      <td>0</td>\n",
       "    </tr>\n",
       "    <tr>\n",
       "      <th>4368239</th>\n",
       "      <td>2508258</td>\n",
       "      <td>400655</td>\n",
       "      <td>-43</td>\n",
       "      <td>6.0</td>\n",
       "      <td>5.0</td>\n",
       "      <td>Active</td>\n",
       "      <td>0</td>\n",
       "      <td>0</td>\n",
       "    </tr>\n",
       "  </tbody>\n",
       "</table>\n",
       "</div>"
      ],
      "text/plain": [
       "         SK_ID_PREV  SK_ID_CURR  MONTHS_BALANCE  CNT_INSTALMENT  \\\n",
       "6986571     1735553      320625             -50            12.0   \n",
       "415259      2717377      425659             -71            12.0   \n",
       "8821976     2046141      218617             -30            24.0   \n",
       "1917441     2538519      359101             -10            12.0   \n",
       "9613022     2234123      275760              -1            10.0   \n",
       "9369691     1468460      129932              -7            12.0   \n",
       "5455205     1365779      200649             -35            24.0   \n",
       "7931271     1726434      438305              -6            36.0   \n",
       "3385416     2083374      158346             -39             1.0   \n",
       "4368239     2508258      400655             -43             6.0   \n",
       "\n",
       "         CNT_INSTALMENT_FUTURE NAME_CONTRACT_STATUS  SK_DPD  SK_DPD_DEF  \n",
       "6986571                    1.0               Active       0           0  \n",
       "415259                    12.0               Active       0           0  \n",
       "8821976                   19.0               Active       0           0  \n",
       "1917441                   12.0               Active       0           0  \n",
       "9613022                    4.0               Active       0           0  \n",
       "9369691                    3.0               Active       0           0  \n",
       "5455205                   22.0               Active       0           0  \n",
       "7931271                   34.0               Active       0           0  \n",
       "3385416                    0.0               Active       0           0  \n",
       "4368239                    5.0               Active       0           0  "
      ]
     },
     "metadata": {},
     "output_type": "display_data"
    }
   ],
   "source": [
    "pos = pd.read_csv(os.path.join(dir_, pos_cash))\n",
    "pos = reduce_mem_usage(pos)\n",
    "print(pos.shape)\n",
    "display(pos.sample(10))"
   ]
  },
  {
   "cell_type": "markdown",
   "id": "767c4b36",
   "metadata": {
    "papermill": {
     "duration": 0.128707,
     "end_time": "2022-05-01T11:30:59.015356",
     "exception": false,
     "start_time": "2022-05-01T11:30:58.886649",
     "status": "completed"
    },
    "tags": []
   },
   "source": [
    "#### Convert categorical variables to numeric with one-hot-encoding"
   ]
  },
  {
   "cell_type": "code",
   "execution_count": 40,
   "id": "53b6d0df",
   "metadata": {},
   "outputs": [],
   "source": [
    "# https://medium.com/hackernoon/what-is-one-hot-encoding-why-and-when-do-you-have-to-use-it-e3c6186d008f"
   ]
  },
  {
   "cell_type": "markdown",
   "id": "5068a532",
   "metadata": {},
   "source": [
    "<!-- https://medium.com/hackernoon/what-is-one-hot-encoding-why-and-when-do-you-have-to-use-it-e3c6186d008f -->\n",
    "<div> <img src=\"./image/Onehot_1.png\" alt=\"Drawing\" style=\"width: 650px;\"/></div>\n",
    "<div> <img src=\"./image/Onehot_2.png\" alt=\"Drawing\" style=\"width: 650px;\"/></div>"
   ]
  },
  {
   "cell_type": "code",
   "execution_count": 41,
   "id": "d0d165c5",
   "metadata": {
    "execution": {
     "iopub.execute_input": "2022-05-01T11:30:59.273793Z",
     "iopub.status.busy": "2022-05-01T11:30:59.273179Z",
     "iopub.status.idle": "2022-05-01T11:31:01.261033Z",
     "shell.execute_reply": "2022-05-01T11:31:01.260190Z"
    },
    "papermill": {
     "duration": 2.119406,
     "end_time": "2022-05-01T11:31:01.263171",
     "exception": false,
     "start_time": "2022-05-01T11:30:59.143765",
     "status": "completed"
    },
    "tags": []
   },
   "outputs": [
    {
     "name": "stdout",
     "output_type": "stream",
     "text": [
      "10\n"
     ]
    },
    {
     "data": {
      "text/plain": [
       "['NAME_CONTRACT_STATUS_Active',\n",
       " 'NAME_CONTRACT_STATUS_Amortized debt',\n",
       " 'NAME_CONTRACT_STATUS_Approved',\n",
       " 'NAME_CONTRACT_STATUS_Canceled',\n",
       " 'NAME_CONTRACT_STATUS_Completed',\n",
       " 'NAME_CONTRACT_STATUS_Demand',\n",
       " 'NAME_CONTRACT_STATUS_Returned to the store',\n",
       " 'NAME_CONTRACT_STATUS_Signed',\n",
       " 'NAME_CONTRACT_STATUS_XNA',\n",
       " 'NAME_CONTRACT_STATUS_nan']"
      ]
     },
     "execution_count": 41,
     "metadata": {},
     "output_type": "execute_result"
    }
   ],
   "source": [
    "pos_ohe = pd.get_dummies(pos, columns=[\"NAME_CONTRACT_STATUS\"], dummy_na=True)\n",
    "col_ohe = sorted(list(set(pos_ohe.columns) - set(pos.columns)))\n",
    "print(len(col_ohe))\n",
    "col_ohe"
   ]
  },
  {
   "cell_type": "markdown",
   "id": "be76fd46",
   "metadata": {
    "papermill": {
     "duration": 0.128657,
     "end_time": "2022-05-01T11:31:01.523431",
     "exception": false,
     "start_time": "2022-05-01T11:31:01.394774",
     "status": "completed"
    },
    "tags": []
   },
   "source": [
    "#### adding more statistics columns based on  SK_ID_CURR using groupby"
   ]
  },
  {
   "cell_type": "code",
   "execution_count": 42,
   "id": "0aa4008f",
   "metadata": {
    "execution": {
     "iopub.execute_input": "2022-05-01T11:31:01.781242Z",
     "iopub.status.busy": "2022-05-01T11:31:01.780940Z",
     "iopub.status.idle": "2022-05-01T11:31:15.305533Z",
     "shell.execute_reply": "2022-05-01T11:31:15.304654Z"
    },
    "papermill": {
     "duration": 13.6563,
     "end_time": "2022-05-01T11:31:15.307656",
     "exception": false,
     "start_time": "2022-05-01T11:31:01.651356",
     "status": "completed"
    },
    "tags": []
   },
   "outputs": [
    {
     "name": "stdout",
     "output_type": "stream",
     "text": [
      "(337252, 33)\n"
     ]
    },
    {
     "data": {
      "text/html": [
       "<div>\n",
       "<style scoped>\n",
       "    .dataframe tbody tr th:only-of-type {\n",
       "        vertical-align: middle;\n",
       "    }\n",
       "\n",
       "    .dataframe tbody tr th {\n",
       "        vertical-align: top;\n",
       "    }\n",
       "\n",
       "    .dataframe thead th {\n",
       "        text-align: right;\n",
       "    }\n",
       "</style>\n",
       "<table border=\"1\" class=\"dataframe\">\n",
       "  <thead>\n",
       "    <tr style=\"text-align: right;\">\n",
       "      <th></th>\n",
       "      <th>SK_ID_CURR</th>\n",
       "      <th>MONTHS_BALANCE_mean</th>\n",
       "      <th>MONTHS_BALANCE_std</th>\n",
       "      <th>MONTHS_BALANCE_min</th>\n",
       "      <th>MONTHS_BALANCE_max</th>\n",
       "      <th>CNT_INSTALMENT_mean</th>\n",
       "      <th>CNT_INSTALMENT_std</th>\n",
       "      <th>CNT_INSTALMENT_min</th>\n",
       "      <th>CNT_INSTALMENT_max</th>\n",
       "      <th>CNT_INSTALMENT_FUTURE_mean</th>\n",
       "      <th>...</th>\n",
       "      <th>NAME_CONTRACT_STATUS_Approved_mean</th>\n",
       "      <th>NAME_CONTRACT_STATUS_Canceled_mean</th>\n",
       "      <th>NAME_CONTRACT_STATUS_Completed_mean</th>\n",
       "      <th>NAME_CONTRACT_STATUS_Demand_mean</th>\n",
       "      <th>NAME_CONTRACT_STATUS_Returned to the store_mean</th>\n",
       "      <th>NAME_CONTRACT_STATUS_Signed_mean</th>\n",
       "      <th>NAME_CONTRACT_STATUS_XNA_mean</th>\n",
       "      <th>NAME_CONTRACT_STATUS_nan_mean</th>\n",
       "      <th>SK_ID_PREV_count</th>\n",
       "      <th>SK_ID_PREV_nunique</th>\n",
       "    </tr>\n",
       "  </thead>\n",
       "  <tbody>\n",
       "    <tr>\n",
       "      <th>0</th>\n",
       "      <td>100001</td>\n",
       "      <td>-72.555556</td>\n",
       "      <td>20.863312</td>\n",
       "      <td>-96</td>\n",
       "      <td>-53</td>\n",
       "      <td>4.000000</td>\n",
       "      <td>0.000000</td>\n",
       "      <td>4.0</td>\n",
       "      <td>4.0</td>\n",
       "      <td>1.444336</td>\n",
       "      <td>...</td>\n",
       "      <td>0.0</td>\n",
       "      <td>0.0</td>\n",
       "      <td>0.222222</td>\n",
       "      <td>0.0</td>\n",
       "      <td>0.0</td>\n",
       "      <td>0.000000</td>\n",
       "      <td>0.0</td>\n",
       "      <td>0.0</td>\n",
       "      <td>9</td>\n",
       "      <td>2</td>\n",
       "    </tr>\n",
       "    <tr>\n",
       "      <th>1</th>\n",
       "      <td>100002</td>\n",
       "      <td>-10.000000</td>\n",
       "      <td>5.627314</td>\n",
       "      <td>-19</td>\n",
       "      <td>-1</td>\n",
       "      <td>24.000000</td>\n",
       "      <td>0.000000</td>\n",
       "      <td>24.0</td>\n",
       "      <td>24.0</td>\n",
       "      <td>15.000000</td>\n",
       "      <td>...</td>\n",
       "      <td>0.0</td>\n",
       "      <td>0.0</td>\n",
       "      <td>0.000000</td>\n",
       "      <td>0.0</td>\n",
       "      <td>0.0</td>\n",
       "      <td>0.000000</td>\n",
       "      <td>0.0</td>\n",
       "      <td>0.0</td>\n",
       "      <td>19</td>\n",
       "      <td>1</td>\n",
       "    </tr>\n",
       "    <tr>\n",
       "      <th>2</th>\n",
       "      <td>100003</td>\n",
       "      <td>-43.785714</td>\n",
       "      <td>24.640162</td>\n",
       "      <td>-77</td>\n",
       "      <td>-18</td>\n",
       "      <td>10.109375</td>\n",
       "      <td>2.806597</td>\n",
       "      <td>6.0</td>\n",
       "      <td>12.0</td>\n",
       "      <td>5.785156</td>\n",
       "      <td>...</td>\n",
       "      <td>0.0</td>\n",
       "      <td>0.0</td>\n",
       "      <td>0.071429</td>\n",
       "      <td>0.0</td>\n",
       "      <td>0.0</td>\n",
       "      <td>0.000000</td>\n",
       "      <td>0.0</td>\n",
       "      <td>0.0</td>\n",
       "      <td>28</td>\n",
       "      <td>3</td>\n",
       "    </tr>\n",
       "    <tr>\n",
       "      <th>3</th>\n",
       "      <td>100004</td>\n",
       "      <td>-25.500000</td>\n",
       "      <td>1.290994</td>\n",
       "      <td>-27</td>\n",
       "      <td>-24</td>\n",
       "      <td>3.750000</td>\n",
       "      <td>0.500000</td>\n",
       "      <td>3.0</td>\n",
       "      <td>4.0</td>\n",
       "      <td>2.250000</td>\n",
       "      <td>...</td>\n",
       "      <td>0.0</td>\n",
       "      <td>0.0</td>\n",
       "      <td>0.250000</td>\n",
       "      <td>0.0</td>\n",
       "      <td>0.0</td>\n",
       "      <td>0.000000</td>\n",
       "      <td>0.0</td>\n",
       "      <td>0.0</td>\n",
       "      <td>4</td>\n",
       "      <td>1</td>\n",
       "    </tr>\n",
       "    <tr>\n",
       "      <th>4</th>\n",
       "      <td>100005</td>\n",
       "      <td>-20.000000</td>\n",
       "      <td>3.316625</td>\n",
       "      <td>-25</td>\n",
       "      <td>-15</td>\n",
       "      <td>11.703125</td>\n",
       "      <td>0.948683</td>\n",
       "      <td>9.0</td>\n",
       "      <td>12.0</td>\n",
       "      <td>7.199219</td>\n",
       "      <td>...</td>\n",
       "      <td>0.0</td>\n",
       "      <td>0.0</td>\n",
       "      <td>0.090909</td>\n",
       "      <td>0.0</td>\n",
       "      <td>0.0</td>\n",
       "      <td>0.090909</td>\n",
       "      <td>0.0</td>\n",
       "      <td>0.0</td>\n",
       "      <td>11</td>\n",
       "      <td>1</td>\n",
       "    </tr>\n",
       "  </tbody>\n",
       "</table>\n",
       "<p>5 rows × 33 columns</p>\n",
       "</div>"
      ],
      "text/plain": [
       "   SK_ID_CURR  MONTHS_BALANCE_mean  MONTHS_BALANCE_std  MONTHS_BALANCE_min  \\\n",
       "0      100001           -72.555556           20.863312                 -96   \n",
       "1      100002           -10.000000            5.627314                 -19   \n",
       "2      100003           -43.785714           24.640162                 -77   \n",
       "3      100004           -25.500000            1.290994                 -27   \n",
       "4      100005           -20.000000            3.316625                 -25   \n",
       "\n",
       "   MONTHS_BALANCE_max  CNT_INSTALMENT_mean  CNT_INSTALMENT_std  \\\n",
       "0                 -53             4.000000            0.000000   \n",
       "1                  -1            24.000000            0.000000   \n",
       "2                 -18            10.109375            2.806597   \n",
       "3                 -24             3.750000            0.500000   \n",
       "4                 -15            11.703125            0.948683   \n",
       "\n",
       "   CNT_INSTALMENT_min  CNT_INSTALMENT_max  CNT_INSTALMENT_FUTURE_mean  ...  \\\n",
       "0                 4.0                 4.0                    1.444336  ...   \n",
       "1                24.0                24.0                   15.000000  ...   \n",
       "2                 6.0                12.0                    5.785156  ...   \n",
       "3                 3.0                 4.0                    2.250000  ...   \n",
       "4                 9.0                12.0                    7.199219  ...   \n",
       "\n",
       "   NAME_CONTRACT_STATUS_Approved_mean  NAME_CONTRACT_STATUS_Canceled_mean  \\\n",
       "0                                 0.0                                 0.0   \n",
       "1                                 0.0                                 0.0   \n",
       "2                                 0.0                                 0.0   \n",
       "3                                 0.0                                 0.0   \n",
       "4                                 0.0                                 0.0   \n",
       "\n",
       "   NAME_CONTRACT_STATUS_Completed_mean  NAME_CONTRACT_STATUS_Demand_mean  \\\n",
       "0                             0.222222                               0.0   \n",
       "1                             0.000000                               0.0   \n",
       "2                             0.071429                               0.0   \n",
       "3                             0.250000                               0.0   \n",
       "4                             0.090909                               0.0   \n",
       "\n",
       "   NAME_CONTRACT_STATUS_Returned to the store_mean  \\\n",
       "0                                              0.0   \n",
       "1                                              0.0   \n",
       "2                                              0.0   \n",
       "3                                              0.0   \n",
       "4                                              0.0   \n",
       "\n",
       "   NAME_CONTRACT_STATUS_Signed_mean  NAME_CONTRACT_STATUS_XNA_mean  \\\n",
       "0                          0.000000                            0.0   \n",
       "1                          0.000000                            0.0   \n",
       "2                          0.000000                            0.0   \n",
       "3                          0.000000                            0.0   \n",
       "4                          0.090909                            0.0   \n",
       "\n",
       "   NAME_CONTRACT_STATUS_nan_mean  SK_ID_PREV_count  SK_ID_PREV_nunique  \n",
       "0                            0.0                 9                   2  \n",
       "1                            0.0                19                   1  \n",
       "2                            0.0                28                   3  \n",
       "3                            0.0                 4                   1  \n",
       "4                            0.0                11                   1  \n",
       "\n",
       "[5 rows x 33 columns]"
      ]
     },
     "execution_count": 42,
     "metadata": {},
     "output_type": "execute_result"
    }
   ],
   "source": [
    "pos_ohe_agg = pos_ohe.groupby(\"SK_ID_CURR\").agg(\n",
    "    {\n",
    "        \n",
    "        \"MONTHS_BALANCE\": [\"mean\", \"std\", \"min\", \"max\"],\n",
    "        \"CNT_INSTALMENT\": [\"mean\", \"std\", \"min\", \"max\"],\n",
    "        \"CNT_INSTALMENT_FUTURE\": [\"mean\", \"std\", \"min\", \"max\"],\n",
    "        \"SK_DPD\": [\"mean\", \"std\", \"min\", \"max\"],\n",
    "        \"SK_DPD_DEF\": [\"mean\", \"std\", \"min\", \"max\"],\n",
    "        \n",
    "        \"NAME_CONTRACT_STATUS_Active\": [\"mean\"],\n",
    "        \"NAME_CONTRACT_STATUS_Amortized debt\": [\"mean\"],\n",
    "        \"NAME_CONTRACT_STATUS_Approved\": [\"mean\"],\n",
    "        \"NAME_CONTRACT_STATUS_Canceled\": [\"mean\"],\n",
    "        \"NAME_CONTRACT_STATUS_Completed\": [\"mean\"],\n",
    "        \"NAME_CONTRACT_STATUS_Demand\": [\"mean\"],\n",
    "        \"NAME_CONTRACT_STATUS_Returned to the store\": [\"mean\"],\n",
    "        \"NAME_CONTRACT_STATUS_Signed\": [\"mean\"],\n",
    "        \"NAME_CONTRACT_STATUS_XNA\": [\"mean\"],\n",
    "        \"NAME_CONTRACT_STATUS_nan\": [\"mean\"],\n",
    "        \n",
    "        \"SK_ID_PREV\":[\"count\", \"nunique\"],\n",
    "    }\n",
    ")\n",
    "\n",
    "\n",
    "pos_ohe_agg.columns = [i + \"_\" + j for i,j in pos_ohe_agg.columns]\n",
    "pos_ohe_agg = pos_ohe_agg.reset_index(drop=False)\n",
    "\n",
    "print(pos_ohe_agg.shape)\n",
    "pos_ohe_agg.head()"
   ]
  },
  {
   "cell_type": "markdown",
   "id": "271833dd",
   "metadata": {
    "papermill": {
     "duration": 0.130064,
     "end_time": "2022-05-01T11:31:15.568260",
     "exception": false,
     "start_time": "2022-05-01T11:31:15.438196",
     "status": "completed"
    },
    "tags": []
   },
   "source": [
    "#### Merge train and pos files using SK_ID_CURR as a key"
   ]
  },
  {
   "cell_type": "code",
   "execution_count": 43,
   "id": "33581bef",
   "metadata": {
    "execution": {
     "iopub.execute_input": "2022-05-01T11:31:15.831479Z",
     "iopub.status.busy": "2022-05-01T11:31:15.831171Z",
     "iopub.status.idle": "2022-05-01T11:31:18.240166Z",
     "shell.execute_reply": "2022-05-01T11:31:18.239462Z"
    },
    "papermill": {
     "duration": 2.544773,
     "end_time": "2022-05-01T11:31:18.242604",
     "exception": false,
     "start_time": "2022-05-01T11:31:15.697831",
     "status": "completed"
    },
    "tags": []
   },
   "outputs": [
    {
     "name": "stdout",
     "output_type": "stream",
     "text": [
      "(307511, 164)\n"
     ]
    },
    {
     "data": {
      "text/html": [
       "<div>\n",
       "<style scoped>\n",
       "    .dataframe tbody tr th:only-of-type {\n",
       "        vertical-align: middle;\n",
       "    }\n",
       "\n",
       "    .dataframe tbody tr th {\n",
       "        vertical-align: top;\n",
       "    }\n",
       "\n",
       "    .dataframe thead th {\n",
       "        text-align: right;\n",
       "    }\n",
       "</style>\n",
       "<table border=\"1\" class=\"dataframe\">\n",
       "  <thead>\n",
       "    <tr style=\"text-align: right;\">\n",
       "      <th></th>\n",
       "      <th>SK_ID_CURR</th>\n",
       "      <th>TARGET</th>\n",
       "      <th>NAME_CONTRACT_TYPE</th>\n",
       "      <th>CODE_GENDER</th>\n",
       "      <th>FLAG_OWN_CAR</th>\n",
       "      <th>FLAG_OWN_REALTY</th>\n",
       "      <th>CNT_CHILDREN</th>\n",
       "      <th>AMT_INCOME_TOTAL</th>\n",
       "      <th>AMT_CREDIT</th>\n",
       "      <th>AMT_ANNUITY</th>\n",
       "      <th>...</th>\n",
       "      <th>NAME_CONTRACT_STATUS_Approved_mean</th>\n",
       "      <th>NAME_CONTRACT_STATUS_Canceled_mean</th>\n",
       "      <th>NAME_CONTRACT_STATUS_Completed_mean</th>\n",
       "      <th>NAME_CONTRACT_STATUS_Demand_mean</th>\n",
       "      <th>NAME_CONTRACT_STATUS_Returned to the store_mean</th>\n",
       "      <th>NAME_CONTRACT_STATUS_Signed_mean</th>\n",
       "      <th>NAME_CONTRACT_STATUS_XNA_mean</th>\n",
       "      <th>NAME_CONTRACT_STATUS_nan_mean</th>\n",
       "      <th>SK_ID_PREV_count</th>\n",
       "      <th>SK_ID_PREV_nunique</th>\n",
       "    </tr>\n",
       "  </thead>\n",
       "  <tbody>\n",
       "    <tr>\n",
       "      <th>0</th>\n",
       "      <td>100002</td>\n",
       "      <td>1</td>\n",
       "      <td>Cash loans</td>\n",
       "      <td>M</td>\n",
       "      <td>N</td>\n",
       "      <td>Y</td>\n",
       "      <td>0</td>\n",
       "      <td>202500.0</td>\n",
       "      <td>406597.5</td>\n",
       "      <td>24700.5</td>\n",
       "      <td>...</td>\n",
       "      <td>0.0</td>\n",
       "      <td>0.0</td>\n",
       "      <td>0.000000</td>\n",
       "      <td>0.0</td>\n",
       "      <td>0.000000</td>\n",
       "      <td>0.000000</td>\n",
       "      <td>0.0</td>\n",
       "      <td>0.0</td>\n",
       "      <td>19.0</td>\n",
       "      <td>1.0</td>\n",
       "    </tr>\n",
       "    <tr>\n",
       "      <th>1</th>\n",
       "      <td>100003</td>\n",
       "      <td>0</td>\n",
       "      <td>Cash loans</td>\n",
       "      <td>F</td>\n",
       "      <td>N</td>\n",
       "      <td>N</td>\n",
       "      <td>0</td>\n",
       "      <td>270000.0</td>\n",
       "      <td>1293502.5</td>\n",
       "      <td>35698.5</td>\n",
       "      <td>...</td>\n",
       "      <td>0.0</td>\n",
       "      <td>0.0</td>\n",
       "      <td>0.071429</td>\n",
       "      <td>0.0</td>\n",
       "      <td>0.000000</td>\n",
       "      <td>0.000000</td>\n",
       "      <td>0.0</td>\n",
       "      <td>0.0</td>\n",
       "      <td>28.0</td>\n",
       "      <td>3.0</td>\n",
       "    </tr>\n",
       "    <tr>\n",
       "      <th>2</th>\n",
       "      <td>100004</td>\n",
       "      <td>0</td>\n",
       "      <td>Revolving loans</td>\n",
       "      <td>M</td>\n",
       "      <td>Y</td>\n",
       "      <td>Y</td>\n",
       "      <td>0</td>\n",
       "      <td>67500.0</td>\n",
       "      <td>135000.0</td>\n",
       "      <td>6750.0</td>\n",
       "      <td>...</td>\n",
       "      <td>0.0</td>\n",
       "      <td>0.0</td>\n",
       "      <td>0.250000</td>\n",
       "      <td>0.0</td>\n",
       "      <td>0.000000</td>\n",
       "      <td>0.000000</td>\n",
       "      <td>0.0</td>\n",
       "      <td>0.0</td>\n",
       "      <td>4.0</td>\n",
       "      <td>1.0</td>\n",
       "    </tr>\n",
       "    <tr>\n",
       "      <th>3</th>\n",
       "      <td>100006</td>\n",
       "      <td>0</td>\n",
       "      <td>Cash loans</td>\n",
       "      <td>F</td>\n",
       "      <td>N</td>\n",
       "      <td>Y</td>\n",
       "      <td>0</td>\n",
       "      <td>135000.0</td>\n",
       "      <td>312682.5</td>\n",
       "      <td>29686.5</td>\n",
       "      <td>...</td>\n",
       "      <td>0.0</td>\n",
       "      <td>0.0</td>\n",
       "      <td>0.095238</td>\n",
       "      <td>0.0</td>\n",
       "      <td>0.047619</td>\n",
       "      <td>0.000000</td>\n",
       "      <td>0.0</td>\n",
       "      <td>0.0</td>\n",
       "      <td>21.0</td>\n",
       "      <td>3.0</td>\n",
       "    </tr>\n",
       "    <tr>\n",
       "      <th>4</th>\n",
       "      <td>100007</td>\n",
       "      <td>0</td>\n",
       "      <td>Cash loans</td>\n",
       "      <td>M</td>\n",
       "      <td>N</td>\n",
       "      <td>Y</td>\n",
       "      <td>0</td>\n",
       "      <td>121500.0</td>\n",
       "      <td>513000.0</td>\n",
       "      <td>21865.5</td>\n",
       "      <td>...</td>\n",
       "      <td>0.0</td>\n",
       "      <td>0.0</td>\n",
       "      <td>0.045455</td>\n",
       "      <td>0.0</td>\n",
       "      <td>0.000000</td>\n",
       "      <td>0.015152</td>\n",
       "      <td>0.0</td>\n",
       "      <td>0.0</td>\n",
       "      <td>66.0</td>\n",
       "      <td>5.0</td>\n",
       "    </tr>\n",
       "  </tbody>\n",
       "</table>\n",
       "<p>5 rows × 164 columns</p>\n",
       "</div>"
      ],
      "text/plain": [
       "   SK_ID_CURR  TARGET NAME_CONTRACT_TYPE CODE_GENDER FLAG_OWN_CAR  \\\n",
       "0      100002       1         Cash loans           M            N   \n",
       "1      100003       0         Cash loans           F            N   \n",
       "2      100004       0    Revolving loans           M            Y   \n",
       "3      100006       0         Cash loans           F            N   \n",
       "4      100007       0         Cash loans           M            N   \n",
       "\n",
       "  FLAG_OWN_REALTY  CNT_CHILDREN  AMT_INCOME_TOTAL  AMT_CREDIT  AMT_ANNUITY  \\\n",
       "0               Y             0          202500.0    406597.5      24700.5   \n",
       "1               N             0          270000.0   1293502.5      35698.5   \n",
       "2               Y             0           67500.0    135000.0       6750.0   \n",
       "3               Y             0          135000.0    312682.5      29686.5   \n",
       "4               Y             0          121500.0    513000.0      21865.5   \n",
       "\n",
       "   ...  NAME_CONTRACT_STATUS_Approved_mean NAME_CONTRACT_STATUS_Canceled_mean  \\\n",
       "0  ...                                 0.0                                0.0   \n",
       "1  ...                                 0.0                                0.0   \n",
       "2  ...                                 0.0                                0.0   \n",
       "3  ...                                 0.0                                0.0   \n",
       "4  ...                                 0.0                                0.0   \n",
       "\n",
       "  NAME_CONTRACT_STATUS_Completed_mean NAME_CONTRACT_STATUS_Demand_mean  \\\n",
       "0                            0.000000                              0.0   \n",
       "1                            0.071429                              0.0   \n",
       "2                            0.250000                              0.0   \n",
       "3                            0.095238                              0.0   \n",
       "4                            0.045455                              0.0   \n",
       "\n",
       "  NAME_CONTRACT_STATUS_Returned to the store_mean  \\\n",
       "0                                        0.000000   \n",
       "1                                        0.000000   \n",
       "2                                        0.000000   \n",
       "3                                        0.047619   \n",
       "4                                        0.000000   \n",
       "\n",
       "  NAME_CONTRACT_STATUS_Signed_mean  NAME_CONTRACT_STATUS_XNA_mean  \\\n",
       "0                         0.000000                            0.0   \n",
       "1                         0.000000                            0.0   \n",
       "2                         0.000000                            0.0   \n",
       "3                         0.000000                            0.0   \n",
       "4                         0.015152                            0.0   \n",
       "\n",
       "   NAME_CONTRACT_STATUS_nan_mean  SK_ID_PREV_count  SK_ID_PREV_nunique  \n",
       "0                            0.0              19.0                 1.0  \n",
       "1                            0.0              28.0                 3.0  \n",
       "2                            0.0               4.0                 1.0  \n",
       "3                            0.0              21.0                 3.0  \n",
       "4                            0.0              66.0                 5.0  \n",
       "\n",
       "[5 rows x 164 columns]"
      ]
     },
     "execution_count": 43,
     "metadata": {},
     "output_type": "execute_result"
    }
   ],
   "source": [
    "df_train = pd.merge(application_train, pos_ohe_agg, on=\"SK_ID_CURR\", how=\"left\")\n",
    "print(df_train.shape)\n",
    "df_train.head()"
   ]
  },
  {
   "cell_type": "code",
   "execution_count": 44,
   "id": "484a1a48",
   "metadata": {},
   "outputs": [],
   "source": [
    "# Save merged train dataset\n",
    "\n",
    "merged_train = 'merged_train.csv'\n",
    "df_train.to_csv(os.path.join(dir_, merged_train))"
   ]
  },
  {
   "cell_type": "code",
   "execution_count": 45,
   "id": "7d96a711",
   "metadata": {
    "execution": {
     "iopub.execute_input": "2022-05-01T11:31:18.771678Z",
     "iopub.status.busy": "2022-05-01T11:31:18.770853Z",
     "iopub.status.idle": "2022-05-01T11:31:19.936006Z",
     "shell.execute_reply": "2022-05-01T11:31:19.935195Z"
    },
    "papermill": {
     "duration": 1.300659,
     "end_time": "2022-05-01T11:31:19.938531",
     "exception": false,
     "start_time": "2022-05-01T11:31:18.637872",
     "status": "completed"
    },
    "tags": []
   },
   "outputs": [],
   "source": [
    "x_train = df_train.drop(columns=[\"TARGET\", \"SK_ID_CURR\"])\n",
    "y_train = df_train[\"TARGET\"]\n",
    "id_train = df_train[[\"SK_ID_CURR\"]]\n",
    "\n",
    "for col in x_train.columns:\n",
    "    if (x_train[col].dtype==\"0\") or (x_train[col].dtype==\"object\"):\n",
    "        x_train[col] = x_train[col].astype(\"category\")"
   ]
  },
  {
   "cell_type": "code",
   "execution_count": 46,
   "id": "eddd96a5",
   "metadata": {
    "execution": {
     "iopub.execute_input": "2022-05-01T11:31:20.468525Z",
     "iopub.status.busy": "2022-05-01T11:31:20.467933Z",
     "iopub.status.idle": "2022-05-01T11:35:06.319460Z",
     "shell.execute_reply": "2022-05-01T11:35:06.318483Z"
    },
    "papermill": {
     "duration": 226.129661,
     "end_time": "2022-05-01T11:35:06.464703",
     "exception": false,
     "start_time": "2022-05-01T11:31:20.335042",
     "status": "completed"
    },
    "tags": []
   },
   "outputs": [
    {
     "name": "stdout",
     "output_type": "stream",
     "text": [
      "-------------------- 0 --------------------\n",
      "(246008, 162) (61503, 162)\n",
      "[100]\ttraining's auc: 0.821034\tvalid_1's auc: 0.769234\n",
      "[auc] tr:0.8210, va:0.7692\n",
      "-------------------- 1 --------------------\n",
      "(246009, 162) (61502, 162)\n",
      "[100]\ttraining's auc: 0.820685\tvalid_1's auc: 0.77298\n",
      "[auc] tr:0.8207, va:0.7730\n",
      "-------------------- 2 --------------------\n",
      "(246009, 162) (61502, 162)\n",
      "[100]\ttraining's auc: 0.821858\tvalid_1's auc: 0.771818\n",
      "[auc] tr:0.8219, va:0.7718\n",
      "-------------------- 3 --------------------\n",
      "(246009, 162) (61502, 162)\n",
      "[100]\ttraining's auc: 0.821348\tvalid_1's auc: 0.769572\n",
      "[auc] tr:0.8213, va:0.7696\n",
      "-------------------- 4 --------------------\n",
      "(246009, 162) (61502, 162)\n",
      "[100]\ttraining's auc: 0.822686\tvalid_1's auc: 0.763546\n",
      "[auc] tr:0.8227, va:0.7635\n",
      "-------------------- result --------------------\n",
      "[[0.         0.82103437 0.76923391]\n",
      " [1.         0.82068489 0.77297952]\n",
      " [2.         0.82185786 0.77181802]\n",
      " [3.         0.82134843 0.76957235]\n",
      " [4.         0.8226858  0.76354639]]\n",
      "[cv] tr:0.8215+-0.0007, va:0.7694+-0.0033\n",
      "[oof] 0.7694\n"
     ]
    }
   ],
   "source": [
    "train_oof, imp, metrics = train_lgb(x_train,\n",
    "                                    y_train,\n",
    "                                    id_train,\n",
    "                                    params,\n",
    "                                    list_nfold=[0,1,2,3,4],\n",
    "                                    n_splits=5,\n",
    "                                   )"
   ]
  },
  {
   "cell_type": "code",
   "execution_count": 47,
   "id": "819289bc",
   "metadata": {
    "execution": {
     "iopub.execute_input": "2022-05-01T11:35:07.038364Z",
     "iopub.status.busy": "2022-05-01T11:35:07.037740Z",
     "iopub.status.idle": "2022-05-01T11:35:07.050618Z",
     "shell.execute_reply": "2022-05-01T11:35:07.049564Z"
    },
    "papermill": {
     "duration": 0.161161,
     "end_time": "2022-05-01T11:35:07.052868",
     "exception": false,
     "start_time": "2022-05-01T11:35:06.891707",
     "status": "completed"
    },
    "tags": []
   },
   "outputs": [
    {
     "data": {
      "text/html": [
       "<div>\n",
       "<style scoped>\n",
       "    .dataframe tbody tr th:only-of-type {\n",
       "        vertical-align: middle;\n",
       "    }\n",
       "\n",
       "    .dataframe tbody tr th {\n",
       "        vertical-align: top;\n",
       "    }\n",
       "\n",
       "    .dataframe thead th {\n",
       "        text-align: right;\n",
       "    }\n",
       "</style>\n",
       "<table border=\"1\" class=\"dataframe\">\n",
       "  <thead>\n",
       "    <tr style=\"text-align: right;\">\n",
       "      <th></th>\n",
       "      <th>col</th>\n",
       "      <th>imp</th>\n",
       "      <th>imp_std</th>\n",
       "    </tr>\n",
       "  </thead>\n",
       "  <tbody>\n",
       "    <tr>\n",
       "      <th>134</th>\n",
       "      <td>ORGANIZATION_TYPE</td>\n",
       "      <td>359.2</td>\n",
       "      <td>8.012490</td>\n",
       "    </tr>\n",
       "    <tr>\n",
       "      <th>10</th>\n",
       "      <td>ANNUITY_div_CREDIT</td>\n",
       "      <td>222.6</td>\n",
       "      <td>2.966479</td>\n",
       "    </tr>\n",
       "    <tr>\n",
       "      <th>49</th>\n",
       "      <td>EXT_SOURCE_3</td>\n",
       "      <td>97.4</td>\n",
       "      <td>7.300685</td>\n",
       "    </tr>\n",
       "    <tr>\n",
       "      <th>32</th>\n",
       "      <td>DAYS_BIRTH</td>\n",
       "      <td>94.6</td>\n",
       "      <td>11.081516</td>\n",
       "    </tr>\n",
       "    <tr>\n",
       "      <th>52</th>\n",
       "      <td>EXT_SOURCE_mean</td>\n",
       "      <td>91.6</td>\n",
       "      <td>4.098780</td>\n",
       "    </tr>\n",
       "    <tr>\n",
       "      <th>47</th>\n",
       "      <td>EXT_SOURCE_1</td>\n",
       "      <td>87.2</td>\n",
       "      <td>7.529940</td>\n",
       "    </tr>\n",
       "    <tr>\n",
       "      <th>21</th>\n",
       "      <td>CNT_INSTALMENT_FUTURE_mean</td>\n",
       "      <td>84.0</td>\n",
       "      <td>9.772410</td>\n",
       "    </tr>\n",
       "    <tr>\n",
       "      <th>35</th>\n",
       "      <td>DAYS_ID_PUBLISH</td>\n",
       "      <td>69.2</td>\n",
       "      <td>2.774887</td>\n",
       "    </tr>\n",
       "    <tr>\n",
       "      <th>0</th>\n",
       "      <td>AMT_ANNUITY</td>\n",
       "      <td>63.6</td>\n",
       "      <td>4.827007</td>\n",
       "    </tr>\n",
       "    <tr>\n",
       "      <th>23</th>\n",
       "      <td>CNT_INSTALMENT_FUTURE_std</td>\n",
       "      <td>63.2</td>\n",
       "      <td>4.868265</td>\n",
       "    </tr>\n",
       "  </tbody>\n",
       "</table>\n",
       "</div>"
      ],
      "text/plain": [
       "                            col    imp    imp_std\n",
       "134           ORGANIZATION_TYPE  359.2   8.012490\n",
       "10           ANNUITY_div_CREDIT  222.6   2.966479\n",
       "49                 EXT_SOURCE_3   97.4   7.300685\n",
       "32                   DAYS_BIRTH   94.6  11.081516\n",
       "52              EXT_SOURCE_mean   91.6   4.098780\n",
       "47                 EXT_SOURCE_1   87.2   7.529940\n",
       "21   CNT_INSTALMENT_FUTURE_mean   84.0   9.772410\n",
       "35              DAYS_ID_PUBLISH   69.2   2.774887\n",
       "0                   AMT_ANNUITY   63.6   4.827007\n",
       "23    CNT_INSTALMENT_FUTURE_std   63.2   4.868265"
      ]
     },
     "execution_count": 47,
     "metadata": {},
     "output_type": "execute_result"
    }
   ],
   "source": [
    "imp.sort_values(\"imp\", ascending=False)[:10]"
   ]
  },
  {
   "cell_type": "code",
   "execution_count": 61,
   "id": "39ec46dc",
   "metadata": {},
   "outputs": [],
   "source": [
    "df_test = pd.merge(application_test, pos_ohe_agg, on=\"SK_ID_CURR\", how=\"left\")\n",
    "\n",
    "# Save merged test dataset\n",
    "\n",
    "merged_test = 'merged_test.csv'\n",
    "df_test.to_csv(os.path.join(dir_, merged_test))"
   ]
  },
  {
   "cell_type": "code",
   "execution_count": 48,
   "id": "a0a96c14",
   "metadata": {
    "execution": {
     "iopub.execute_input": "2022-05-01T11:35:07.632659Z",
     "iopub.status.busy": "2022-05-01T11:35:07.632133Z",
     "iopub.status.idle": "2022-05-01T11:35:08.198806Z",
     "shell.execute_reply": "2022-05-01T11:35:08.197999Z"
    },
    "papermill": {
     "duration": 0.713921,
     "end_time": "2022-05-01T11:35:08.201008",
     "exception": false,
     "start_time": "2022-05-01T11:35:07.487087",
     "status": "completed"
    },
    "tags": []
   },
   "outputs": [],
   "source": [
    "x_test = df_test.drop(columns=[\"SK_ID_CURR\"])\n",
    "id_test = df_test[[\"SK_ID_CURR\"]]\n",
    "\n",
    "for col in x_test.columns:\n",
    "    if (x_test[col].dtype==\"0\") or (x_test[col].dtype==\"object\"):\n",
    "        x_test[col] = x_test[col].astype(\"category\")"
   ]
  },
  {
   "cell_type": "code",
   "execution_count": 49,
   "id": "4b4192a8",
   "metadata": {
    "execution": {
     "iopub.execute_input": "2022-05-01T11:35:08.853686Z",
     "iopub.status.busy": "2022-05-01T11:35:08.853392Z",
     "iopub.status.idle": "2022-05-01T11:35:12.140460Z",
     "shell.execute_reply": "2022-05-01T11:35:12.139665Z"
    },
    "papermill": {
     "duration": 3.433811,
     "end_time": "2022-05-01T11:35:12.142741",
     "exception": false,
     "start_time": "2022-05-01T11:35:08.708930",
     "status": "completed"
    },
    "tags": []
   },
   "outputs": [
    {
     "name": "stdout",
     "output_type": "stream",
     "text": [
      "-------------------- 0 --------------------\n",
      "-------------------- 1 --------------------\n",
      "-------------------- 2 --------------------\n",
      "-------------------- 3 --------------------\n",
      "-------------------- 4 --------------------\n",
      "Done.\n"
     ]
    }
   ],
   "source": [
    "test_pred = predict_lgb(x_test,\n",
    "                        id_test,\n",
    "                        list_nfold=[0,1,2,3,4],\n",
    "                       )"
   ]
  },
  {
   "cell_type": "code",
   "execution_count": 50,
   "id": "db52fd46",
   "metadata": {
    "execution": {
     "iopub.execute_input": "2022-05-01T11:35:12.738731Z",
     "iopub.status.busy": "2022-05-01T11:35:12.738403Z",
     "iopub.status.idle": "2022-05-01T11:35:12.919120Z",
     "shell.execute_reply": "2022-05-01T11:35:12.918344Z"
    },
    "papermill": {
     "duration": 0.335519,
     "end_time": "2022-05-01T11:35:12.921376",
     "exception": false,
     "start_time": "2022-05-01T11:35:12.585857",
     "status": "completed"
    },
    "tags": []
   },
   "outputs": [
    {
     "name": "stdout",
     "output_type": "stream",
     "text": [
      "(48744, 2)\n"
     ]
    },
    {
     "data": {
      "text/html": [
       "<div>\n",
       "<style scoped>\n",
       "    .dataframe tbody tr th:only-of-type {\n",
       "        vertical-align: middle;\n",
       "    }\n",
       "\n",
       "    .dataframe tbody tr th {\n",
       "        vertical-align: top;\n",
       "    }\n",
       "\n",
       "    .dataframe thead th {\n",
       "        text-align: right;\n",
       "    }\n",
       "</style>\n",
       "<table border=\"1\" class=\"dataframe\">\n",
       "  <thead>\n",
       "    <tr style=\"text-align: right;\">\n",
       "      <th></th>\n",
       "      <th>SK_ID_CURR</th>\n",
       "      <th>TARGET</th>\n",
       "    </tr>\n",
       "  </thead>\n",
       "  <tbody>\n",
       "    <tr>\n",
       "      <th>0</th>\n",
       "      <td>100001</td>\n",
       "      <td>0.037767</td>\n",
       "    </tr>\n",
       "    <tr>\n",
       "      <th>1</th>\n",
       "      <td>100005</td>\n",
       "      <td>0.105730</td>\n",
       "    </tr>\n",
       "    <tr>\n",
       "      <th>2</th>\n",
       "      <td>100013</td>\n",
       "      <td>0.030260</td>\n",
       "    </tr>\n",
       "    <tr>\n",
       "      <th>3</th>\n",
       "      <td>100028</td>\n",
       "      <td>0.041845</td>\n",
       "    </tr>\n",
       "    <tr>\n",
       "      <th>4</th>\n",
       "      <td>100038</td>\n",
       "      <td>0.216325</td>\n",
       "    </tr>\n",
       "  </tbody>\n",
       "</table>\n",
       "</div>"
      ],
      "text/plain": [
       "   SK_ID_CURR    TARGET\n",
       "0      100001  0.037767\n",
       "1      100005  0.105730\n",
       "2      100013  0.030260\n",
       "3      100028  0.041845\n",
       "4      100038  0.216325"
      ]
     },
     "metadata": {},
     "output_type": "display_data"
    }
   ],
   "source": [
    "df_submit = test_pred.rename(columns={\"pred\":\"TARGET\"})\n",
    "print(df_submit.shape)\n",
    "display(df_submit.head())\n",
    "df_submit.to_csv(\"a2_submission_FeatureEngineering2.csv\", index=None)"
   ]
  },
  {
   "cell_type": "markdown",
   "id": "0a097fd9",
   "metadata": {
    "papermill": {
     "duration": 0.146216,
     "end_time": "2022-05-01T11:35:13.215746",
     "exception": false,
     "start_time": "2022-05-01T11:35:13.069530",
     "status": "completed"
    },
    "tags": []
   },
   "source": [
    "# Light GBM model hyperparameter tuning\n"
   ]
  },
  {
   "cell_type": "code",
   "execution_count": 51,
   "id": "51439a89",
   "metadata": {
    "execution": {
     "iopub.execute_input": "2022-05-01T11:35:13.802911Z",
     "iopub.status.busy": "2022-05-01T11:35:13.802439Z",
     "iopub.status.idle": "2022-05-01T11:35:13.806936Z",
     "shell.execute_reply": "2022-05-01T11:35:13.806387Z"
    },
    "papermill": {
     "duration": 0.153624,
     "end_time": "2022-05-01T11:35:13.808877",
     "exception": false,
     "start_time": "2022-05-01T11:35:13.655253",
     "status": "completed"
    },
    "tags": []
   },
   "outputs": [],
   "source": [
    "col_filter = sorted(list(imp.sort_values(\"imp\", ascending=False)[:100][\"col\"]))\n",
    "# col_filter"
   ]
  },
  {
   "cell_type": "markdown",
   "id": "c00fdb59",
   "metadata": {
    "papermill": {
     "duration": 0.146137,
     "end_time": "2022-05-01T11:35:14.102011",
     "exception": false,
     "start_time": "2022-05-01T11:35:13.955874",
     "status": "completed"
    },
    "tags": []
   },
   "source": [
    "## Run hyperparameter optimization with optuna"
   ]
  },
  {
   "cell_type": "code",
   "execution_count": 52,
   "id": "8778ba93",
   "metadata": {
    "execution": {
     "iopub.execute_input": "2022-05-01T11:35:14.694725Z",
     "iopub.status.busy": "2022-05-01T11:35:14.694296Z",
     "iopub.status.idle": "2022-05-01T11:35:15.627402Z",
     "shell.execute_reply": "2022-05-01T11:35:15.626661Z"
    },
    "papermill": {
     "duration": 1.084849,
     "end_time": "2022-05-01T11:35:15.629683",
     "exception": false,
     "start_time": "2022-05-01T11:35:14.544834",
     "status": "completed"
    },
    "tags": []
   },
   "outputs": [],
   "source": [
    "import optuna\n"
   ]
  },
  {
   "cell_type": "code",
   "execution_count": 53,
   "id": "92fc6c3b",
   "metadata": {
    "execution": {
     "iopub.execute_input": "2022-05-01T11:35:16.222635Z",
     "iopub.status.busy": "2022-05-01T11:35:16.221951Z",
     "iopub.status.idle": "2022-05-01T11:35:17.139348Z",
     "shell.execute_reply": "2022-05-01T11:35:17.138574Z"
    },
    "papermill": {
     "duration": 1.068789,
     "end_time": "2022-05-01T11:35:17.141790",
     "exception": false,
     "start_time": "2022-05-01T11:35:16.073001",
     "status": "completed"
    },
    "tags": []
   },
   "outputs": [],
   "source": [
    "x_train = df_train.drop(columns=[\"TARGET\", \"SK_ID_CURR\"])\n",
    "y_train = df_train[\"TARGET\"]\n",
    "id_train = df_train[[\"SK_ID_CURR\"]]\n",
    "\n",
    "for col in x_train.columns:\n",
    "    if (x_train[col].dtype==\"0\") or (x_train[col].dtype==\"object\"):\n",
    "        x_train[col] = x_train[col].astype(\"category\")"
   ]
  },
  {
   "cell_type": "markdown",
   "id": "dbe997da",
   "metadata": {
    "papermill": {
     "duration": 0.148323,
     "end_time": "2022-05-01T11:35:17.463652",
     "exception": false,
     "start_time": "2022-05-01T11:35:17.315329",
     "status": "completed"
    },
    "tags": []
   },
   "source": [
    "#### Define the objective function"
   ]
  },
  {
   "cell_type": "code",
   "execution_count": 54,
   "id": "196f92af",
   "metadata": {
    "execution": {
     "iopub.execute_input": "2022-05-01T11:35:17.762448Z",
     "iopub.status.busy": "2022-05-01T11:35:17.762177Z",
     "iopub.status.idle": "2022-05-01T11:35:17.775488Z",
     "shell.execute_reply": "2022-05-01T11:35:17.774575Z"
    },
    "papermill": {
     "duration": 0.166098,
     "end_time": "2022-05-01T11:35:17.777348",
     "exception": false,
     "start_time": "2022-05-01T11:35:17.611250",
     "status": "completed"
    },
    "tags": []
   },
   "outputs": [],
   "source": [
    "# Hyperparameters -- constants \n",
    "params_base = {\n",
    "    \"boosting_type\": \"gbdt\",\n",
    "    \"objective\": \"binary\",\n",
    "    \"metric\": \"auc\",\n",
    "    \"verbosity\": -1,\n",
    "    \"learning_rate\": 0.05,\n",
    "    \"n_estimators\": 100000,\n",
    "    \"bagging_freq\": 1,\n",
    "    \"random_state\": 123,\n",
    "}\n",
    "\n",
    "# Define the objective function\n",
    "def objective(trial):\n",
    "    # Hyperparameters -- variables \n",
    "    params_tuning = {\n",
    "        \"num_leaves\": trial.suggest_int(\"num_leaves\", 8, 256),\n",
    "        \"min_child_samples\": trial.suggest_int(\"min_child_samples\", 5, 200),\n",
    "        \"min_sum_hessian_in_leaf\": trial.suggest_float(\"min_sum_hessian_in_leaf\", 1e-5, 1e-2, log=True),\n",
    "        \"feature_fraction\": trial.suggest_float(\"feature_fraction\", 0.5, 1.0),\n",
    "        \"bagging_fraction\": trial.suggest_float(\"bagging_fraction\", 0.5, 1.0),\n",
    "        \"lambda_l1\": trial.suggest_float(\"lambda_l1\", 1e-2, 1e+2, log=True),\n",
    "        \"lambda_l2\": trial.suggest_float(\"lambda_l2\", 1e-2, 1e+2, log=True),\n",
    "    }\n",
    "    params_tuning.update(params_base)\n",
    "    \n",
    "    # Model training and validation \n",
    "    list_metrics = []\n",
    "    cv = list(StratifiedKFold(n_splits=5, shuffle=True, random_state=123).split(x_train, y_train))\n",
    "    list_fold = [0]  # To speed up the process, only the first fold will be used\n",
    "    for nfold in list_fold:\n",
    "        idx_tr, idx_va = cv[nfold][0], cv[nfold][1]\n",
    "        x_tr, y_tr = x_train.loc[idx_tr, :], y_train[idx_tr]\n",
    "        x_va, y_va = x_train.loc[idx_va, :], y_train[idx_va]\n",
    "        model = lgb.LGBMClassifier(**params_tuning)\n",
    "        model.fit(x_tr,\n",
    "                  y_tr,\n",
    "                  eval_set=[(x_tr,y_tr), (x_va,y_va)],\n",
    "                  early_stopping_rounds=100,\n",
    "                  verbose=0,\n",
    "                 )\n",
    "        y_va_pred = model.predict_proba(x_va)[:,1]\n",
    "        metric_va = roc_auc_score(y_va, y_va_pred) # Set the evaluation metric to AUC (Area Under the Curve)\n",
    "        list_metrics.append(metric_va)\n",
    "    \n",
    "    # Average of the valuation metrics\n",
    "    metrics = np.mean(list_metrics)\n",
    "    \n",
    "    return metrics"
   ]
  },
  {
   "cell_type": "markdown",
   "id": "8547ffca",
   "metadata": {
    "papermill": {
     "duration": 0.14578,
     "end_time": "2022-05-01T11:35:18.070904",
     "exception": false,
     "start_time": "2022-05-01T11:35:17.925124",
     "status": "completed"
    },
    "tags": []
   },
   "source": [
    "#### Optimization Process \n",
    "\n",
    "-Important Note\n",
    "Even if the seed is fixed in Optuna, there is no guarantee of reproducibility in the search results. \n",
    "Therefore, the results may differ each run.\n",
    "If you require reproducibility, please set parallelization to none (n_jobs=1)."
   ]
  },
  {
   "cell_type": "code",
   "execution_count": 55,
   "id": "972bdf0d",
   "metadata": {
    "execution": {
     "iopub.execute_input": "2022-05-01T11:35:18.363309Z",
     "iopub.status.busy": "2022-05-01T11:35:18.363019Z",
     "iopub.status.idle": "2022-05-01T12:16:37.168175Z",
     "shell.execute_reply": "2022-05-01T12:16:37.167221Z"
    },
    "papermill": {
     "duration": 2479.134634,
     "end_time": "2022-05-01T12:16:37.350918",
     "exception": false,
     "start_time": "2022-05-01T11:35:18.216284",
     "status": "completed"
    },
    "tags": []
   },
   "outputs": [
    {
     "name": "stderr",
     "output_type": "stream",
     "text": [
      "\u001b[32m[I 2023-05-28 15:33:48,342]\u001b[0m A new study created in memory with name: no-name-5cd39a84-a92b-4739-ba15-a2ed68c1d149\u001b[0m\n",
      "\u001b[32m[I 2023-05-28 15:34:49,084]\u001b[0m Trial 0 finished with value: 0.7726843253155904 and parameters: {'num_leaves': 72, 'min_child_samples': 32, 'min_sum_hessian_in_leaf': 0.004582436023061751, 'feature_fraction': 0.7409252925900391, 'bagging_fraction': 0.9932767945167148, 'lambda_l1': 4.509990484361508, 'lambda_l2': 0.2304137805098549}. Best is trial 0 with value: 0.7726843253155904.\u001b[0m\n",
      "\u001b[32m[I 2023-05-28 15:34:59,852]\u001b[0m Trial 3 finished with value: 0.7725126470742152 and parameters: {'num_leaves': 109, 'min_child_samples': 109, 'min_sum_hessian_in_leaf': 8.47895307204338e-05, 'feature_fraction': 0.7630207328213399, 'bagging_fraction': 0.9340128938596983, 'lambda_l1': 4.50172933043339, 'lambda_l2': 0.041294280571166964}. Best is trial 0 with value: 0.7726843253155904.\u001b[0m\n",
      "\u001b[32m[I 2023-05-28 15:35:40,898]\u001b[0m Trial 5 finished with value: 0.7717600086950583 and parameters: {'num_leaves': 18, 'min_child_samples': 123, 'min_sum_hessian_in_leaf': 0.003283179508379582, 'feature_fraction': 0.7995859769354641, 'bagging_fraction': 0.5573792157070327, 'lambda_l1': 0.07816425169650229, 'lambda_l2': 0.01730468122976174}. Best is trial 0 with value: 0.7726843253155904.\u001b[0m\n",
      "\u001b[32m[I 2023-05-28 15:35:40,926]\u001b[0m Trial 2 finished with value: 0.7704635479949016 and parameters: {'num_leaves': 117, 'min_child_samples': 136, 'min_sum_hessian_in_leaf': 0.00340159757737079, 'feature_fraction': 0.6146269334310707, 'bagging_fraction': 0.6090573540950546, 'lambda_l1': 6.3106011908672714, 'lambda_l2': 93.73138970867626}. Best is trial 0 with value: 0.7726843253155904.\u001b[0m\n",
      "\u001b[32m[I 2023-05-28 15:35:48,373]\u001b[0m Trial 1 finished with value: 0.7699855620280447 and parameters: {'num_leaves': 48, 'min_child_samples': 40, 'min_sum_hessian_in_leaf': 1.4464129859258816e-05, 'feature_fraction': 0.867264293938345, 'bagging_fraction': 0.544426134527241, 'lambda_l1': 66.24339255808066, 'lambda_l2': 6.477607519126276}. Best is trial 0 with value: 0.7726843253155904.\u001b[0m\n",
      "\u001b[32m[I 2023-05-28 15:36:27,574]\u001b[0m Trial 6 finished with value: 0.7724040336549486 and parameters: {'num_leaves': 110, 'min_child_samples': 73, 'min_sum_hessian_in_leaf': 0.005238789285355195, 'feature_fraction': 0.6181074876553152, 'bagging_fraction': 0.9146406450779206, 'lambda_l1': 0.09993332590994747, 'lambda_l2': 8.522439695613754}. Best is trial 0 with value: 0.7726843253155904.\u001b[0m\n",
      "\u001b[32m[I 2023-05-28 15:36:44,647]\u001b[0m Trial 7 finished with value: 0.7711234112985245 and parameters: {'num_leaves': 57, 'min_child_samples': 78, 'min_sum_hessian_in_leaf': 3.787045555013334e-05, 'feature_fraction': 0.6220410529777566, 'bagging_fraction': 0.5128367059804423, 'lambda_l1': 10.704106140021844, 'lambda_l2': 1.9037863327680014}. Best is trial 0 with value: 0.7726843253155904.\u001b[0m\n",
      "\u001b[32m[I 2023-05-28 15:36:45,578]\u001b[0m Trial 8 finished with value: 0.7708732431274465 and parameters: {'num_leaves': 21, 'min_child_samples': 40, 'min_sum_hessian_in_leaf': 0.00027957498261343494, 'feature_fraction': 0.9583029978765085, 'bagging_fraction': 0.6036430420592004, 'lambda_l1': 42.81872063134317, 'lambda_l2': 0.12314459510465003}. Best is trial 0 with value: 0.7726843253155904.\u001b[0m\n",
      "\u001b[32m[I 2023-05-28 15:36:55,945]\u001b[0m Trial 4 finished with value: 0.771774660766082 and parameters: {'num_leaves': 132, 'min_child_samples': 42, 'min_sum_hessian_in_leaf': 1.430155776226769e-05, 'feature_fraction': 0.5123753635320571, 'bagging_fraction': 0.9102001648628772, 'lambda_l1': 95.93982289913241, 'lambda_l2': 0.030529876978522493}. Best is trial 0 with value: 0.7726843253155904.\u001b[0m\n",
      "\u001b[32m[I 2023-05-28 15:37:44,171]\u001b[0m Trial 9 finished with value: 0.771219396078895 and parameters: {'num_leaves': 139, 'min_child_samples': 117, 'min_sum_hessian_in_leaf': 0.00523696679890782, 'feature_fraction': 0.955452281077555, 'bagging_fraction': 0.842643536047684, 'lambda_l1': 1.3222157118615363, 'lambda_l2': 3.11373951774016}. Best is trial 0 with value: 0.7726843253155904.\u001b[0m\n",
      "\u001b[32m[I 2023-05-28 15:38:01,500]\u001b[0m Trial 12 finished with value: 0.7721415432096985 and parameters: {'num_leaves': 45, 'min_child_samples': 171, 'min_sum_hessian_in_leaf': 0.00020396978170131517, 'feature_fraction': 0.6289121006999424, 'bagging_fraction': 0.5525350281900895, 'lambda_l1': 1.4487169186727482, 'lambda_l2': 51.289471637304445}. Best is trial 0 with value: 0.7726843253155904.\u001b[0m\n",
      "\u001b[32m[I 2023-05-28 15:38:05,730]\u001b[0m Trial 10 finished with value: 0.7683464822579023 and parameters: {'num_leaves': 185, 'min_child_samples': 119, 'min_sum_hessian_in_leaf': 2.0877100826057607e-05, 'feature_fraction': 0.8926168123857874, 'bagging_fraction': 0.8079964277338143, 'lambda_l1': 0.4336583696769656, 'lambda_l2': 0.01126706114375465}. Best is trial 0 with value: 0.7726843253155904.\u001b[0m\n",
      "\u001b[32m[I 2023-05-28 15:38:30,886]\u001b[0m Trial 11 finished with value: 0.7716622427244345 and parameters: {'num_leaves': 96, 'min_child_samples': 121, 'min_sum_hessian_in_leaf': 2.6294416564487236e-05, 'feature_fraction': 0.8487218535455452, 'bagging_fraction': 0.8935600779488073, 'lambda_l1': 23.920656641703026, 'lambda_l2': 0.1373497155137869}. Best is trial 0 with value: 0.7726843253155904.\u001b[0m\n",
      "\u001b[32m[I 2023-05-28 15:38:45,516]\u001b[0m Trial 13 finished with value: 0.7697012591269525 and parameters: {'num_leaves': 255, 'min_child_samples': 191, 'min_sum_hessian_in_leaf': 1.1320689218563315e-05, 'feature_fraction': 0.8212850238591638, 'bagging_fraction': 0.9094783214759639, 'lambda_l1': 0.6605606855511519, 'lambda_l2': 0.022782299576263335}. Best is trial 0 with value: 0.7726843253155904.\u001b[0m\n",
      "\u001b[32m[I 2023-05-28 15:39:18,826]\u001b[0m Trial 14 finished with value: 0.7687660701211142 and parameters: {'num_leaves': 249, 'min_child_samples': 197, 'min_sum_hessian_in_leaf': 0.001186571934118048, 'feature_fraction': 0.7181702297619392, 'bagging_fraction': 0.7736692526918947, 'lambda_l1': 0.014945889706986907, 'lambda_l2': 0.1887735842736239}. Best is trial 0 with value: 0.7726843253155904.\u001b[0m\n",
      "\u001b[32m[I 2023-05-28 15:39:53,012]\u001b[0m Trial 16 finished with value: 0.7699841655748861 and parameters: {'num_leaves': 251, 'min_child_samples': 199, 'min_sum_hessian_in_leaf': 0.0009019026654425235, 'feature_fraction': 0.7469248165969254, 'bagging_fraction': 0.9852736605254527, 'lambda_l1': 0.010311824224229734, 'lambda_l2': 0.26422183074753464}. Best is trial 0 with value: 0.7726843253155904.\u001b[0m\n",
      "\u001b[32m[I 2023-05-28 15:39:55,960]\u001b[0m Trial 18 finished with value: 0.7732007529304943 and parameters: {'num_leaves': 78, 'min_child_samples': 10, 'min_sum_hessian_in_leaf': 0.0009023161576933626, 'feature_fraction': 0.7321282854329929, 'bagging_fraction': 0.9969210255651569, 'lambda_l1': 4.435905727373085, 'lambda_l2': 0.33303223643000107}. Best is trial 18 with value: 0.7732007529304943.\u001b[0m\n",
      "\u001b[32m[I 2023-05-28 15:40:06,169]\u001b[0m Trial 15 finished with value: 0.7704917798604167 and parameters: {'num_leaves': 213, 'min_child_samples': 15, 'min_sum_hessian_in_leaf': 0.000757337156592314, 'feature_fraction': 0.7471419593441341, 'bagging_fraction': 0.9982147720746665, 'lambda_l1': 6.422753931506571, 'lambda_l2': 0.24069846363503344}. Best is trial 18 with value: 0.7732007529304943.\u001b[0m\n",
      "\u001b[32m[I 2023-05-28 15:40:27,076]\u001b[0m Trial 17 finished with value: 0.7707326288440891 and parameters: {'num_leaves': 230, 'min_child_samples': 197, 'min_sum_hessian_in_leaf': 0.0010245509936405528, 'feature_fraction': 0.7253048711830725, 'bagging_fraction': 0.9977280472448374, 'lambda_l1': 4.8456906699015265, 'lambda_l2': 0.49606866800910027}. Best is trial 18 with value: 0.7732007529304943.\u001b[0m\n",
      "\u001b[32m[I 2023-05-28 15:40:55,758]\u001b[0m Trial 19 finished with value: 0.7722383473375855 and parameters: {'num_leaves': 176, 'min_child_samples': 13, 'min_sum_hessian_in_leaf': 0.00012475621229084355, 'feature_fraction': 0.7509943686896782, 'bagging_fraction': 0.9806530616021032, 'lambda_l1': 4.162618493159601, 'lambda_l2': 0.5705107385439511}. Best is trial 18 with value: 0.7732007529304943.\u001b[0m\n",
      "\u001b[32m[I 2023-05-28 15:41:15,490]\u001b[0m Trial 21 finished with value: 0.7732545377513834 and parameters: {'num_leaves': 82, 'min_child_samples': 9, 'min_sum_hessian_in_leaf': 0.0009863485249381229, 'feature_fraction': 0.6891465042335774, 'bagging_fraction': 0.9986896636875452, 'lambda_l1': 3.0888404929762077, 'lambda_l2': 0.5027896755367722}. Best is trial 21 with value: 0.7732545377513834.\u001b[0m\n"
     ]
    },
    {
     "name": "stderr",
     "output_type": "stream",
     "text": [
      "\u001b[32m[I 2023-05-28 15:41:42,270]\u001b[0m Trial 20 finished with value: 0.7734721386398695 and parameters: {'num_leaves': 174, 'min_child_samples': 14, 'min_sum_hessian_in_leaf': 8.069383843944009e-05, 'feature_fraction': 0.7137625902309237, 'bagging_fraction': 0.9986063667250312, 'lambda_l1': 5.1081565882914015, 'lambda_l2': 0.6185665676324995}. Best is trial 20 with value: 0.7734721386398695.\u001b[0m\n",
      "\u001b[32m[I 2023-05-28 15:42:08,593]\u001b[0m Trial 22 finished with value: 0.7713202577581789 and parameters: {'num_leaves': 72, 'min_child_samples': 9, 'min_sum_hessian_in_leaf': 0.009849950963265021, 'feature_fraction': 0.7113520164474019, 'bagging_fraction': 0.7157819089573046, 'lambda_l1': 20.447870010956976, 'lambda_l2': 0.5138577467021287}. Best is trial 20 with value: 0.7734721386398695.\u001b[0m\n",
      "\u001b[32m[I 2023-05-28 15:42:11,988]\u001b[0m Trial 23 finished with value: 0.7710191083596709 and parameters: {'num_leaves': 78, 'min_child_samples': 7, 'min_sum_hessian_in_leaf': 0.008044595319661623, 'feature_fraction': 0.6828063819982894, 'bagging_fraction': 0.7104247256837446, 'lambda_l1': 24.1927188143041, 'lambda_l2': 0.8256378986614868}. Best is trial 20 with value: 0.7734721386398695.\u001b[0m\n",
      "\u001b[32m[I 2023-05-28 15:42:27,277]\u001b[0m Trial 24 finished with value: 0.7728624799647267 and parameters: {'num_leaves': 73, 'min_child_samples': 60, 'min_sum_hessian_in_leaf': 0.00798470748170056, 'feature_fraction': 0.6817513774692446, 'bagging_fraction': 0.8303968373724507, 'lambda_l1': 18.82975776208373, 'lambda_l2': 0.08172717285215837}. Best is trial 20 with value: 0.7734721386398695.\u001b[0m\n",
      "\u001b[32m[I 2023-05-28 15:43:00,981]\u001b[0m Trial 25 finished with value: 0.7728698683418975 and parameters: {'num_leaves': 76, 'min_child_samples': 6, 'min_sum_hessian_in_leaf': 0.00165056085097612, 'feature_fraction': 0.6901960426527025, 'bagging_fraction': 0.9507960291235137, 'lambda_l1': 23.2581812045366, 'lambda_l2': 0.9752291568570731}. Best is trial 20 with value: 0.7734721386398695.\u001b[0m\n",
      "\u001b[32m[I 2023-05-28 15:43:31,697]\u001b[0m Trial 27 finished with value: 0.7720565946841375 and parameters: {'num_leaves': 180, 'min_child_samples': 64, 'min_sum_hessian_in_leaf': 0.000414829953113654, 'feature_fraction': 0.6821836142805507, 'bagging_fraction': 0.9503082537793763, 'lambda_l1': 1.9903674445912733, 'lambda_l2': 1.2495052415883605}. Best is trial 20 with value: 0.7734721386398695.\u001b[0m\n",
      "\u001b[32m[I 2023-05-28 15:43:32,173]\u001b[0m Trial 26 finished with value: 0.7709124471249219 and parameters: {'num_leaves': 152, 'min_child_samples': 7, 'min_sum_hessian_in_leaf': 0.0005648122478670348, 'feature_fraction': 0.6589904990487373, 'bagging_fraction': 0.9498424261426954, 'lambda_l1': 16.897753249998253, 'lambda_l2': 0.9306137087998726}. Best is trial 20 with value: 0.7734721386398695.\u001b[0m\n",
      "\u001b[32m[I 2023-05-28 15:43:46,531]\u001b[0m Trial 28 finished with value: 0.7708377653799812 and parameters: {'num_leaves': 153, 'min_child_samples': 66, 'min_sum_hessian_in_leaf': 0.0005476720857051493, 'feature_fraction': 0.6836232987970353, 'bagging_fraction': 0.9517268892837234, 'lambda_l1': 1.9740934503083636, 'lambda_l2': 1.4746639571795224}. Best is trial 20 with value: 0.7734721386398695.\u001b[0m\n",
      "\u001b[32m[I 2023-05-28 15:44:03,523]\u001b[0m Trial 29 finished with value: 0.7721459641239072 and parameters: {'num_leaves': 166, 'min_child_samples': 25, 'min_sum_hessian_in_leaf': 0.00047707622753564137, 'feature_fraction': 0.6509157729187228, 'bagging_fraction': 0.950492071653789, 'lambda_l1': 2.5815224074371126, 'lambda_l2': 1.2776387720798528}. Best is trial 20 with value: 0.7734721386398695.\u001b[0m\n",
      "\u001b[32m[I 2023-05-28 15:44:32,202]\u001b[0m Trial 30 finished with value: 0.7695569649045316 and parameters: {'num_leaves': 162, 'min_child_samples': 25, 'min_sum_hessian_in_leaf': 0.00048688245478372246, 'feature_fraction': 0.7851040122438679, 'bagging_fraction': 0.9566527613571332, 'lambda_l1': 2.043187257699657, 'lambda_l2': 0.07234149814808429}. Best is trial 20 with value: 0.7734721386398695.\u001b[0m\n",
      "\u001b[32m[I 2023-05-28 15:44:56,760]\u001b[0m Trial 33 finished with value: 0.7711519566535239 and parameters: {'num_leaves': 92, 'min_child_samples': 26, 'min_sum_hessian_in_leaf': 0.0017376847626134465, 'feature_fraction': 0.7811529774086923, 'bagging_fraction': 0.8775787524008307, 'lambda_l1': 2.7670968667254616, 'lambda_l2': 0.06701937086672752}. Best is trial 20 with value: 0.7734721386398695.\u001b[0m\n",
      "\u001b[32m[I 2023-05-28 15:45:11,230]\u001b[0m Trial 31 finished with value: 0.7699361411232762 and parameters: {'num_leaves': 153, 'min_child_samples': 24, 'min_sum_hessian_in_leaf': 0.0006108265180744152, 'feature_fraction': 0.7853194338873158, 'bagging_fraction': 0.8744897481326821, 'lambda_l1': 2.6041496479007766, 'lambda_l2': 0.07640204747071636}. Best is trial 20 with value: 0.7734721386398695.\u001b[0m\n",
      "\u001b[32m[I 2023-05-28 15:45:19,535]\u001b[0m Trial 32 finished with value: 0.7712518137415052 and parameters: {'num_leaves': 157, 'min_child_samples': 29, 'min_sum_hessian_in_leaf': 0.001952934327765423, 'feature_fraction': 0.779702804419558, 'bagging_fraction': 0.8724070638275965, 'lambda_l1': 2.4966420307893253, 'lambda_l2': 0.3660213721899306}. Best is trial 20 with value: 0.7734721386398695.\u001b[0m\n",
      "\u001b[32m[I 2023-05-28 15:46:12,045]\u001b[0m Trial 36 finished with value: 0.7741722212194122 and parameters: {'num_leaves': 37, 'min_child_samples': 50, 'min_sum_hessian_in_leaf': 0.0016975174700190373, 'feature_fraction': 0.7137580319414872, 'bagging_fraction': 0.99677315406899, 'lambda_l1': 10.473201469922435, 'lambda_l2': 0.3250217765600823}. Best is trial 36 with value: 0.7741722212194122.\u001b[0m\n",
      "\u001b[32m[I 2023-05-28 15:46:13,236]\u001b[0m Trial 34 finished with value: 0.7699565891873843 and parameters: {'num_leaves': 197, 'min_child_samples': 28, 'min_sum_hessian_in_leaf': 0.001657064617473254, 'feature_fraction': 0.7913422786233855, 'bagging_fraction': 0.8769207390284866, 'lambda_l1': 11.474196682753051, 'lambda_l2': 0.07009693796375965}. Best is trial 36 with value: 0.7741722212194122.\u001b[0m\n",
      "\u001b[32m[I 2023-05-28 15:46:13,262]\u001b[0m Trial 35 finished with value: 0.7725106022678042 and parameters: {'num_leaves': 89, 'min_child_samples': 51, 'min_sum_hessian_in_leaf': 0.0015343588795705793, 'feature_fraction': 0.7740026203347825, 'bagging_fraction': 0.8853854945791311, 'lambda_l1': 10.772759226617104, 'lambda_l2': 0.3038310956774982}. Best is trial 36 with value: 0.7741722212194122.\u001b[0m\n",
      "\u001b[32m[I 2023-05-28 15:46:40,185]\u001b[0m Trial 37 finished with value: 0.774083215142454 and parameters: {'num_leaves': 48, 'min_child_samples': 50, 'min_sum_hessian_in_leaf': 0.0013416563918524087, 'feature_fraction': 0.7013343230129747, 'bagging_fraction': 0.995681088840275, 'lambda_l1': 9.434381854654273, 'lambda_l2': 0.3351191521513699}. Best is trial 36 with value: 0.7741722212194122.\u001b[0m\n",
      "\u001b[32m[I 2023-05-28 15:46:46,921]\u001b[0m Trial 38 finished with value: 0.7736096785888499 and parameters: {'num_leaves': 47, 'min_child_samples': 48, 'min_sum_hessian_in_leaf': 0.0015286869980792727, 'feature_fraction': 0.7169848928300157, 'bagging_fraction': 0.9731120319060477, 'lambda_l1': 9.789977091016073, 'lambda_l2': 0.32194735003649083}. Best is trial 36 with value: 0.7741722212194122.\u001b[0m\n",
      "\u001b[32m[I 2023-05-28 15:47:28,797]\u001b[0m Trial 39 finished with value: 0.773787726366571 and parameters: {'num_leaves': 38, 'min_child_samples': 48, 'min_sum_hessian_in_leaf': 0.0002739962962792818, 'feature_fraction': 0.7156820489933136, 'bagging_fraction': 0.9752904535150346, 'lambda_l1': 8.953310936052896, 'lambda_l2': 0.2847433435174251}. Best is trial 36 with value: 0.7741722212194122.\u001b[0m\n",
      "\u001b[32m[I 2023-05-28 15:47:30,908]\u001b[0m Trial 41 finished with value: 0.7741717830466098 and parameters: {'num_leaves': 39, 'min_child_samples': 89, 'min_sum_hessian_in_leaf': 0.0029106689474194813, 'feature_fraction': 0.7212141952321288, 'bagging_fraction': 0.9781133508395163, 'lambda_l1': 7.093217889209462, 'lambda_l2': 0.41874789315078964}. Best is trial 36 with value: 0.7741722212194122.\u001b[0m\n",
      "\u001b[32m[I 2023-05-28 15:47:32,812]\u001b[0m Trial 40 finished with value: 0.7749842017330482 and parameters: {'num_leaves': 37, 'min_child_samples': 86, 'min_sum_hessian_in_leaf': 0.00264614099562392, 'feature_fraction': 0.5792460632219049, 'bagging_fraction': 0.971578763410785, 'lambda_l1': 7.824957097037412, 'lambda_l2': 0.16549020308340345}. Best is trial 40 with value: 0.7749842017330482.\u001b[0m\n"
     ]
    },
    {
     "name": "stderr",
     "output_type": "stream",
     "text": [
      "\u001b[32m[I 2023-05-28 15:48:08,205]\u001b[0m Trial 42 finished with value: 0.7748298402233156 and parameters: {'num_leaves': 32, 'min_child_samples': 91, 'min_sum_hessian_in_leaf': 0.0029183469962990602, 'feature_fraction': 0.5806211907674361, 'bagging_fraction': 0.9291681451992353, 'lambda_l1': 7.328902822317442, 'lambda_l2': 0.16474271074865926}. Best is trial 40 with value: 0.7749842017330482.\u001b[0m\n",
      "\u001b[32m[I 2023-05-28 15:48:26,840]\u001b[0m Trial 43 finished with value: 0.7735297387702812 and parameters: {'num_leaves': 33, 'min_child_samples': 90, 'min_sum_hessian_in_leaf': 0.0033158345226905325, 'feature_fraction': 0.5558269883540323, 'bagging_fraction': 0.9307338002306628, 'lambda_l1': 40.6302050038806, 'lambda_l2': 0.18109877200900043}. Best is trial 40 with value: 0.7749842017330482.\u001b[0m\n",
      "\u001b[32m[I 2023-05-28 15:49:04,482]\u001b[0m Trial 44 finished with value: 0.7735610627820759 and parameters: {'num_leaves': 34, 'min_child_samples': 88, 'min_sum_hessian_in_leaf': 0.0023134440746155494, 'feature_fraction': 0.5847371718576049, 'bagging_fraction': 0.921519433430401, 'lambda_l1': 36.6148522091518, 'lambda_l2': 0.17978748867937963}. Best is trial 40 with value: 0.7749842017330482.\u001b[0m\n",
      "\u001b[32m[I 2023-05-28 15:49:08,128]\u001b[0m Trial 45 finished with value: 0.7747315897689429 and parameters: {'num_leaves': 35, 'min_child_samples': 87, 'min_sum_hessian_in_leaf': 0.0026362479282979138, 'feature_fraction': 0.5970702037701267, 'bagging_fraction': 0.9210133030512633, 'lambda_l1': 8.27684521745128, 'lambda_l2': 0.17331678492931968}. Best is trial 40 with value: 0.7749842017330482.\u001b[0m\n",
      "\u001b[32m[I 2023-05-28 15:49:08,926]\u001b[0m Trial 46 finished with value: 0.7736244767174744 and parameters: {'num_leaves': 31, 'min_child_samples': 90, 'min_sum_hessian_in_leaf': 0.002881912720018411, 'feature_fraction': 0.5418794947081752, 'bagging_fraction': 0.9297853638317713, 'lambda_l1': 41.38592334804265, 'lambda_l2': 0.16474157071019002}. Best is trial 40 with value: 0.7749842017330482.\u001b[0m\n",
      "\u001b[32m[I 2023-05-28 15:49:58,643]\u001b[0m Trial 48 finished with value: 0.7759068939080692 and parameters: {'num_leaves': 9, 'min_child_samples': 96, 'min_sum_hessian_in_leaf': 0.00256322488863174, 'feature_fraction': 0.5812861069467355, 'bagging_fraction': 0.9281514312192686, 'lambda_l1': 6.8267287761485544, 'lambda_l2': 0.17892062255143676}. Best is trial 48 with value: 0.7759068939080692.\u001b[0m\n",
      "\u001b[32m[I 2023-05-28 15:49:59,137]\u001b[0m Trial 47 finished with value: 0.7740328395197099 and parameters: {'num_leaves': 11, 'min_child_samples': 93, 'min_sum_hessian_in_leaf': 0.0029976447416696196, 'feature_fraction': 0.5783077639730443, 'bagging_fraction': 0.9306449839536398, 'lambda_l1': 42.60657362928854, 'lambda_l2': 0.173689181697602}. Best is trial 48 with value: 0.7759068939080692.\u001b[0m\n",
      "\u001b[32m[I 2023-05-28 15:50:32,045]\u001b[0m Trial 49 finished with value: 0.7733787223358443 and parameters: {'num_leaves': 13, 'min_child_samples': 97, 'min_sum_hessian_in_leaf': 0.0027578375828574233, 'feature_fraction': 0.5905656880982146, 'bagging_fraction': 0.9241690601258743, 'lambda_l1': 84.33269791174669, 'lambda_l2': 0.10455142213308827}. Best is trial 48 with value: 0.7759068939080692.\u001b[0m\n"
     ]
    }
   ],
   "source": [
    "sampler = optuna.samplers.TPESampler(seed=123)\n",
    "study = optuna.create_study(sampler=sampler, direction=\"maximize\")\n",
    "study.optimize(objective, n_trials=50, n_jobs=5)"
   ]
  },
  {
   "cell_type": "markdown",
   "id": "8e5a2b33",
   "metadata": {
    "papermill": {
     "duration": 0.183042,
     "end_time": "2022-05-01T12:16:37.715994",
     "exception": false,
     "start_time": "2022-05-01T12:16:37.532952",
     "status": "completed"
    },
    "tags": []
   },
   "source": [
    "#### Confirmation of the optimization results"
   ]
  },
  {
   "cell_type": "code",
   "execution_count": 56,
   "id": "cfd86f00",
   "metadata": {
    "execution": {
     "iopub.execute_input": "2022-05-01T12:16:38.090479Z",
     "iopub.status.busy": "2022-05-01T12:16:38.090147Z",
     "iopub.status.idle": "2022-05-01T12:16:38.098164Z",
     "shell.execute_reply": "2022-05-01T12:16:38.097273Z"
    },
    "papermill": {
     "duration": 0.201711,
     "end_time": "2022-05-01T12:16:38.100171",
     "exception": false,
     "start_time": "2022-05-01T12:16:37.898460",
     "status": "completed"
    },
    "tags": []
   },
   "outputs": [
    {
     "name": "stdout",
     "output_type": "stream",
     "text": [
      "acc(best)=0.7759\n"
     ]
    },
    {
     "data": {
      "text/plain": [
       "{'num_leaves': 9,\n",
       " 'min_child_samples': 96,\n",
       " 'min_sum_hessian_in_leaf': 0.00256322488863174,\n",
       " 'feature_fraction': 0.5812861069467355,\n",
       " 'bagging_fraction': 0.9281514312192686,\n",
       " 'lambda_l1': 6.8267287761485544,\n",
       " 'lambda_l2': 0.17892062255143676}"
      ]
     },
     "metadata": {},
     "output_type": "display_data"
    }
   ],
   "source": [
    "trial = study.best_trial\n",
    "print(\"acc(best)={:.4f}\".format(trial.value))\n",
    "display(trial.params)"
   ]
  },
  {
   "cell_type": "markdown",
   "id": "310a68b8",
   "metadata": {},
   "source": [
    "\n",
    "\n",
    "<div> <img src=\"./image/hyperparameter.png\" alt=\"Drawing\" style=\"width: 350px;\"/></div>\n"
   ]
  },
  {
   "cell_type": "markdown",
   "id": "1b3df262",
   "metadata": {
    "papermill": {
     "duration": 0.184052,
     "end_time": "2022-05-01T12:16:38.468166",
     "exception": false,
     "start_time": "2022-05-01T12:16:38.284114",
     "status": "completed"
    },
    "tags": []
   },
   "source": [
    "#### Script 7-52: Find best hyperparameters"
   ]
  },
  {
   "cell_type": "code",
   "execution_count": 57,
   "id": "8985e40f",
   "metadata": {
    "execution": {
     "iopub.execute_input": "2022-05-01T12:16:38.838321Z",
     "iopub.status.busy": "2022-05-01T12:16:38.838017Z",
     "iopub.status.idle": "2022-05-01T12:16:38.844348Z",
     "shell.execute_reply": "2022-05-01T12:16:38.843539Z"
    },
    "papermill": {
     "duration": 0.19326,
     "end_time": "2022-05-01T12:16:38.846196",
     "exception": false,
     "start_time": "2022-05-01T12:16:38.652936",
     "status": "completed"
    },
    "tags": []
   },
   "outputs": [
    {
     "data": {
      "text/plain": [
       "{'num_leaves': 9,\n",
       " 'min_child_samples': 96,\n",
       " 'min_sum_hessian_in_leaf': 0.00256322488863174,\n",
       " 'feature_fraction': 0.5812861069467355,\n",
       " 'bagging_fraction': 0.9281514312192686,\n",
       " 'lambda_l1': 6.8267287761485544,\n",
       " 'lambda_l2': 0.17892062255143676,\n",
       " 'boosting_type': 'gbdt',\n",
       " 'objective': 'binary',\n",
       " 'metric': 'auc',\n",
       " 'verbosity': -1,\n",
       " 'learning_rate': 0.05,\n",
       " 'n_estimators': 100000,\n",
       " 'bagging_freq': 1,\n",
       " 'random_state': 123}"
      ]
     },
     "metadata": {},
     "output_type": "display_data"
    }
   ],
   "source": [
    "params_best = trial.params\n",
    "params_best.update(params_base)\n",
    "display(params_best)\n",
    "\n"
   ]
  },
  {
   "cell_type": "markdown",
   "id": "6e86ef45",
   "metadata": {
    "papermill": {
     "duration": 0.184201,
     "end_time": "2022-05-01T12:16:39.215214",
     "exception": false,
     "start_time": "2022-05-01T12:16:39.031013",
     "status": "completed"
    },
    "tags": []
   },
   "source": [
    "#### Script 7-53: Train model with best hyperparameters"
   ]
  },
  {
   "cell_type": "code",
   "execution_count": 58,
   "id": "d92de8b0",
   "metadata": {
    "execution": {
     "iopub.execute_input": "2022-05-01T12:16:39.588345Z",
     "iopub.status.busy": "2022-05-01T12:16:39.587970Z",
     "iopub.status.idle": "2022-05-01T12:27:23.523631Z",
     "shell.execute_reply": "2022-05-01T12:27:23.522651Z"
    },
    "papermill": {
     "duration": 644.340392,
     "end_time": "2022-05-01T12:27:23.740444",
     "exception": false,
     "start_time": "2022-05-01T12:16:39.400052",
     "status": "completed"
    },
    "tags": []
   },
   "outputs": [
    {
     "name": "stdout",
     "output_type": "stream",
     "text": [
      "-------------------- 0 --------------------\n",
      "(246008, 162) (61503, 162)\n",
      "[LightGBM] [Warning] feature_fraction is set=0.5812861069467355, colsample_bytree=1.0 will be ignored. Current value: feature_fraction=0.5812861069467355\n",
      "[LightGBM] [Warning] bagging_fraction is set=0.9281514312192686, subsample=1.0 will be ignored. Current value: bagging_fraction=0.9281514312192686\n",
      "[LightGBM] [Warning] lambda_l1 is set=6.8267287761485544, reg_alpha=0.0 will be ignored. Current value: lambda_l1=6.8267287761485544\n",
      "[LightGBM] [Warning] min_sum_hessian_in_leaf is set=0.00256322488863174, min_child_weight=0.001 will be ignored. Current value: min_sum_hessian_in_leaf=0.00256322488863174\n",
      "[LightGBM] [Warning] bagging_freq is set=1, subsample_freq=0 will be ignored. Current value: bagging_freq=1\n",
      "[LightGBM] [Warning] lambda_l2 is set=0.17892062255143676, reg_lambda=0.0 will be ignored. Current value: lambda_l2=0.17892062255143676\n",
      "[100]\ttraining's auc: 0.765571\tvalid_1's auc: 0.758153\n",
      "[200]\ttraining's auc: 0.778053\tvalid_1's auc: 0.767225\n",
      "[300]\ttraining's auc: 0.78542\tvalid_1's auc: 0.770731\n",
      "[400]\ttraining's auc: 0.790937\tvalid_1's auc: 0.772669\n",
      "[500]\ttraining's auc: 0.795902\tvalid_1's auc: 0.773889\n",
      "[600]\ttraining's auc: 0.800108\tvalid_1's auc: 0.774282\n",
      "[700]\ttraining's auc: 0.804199\tvalid_1's auc: 0.774666\n",
      "[800]\ttraining's auc: 0.808092\tvalid_1's auc: 0.775149\n",
      "[900]\ttraining's auc: 0.811767\tvalid_1's auc: 0.775339\n",
      "[1000]\ttraining's auc: 0.815254\tvalid_1's auc: 0.775564\n",
      "[1100]\ttraining's auc: 0.818908\tvalid_1's auc: 0.775625\n",
      "[1200]\ttraining's auc: 0.822111\tvalid_1's auc: 0.775704\n",
      "[1300]\ttraining's auc: 0.825312\tvalid_1's auc: 0.77585\n",
      "[auc] tr:0.8241, va:0.7759\n",
      "-------------------- 1 --------------------\n",
      "(246009, 162) (61502, 162)\n",
      "[LightGBM] [Warning] feature_fraction is set=0.5812861069467355, colsample_bytree=1.0 will be ignored. Current value: feature_fraction=0.5812861069467355\n",
      "[LightGBM] [Warning] bagging_fraction is set=0.9281514312192686, subsample=1.0 will be ignored. Current value: bagging_fraction=0.9281514312192686\n",
      "[LightGBM] [Warning] lambda_l1 is set=6.8267287761485544, reg_alpha=0.0 will be ignored. Current value: lambda_l1=6.8267287761485544\n",
      "[LightGBM] [Warning] min_sum_hessian_in_leaf is set=0.00256322488863174, min_child_weight=0.001 will be ignored. Current value: min_sum_hessian_in_leaf=0.00256322488863174\n",
      "[LightGBM] [Warning] bagging_freq is set=1, subsample_freq=0 will be ignored. Current value: bagging_freq=1\n",
      "[LightGBM] [Warning] lambda_l2 is set=0.17892062255143676, reg_lambda=0.0 will be ignored. Current value: lambda_l2=0.17892062255143676\n",
      "[100]\ttraining's auc: 0.764833\tvalid_1's auc: 0.759916\n",
      "[200]\ttraining's auc: 0.77689\tvalid_1's auc: 0.769018\n",
      "[300]\ttraining's auc: 0.784553\tvalid_1's auc: 0.77321\n",
      "[400]\ttraining's auc: 0.790178\tvalid_1's auc: 0.775217\n",
      "[500]\ttraining's auc: 0.79514\tvalid_1's auc: 0.776733\n",
      "[600]\ttraining's auc: 0.799553\tvalid_1's auc: 0.777719\n",
      "[700]\ttraining's auc: 0.803572\tvalid_1's auc: 0.778275\n",
      "[800]\ttraining's auc: 0.807348\tvalid_1's auc: 0.778786\n",
      "[900]\ttraining's auc: 0.811096\tvalid_1's auc: 0.779052\n",
      "[1000]\ttraining's auc: 0.814642\tvalid_1's auc: 0.779075\n",
      "[auc] tr:0.8136, va:0.7792\n",
      "-------------------- 2 --------------------\n",
      "(246009, 162) (61502, 162)\n",
      "[LightGBM] [Warning] feature_fraction is set=0.5812861069467355, colsample_bytree=1.0 will be ignored. Current value: feature_fraction=0.5812861069467355\n",
      "[LightGBM] [Warning] bagging_fraction is set=0.9281514312192686, subsample=1.0 will be ignored. Current value: bagging_fraction=0.9281514312192686\n",
      "[LightGBM] [Warning] lambda_l1 is set=6.8267287761485544, reg_alpha=0.0 will be ignored. Current value: lambda_l1=6.8267287761485544\n",
      "[LightGBM] [Warning] min_sum_hessian_in_leaf is set=0.00256322488863174, min_child_weight=0.001 will be ignored. Current value: min_sum_hessian_in_leaf=0.00256322488863174\n",
      "[LightGBM] [Warning] bagging_freq is set=1, subsample_freq=0 will be ignored. Current value: bagging_freq=1\n",
      "[LightGBM] [Warning] lambda_l2 is set=0.17892062255143676, reg_lambda=0.0 will be ignored. Current value: lambda_l2=0.17892062255143676\n",
      "[100]\ttraining's auc: 0.764411\tvalid_1's auc: 0.762149\n",
      "[200]\ttraining's auc: 0.776804\tvalid_1's auc: 0.769294\n",
      "[300]\ttraining's auc: 0.784509\tvalid_1's auc: 0.772456\n",
      "[400]\ttraining's auc: 0.7902\tvalid_1's auc: 0.774406\n",
      "[500]\ttraining's auc: 0.795005\tvalid_1's auc: 0.775277\n",
      "[600]\ttraining's auc: 0.799529\tvalid_1's auc: 0.776109\n",
      "[700]\ttraining's auc: 0.803708\tvalid_1's auc: 0.776451\n",
      "[800]\ttraining's auc: 0.807721\tvalid_1's auc: 0.776834\n",
      "[900]\ttraining's auc: 0.811413\tvalid_1's auc: 0.777129\n",
      "[1000]\ttraining's auc: 0.814929\tvalid_1's auc: 0.777243\n",
      "[auc] tr:0.8129, va:0.7774\n",
      "-------------------- 3 --------------------\n",
      "(246009, 162) (61502, 162)\n",
      "[LightGBM] [Warning] feature_fraction is set=0.5812861069467355, colsample_bytree=1.0 will be ignored. Current value: feature_fraction=0.5812861069467355\n",
      "[LightGBM] [Warning] bagging_fraction is set=0.9281514312192686, subsample=1.0 will be ignored. Current value: bagging_fraction=0.9281514312192686\n",
      "[LightGBM] [Warning] lambda_l1 is set=6.8267287761485544, reg_alpha=0.0 will be ignored. Current value: lambda_l1=6.8267287761485544\n",
      "[LightGBM] [Warning] min_sum_hessian_in_leaf is set=0.00256322488863174, min_child_weight=0.001 will be ignored. Current value: min_sum_hessian_in_leaf=0.00256322488863174\n",
      "[LightGBM] [Warning] bagging_freq is set=1, subsample_freq=0 will be ignored. Current value: bagging_freq=1\n",
      "[LightGBM] [Warning] lambda_l2 is set=0.17892062255143676, reg_lambda=0.0 will be ignored. Current value: lambda_l2=0.17892062255143676\n",
      "[100]\ttraining's auc: 0.765004\tvalid_1's auc: 0.758313\n",
      "[200]\ttraining's auc: 0.777249\tvalid_1's auc: 0.766913\n",
      "[300]\ttraining's auc: 0.784784\tvalid_1's auc: 0.770235\n",
      "[400]\ttraining's auc: 0.790554\tvalid_1's auc: 0.772264\n",
      "[500]\ttraining's auc: 0.795575\tvalid_1's auc: 0.77381\n",
      "[600]\ttraining's auc: 0.799944\tvalid_1's auc: 0.774243\n",
      "[700]\ttraining's auc: 0.804106\tvalid_1's auc: 0.774898\n",
      "[800]\ttraining's auc: 0.808188\tvalid_1's auc: 0.775343\n",
      "[900]\ttraining's auc: 0.811746\tvalid_1's auc: 0.775605\n",
      "[1000]\ttraining's auc: 0.815455\tvalid_1's auc: 0.776075\n",
      "[1100]\ttraining's auc: 0.818946\tvalid_1's auc: 0.776125\n",
      "[auc] tr:0.8187, va:0.7762\n",
      "-------------------- 4 --------------------\n",
      "(246009, 162) (61502, 162)\n",
      "[LightGBM] [Warning] feature_fraction is set=0.5812861069467355, colsample_bytree=1.0 will be ignored. Current value: feature_fraction=0.5812861069467355\n",
      "[LightGBM] [Warning] bagging_fraction is set=0.9281514312192686, subsample=1.0 will be ignored. Current value: bagging_fraction=0.9281514312192686\n",
      "[LightGBM] [Warning] lambda_l1 is set=6.8267287761485544, reg_alpha=0.0 will be ignored. Current value: lambda_l1=6.8267287761485544\n",
      "[LightGBM] [Warning] min_sum_hessian_in_leaf is set=0.00256322488863174, min_child_weight=0.001 will be ignored. Current value: min_sum_hessian_in_leaf=0.00256322488863174\n",
      "[LightGBM] [Warning] bagging_freq is set=1, subsample_freq=0 will be ignored. Current value: bagging_freq=1\n",
      "[LightGBM] [Warning] lambda_l2 is set=0.17892062255143676, reg_lambda=0.0 will be ignored. Current value: lambda_l2=0.17892062255143676\n",
      "[100]\ttraining's auc: 0.766366\tvalid_1's auc: 0.754583\n",
      "[200]\ttraining's auc: 0.778742\tvalid_1's auc: 0.762743\n",
      "[300]\ttraining's auc: 0.78624\tvalid_1's auc: 0.766343\n",
      "[400]\ttraining's auc: 0.791956\tvalid_1's auc: 0.767925\n",
      "[500]\ttraining's auc: 0.796894\tvalid_1's auc: 0.769445\n",
      "[600]\ttraining's auc: 0.80115\tvalid_1's auc: 0.770066\n",
      "[700]\ttraining's auc: 0.805208\tvalid_1's auc: 0.77051\n",
      "[800]\ttraining's auc: 0.809105\tvalid_1's auc: 0.770683\n",
      "[900]\ttraining's auc: 0.812876\tvalid_1's auc: 0.770878\n",
      "[1000]\ttraining's auc: 0.816352\tvalid_1's auc: 0.771097\n",
      "[1100]\ttraining's auc: 0.819791\tvalid_1's auc: 0.771152\n",
      "[auc] tr:0.8186, va:0.7712\n",
      "-------------------- result --------------------\n",
      "[[0.         0.82409484 0.77590689]\n",
      " [1.         0.81361116 0.77917231]\n",
      " [2.         0.81294437 0.77738046]\n",
      " [3.         0.81868272 0.77617448]\n",
      " [4.         0.81859267 0.77124007]]\n",
      "[cv] tr:0.8176+-0.0040, va:0.7760+-0.0026\n",
      "[oof] 0.7759\n"
     ]
    }
   ],
   "source": [
    "\n",
    "train_oof, imp, metrics = train_lgb(x_train,\n",
    "                                    y_train,\n",
    "                                    id_train,\n",
    "                                    list_nfold=[0,1,2,3,4],\n",
    "                                    n_splits=5,\n",
    "                                    params=params_best,\n",
    "                                   )\n",
    "\n"
   ]
  },
  {
   "cell_type": "markdown",
   "id": "afcca9ae",
   "metadata": {
    "papermill": {
     "duration": 0.215454,
     "end_time": "2022-05-01T12:27:24.246795",
     "exception": false,
     "start_time": "2022-05-01T12:27:24.031341",
     "status": "completed"
    },
    "tags": []
   },
   "source": [
    "#### Script 7-54: Create submission dataset"
   ]
  },
  {
   "cell_type": "code",
   "execution_count": 59,
   "id": "3084b6b6",
   "metadata": {
    "execution": {
     "iopub.execute_input": "2022-05-01T12:27:24.680764Z",
     "iopub.status.busy": "2022-05-01T12:27:24.680204Z",
     "iopub.status.idle": "2022-05-01T12:27:33.520379Z",
     "shell.execute_reply": "2022-05-01T12:27:33.519435Z"
    },
    "papermill": {
     "duration": 9.059787,
     "end_time": "2022-05-01T12:27:33.522678",
     "exception": false,
     "start_time": "2022-05-01T12:27:24.462891",
     "status": "completed"
    },
    "tags": []
   },
   "outputs": [
    {
     "name": "stdout",
     "output_type": "stream",
     "text": [
      "-------------------- 0 --------------------\n",
      "-------------------- 1 --------------------\n",
      "-------------------- 2 --------------------\n",
      "-------------------- 3 --------------------\n",
      "-------------------- 4 --------------------\n",
      "Done.\n",
      "(48744, 2)\n"
     ]
    },
    {
     "data": {
      "text/html": [
       "<div>\n",
       "<style scoped>\n",
       "    .dataframe tbody tr th:only-of-type {\n",
       "        vertical-align: middle;\n",
       "    }\n",
       "\n",
       "    .dataframe tbody tr th {\n",
       "        vertical-align: top;\n",
       "    }\n",
       "\n",
       "    .dataframe thead th {\n",
       "        text-align: right;\n",
       "    }\n",
       "</style>\n",
       "<table border=\"1\" class=\"dataframe\">\n",
       "  <thead>\n",
       "    <tr style=\"text-align: right;\">\n",
       "      <th></th>\n",
       "      <th>SK_ID_CURR</th>\n",
       "      <th>TARGET</th>\n",
       "    </tr>\n",
       "  </thead>\n",
       "  <tbody>\n",
       "    <tr>\n",
       "      <th>0</th>\n",
       "      <td>100001</td>\n",
       "      <td>0.042383</td>\n",
       "    </tr>\n",
       "    <tr>\n",
       "      <th>1</th>\n",
       "      <td>100005</td>\n",
       "      <td>0.124500</td>\n",
       "    </tr>\n",
       "    <tr>\n",
       "      <th>2</th>\n",
       "      <td>100013</td>\n",
       "      <td>0.028526</td>\n",
       "    </tr>\n",
       "    <tr>\n",
       "      <th>3</th>\n",
       "      <td>100028</td>\n",
       "      <td>0.047363</td>\n",
       "    </tr>\n",
       "    <tr>\n",
       "      <th>4</th>\n",
       "      <td>100038</td>\n",
       "      <td>0.193946</td>\n",
       "    </tr>\n",
       "  </tbody>\n",
       "</table>\n",
       "</div>"
      ],
      "text/plain": [
       "   SK_ID_CURR    TARGET\n",
       "0      100001  0.042383\n",
       "1      100005  0.124500\n",
       "2      100013  0.028526\n",
       "3      100028  0.047363\n",
       "4      100038  0.193946"
      ]
     },
     "metadata": {},
     "output_type": "display_data"
    }
   ],
   "source": [
    "x_test = df_test.drop(columns=[\"SK_ID_CURR\"])\n",
    "id_test = df_test[[\"SK_ID_CURR\"]]\n",
    "\n",
    "for col in x_test.columns:\n",
    "    if (x_test[col].dtype==\"0\") or (x_test[col].dtype==\"object\"):\n",
    "        x_test[col] = x_test[col].astype(\"category\")\n",
    "\n",
    "# predict\n",
    "test_pred = predict_lgb(x_test,\n",
    "                        id_test,\n",
    "                        list_nfold=[0,1,2,3,4],\n",
    "                       )\n",
    "\n",
    "# make submission-file\n",
    "df_submit = test_pred.rename(columns={\"pred\":\"TARGET\"})\n",
    "print(df_submit.shape)\n",
    "display(df_submit.head())\n",
    "df_submit.to_csv(\"a3_submission_HyperParameterTuning.csv\", index=None)\n"
   ]
  },
  {
   "cell_type": "markdown",
   "id": "d430851b",
   "metadata": {},
   "source": [
    "\n",
    "\n",
    "<div> <img src=\"./image/kaggle_submission.png\" alt=\"Drawing\" style=\"width: 750px;\"/></div>\n"
   ]
  },
  {
   "cell_type": "markdown",
   "id": "4e9b599c",
   "metadata": {},
   "source": [
    "<!-- https://www.kaggle.com/code/pestipeti/probing-private-lb-->\n",
    "<div> <img src=\"./image/public_vs_private.png\" alt=\"Drawing\" style=\"width: 450px;\"/></div>\n",
    "\n"
   ]
  },
  {
   "cell_type": "markdown",
   "id": "7a593ece",
   "metadata": {
    "papermill": {
     "duration": 0.219616,
     "end_time": "2022-05-01T12:27:33.959413",
     "exception": false,
     "start_time": "2022-05-01T12:27:33.739797",
     "status": "completed"
    },
    "tags": []
   },
   "source": [
    "\n",
    "\n",
    "<div> <img src=\"./image/end.jpg\" alt=\"Drawing\" style=\"width: 450px;\"/></div>\n"
   ]
  },
  {
   "cell_type": "code",
   "execution_count": 60,
   "id": "d04381f7",
   "metadata": {},
   "outputs": [],
   "source": [
    "##########################################################################\n",
    "# Book reference:\n",
    "# https://www.ric.co.jp/pdfs/contents/pdfs/1326_support.pdf\n",
    "##########################################################################"
   ]
  }
 ],
 "metadata": {
  "kernelspec": {
   "display_name": "Python 3",
   "language": "python",
   "name": "python3"
  },
  "language_info": {
   "codemirror_mode": {
    "name": "ipython",
    "version": 3
   },
   "file_extension": ".py",
   "mimetype": "text/x-python",
   "name": "python",
   "nbconvert_exporter": "python",
   "pygments_lexer": "ipython3",
   "version": "3.8.16"
  },
  "papermill": {
   "default_parameters": {},
   "duration": 3851.265348,
   "end_time": "2022-05-01T12:27:35.412308",
   "environment_variables": {},
   "exception": null,
   "input_path": "__notebook__.ipynb",
   "output_path": "__notebook__.ipynb",
   "parameters": {},
   "start_time": "2022-05-01T11:23:24.146960",
   "version": "2.3.4"
  }
 },
 "nbformat": 4,
 "nbformat_minor": 5
}
